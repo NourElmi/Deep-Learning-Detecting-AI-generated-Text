{
 "cells": [
  {
   "cell_type": "markdown",
   "id": "ff441d33",
   "metadata": {
    "papermill": {
     "duration": 0.012163,
     "end_time": "2024-01-19T14:21:43.862591",
     "exception": false,
     "start_time": "2024-01-19T14:21:43.850428",
     "status": "completed"
    },
    "tags": []
   },
   "source": [
    "# ***Download libraries and their import***"
   ]
  },
  {
   "cell_type": "markdown",
   "id": "21d77c18",
   "metadata": {
    "papermill": {
     "duration": 0.010886,
     "end_time": "2024-01-19T14:21:43.885300",
     "exception": false,
     "start_time": "2024-01-19T14:21:43.874414",
     "status": "completed"
    },
    "tags": []
   },
   "source": [
    "# **--------------------------------------**"
   ]
  },
  {
   "cell_type": "code",
   "execution_count": 1,
   "id": "affd93b0",
   "metadata": {
    "execution": {
     "iopub.execute_input": "2024-01-19T14:21:43.909380Z",
     "iopub.status.busy": "2024-01-19T14:21:43.908992Z",
     "iopub.status.idle": "2024-01-19T14:22:22.189287Z",
     "shell.execute_reply": "2024-01-19T14:22:22.188287Z"
    },
    "papermill": {
     "duration": 38.295012,
     "end_time": "2024-01-19T14:22:22.191613",
     "exception": false,
     "start_time": "2024-01-19T14:21:43.896601",
     "status": "completed"
    },
    "tags": []
   },
   "outputs": [
    {
     "name": "stdout",
     "output_type": "stream",
     "text": [
      "Requirement already satisfied: keras-core in /opt/conda/lib/python3.10/site-packages (0.1.7)\r\n",
      "Requirement already satisfied: absl-py in /opt/conda/lib/python3.10/site-packages (from keras-core) (1.4.0)\r\n",
      "Requirement already satisfied: numpy in /opt/conda/lib/python3.10/site-packages (from keras-core) (1.24.3)\r\n",
      "Requirement already satisfied: rich in /opt/conda/lib/python3.10/site-packages (from keras-core) (13.5.2)\r\n",
      "Requirement already satisfied: namex in /opt/conda/lib/python3.10/site-packages (from keras-core) (0.0.7)\r\n",
      "Requirement already satisfied: h5py in /opt/conda/lib/python3.10/site-packages (from keras-core) (3.9.0)\r\n",
      "Requirement already satisfied: dm-tree in /opt/conda/lib/python3.10/site-packages (from keras-core) (0.1.8)\r\n",
      "Requirement already satisfied: markdown-it-py>=2.2.0 in /opt/conda/lib/python3.10/site-packages (from rich->keras-core) (3.0.0)\r\n",
      "Requirement already satisfied: pygments<3.0.0,>=2.13.0 in /opt/conda/lib/python3.10/site-packages (from rich->keras-core) (2.16.1)\r\n",
      "Requirement already satisfied: mdurl~=0.1 in /opt/conda/lib/python3.10/site-packages (from markdown-it-py>=2.2.0->rich->keras-core) (0.1.2)\r\n",
      "Requirement already satisfied: seaborn in /opt/conda/lib/python3.10/site-packages (0.12.2)\r\n",
      "Requirement already satisfied: numpy!=1.24.0,>=1.17 in /opt/conda/lib/python3.10/site-packages (from seaborn) (1.24.3)\r\n",
      "Requirement already satisfied: pandas>=0.25 in /opt/conda/lib/python3.10/site-packages (from seaborn) (2.0.3)\r\n",
      "Requirement already satisfied: matplotlib!=3.6.1,>=3.1 in /opt/conda/lib/python3.10/site-packages (from seaborn) (3.7.4)\r\n",
      "Requirement already satisfied: contourpy>=1.0.1 in /opt/conda/lib/python3.10/site-packages (from matplotlib!=3.6.1,>=3.1->seaborn) (1.1.0)\r\n",
      "Requirement already satisfied: cycler>=0.10 in /opt/conda/lib/python3.10/site-packages (from matplotlib!=3.6.1,>=3.1->seaborn) (0.11.0)\r\n",
      "Requirement already satisfied: fonttools>=4.22.0 in /opt/conda/lib/python3.10/site-packages (from matplotlib!=3.6.1,>=3.1->seaborn) (4.42.1)\r\n",
      "Requirement already satisfied: kiwisolver>=1.0.1 in /opt/conda/lib/python3.10/site-packages (from matplotlib!=3.6.1,>=3.1->seaborn) (1.4.4)\r\n",
      "Requirement already satisfied: packaging>=20.0 in /opt/conda/lib/python3.10/site-packages (from matplotlib!=3.6.1,>=3.1->seaborn) (21.3)\r\n",
      "Requirement already satisfied: pillow>=6.2.0 in /opt/conda/lib/python3.10/site-packages (from matplotlib!=3.6.1,>=3.1->seaborn) (9.5.0)\r\n",
      "Requirement already satisfied: pyparsing>=2.3.1 in /opt/conda/lib/python3.10/site-packages (from matplotlib!=3.6.1,>=3.1->seaborn) (3.0.9)\r\n",
      "Requirement already satisfied: python-dateutil>=2.7 in /opt/conda/lib/python3.10/site-packages (from matplotlib!=3.6.1,>=3.1->seaborn) (2.8.2)\r\n",
      "Requirement already satisfied: pytz>=2020.1 in /opt/conda/lib/python3.10/site-packages (from pandas>=0.25->seaborn) (2023.3)\r\n",
      "Requirement already satisfied: tzdata>=2022.1 in /opt/conda/lib/python3.10/site-packages (from pandas>=0.25->seaborn) (2023.3)\r\n",
      "Requirement already satisfied: six>=1.5 in /opt/conda/lib/python3.10/site-packages (from python-dateutil>=2.7->matplotlib!=3.6.1,>=3.1->seaborn) (1.16.0)\r\n"
     ]
    }
   ],
   "source": [
    "!pip install keras-core --upgrade\n",
    "!pip install -q keras-nlp\n",
    "!pip install seaborn"
   ]
  },
  {
   "cell_type": "code",
   "execution_count": 2,
   "id": "d817f88b",
   "metadata": {
    "execution": {
     "iopub.execute_input": "2024-01-19T14:22:22.218365Z",
     "iopub.status.busy": "2024-01-19T14:22:22.218002Z",
     "iopub.status.idle": "2024-01-19T14:22:38.442005Z",
     "shell.execute_reply": "2024-01-19T14:22:38.440963Z"
    },
    "papermill": {
     "duration": 16.240174,
     "end_time": "2024-01-19T14:22:38.444217",
     "exception": false,
     "start_time": "2024-01-19T14:22:22.204043",
     "status": "completed"
    },
    "tags": []
   },
   "outputs": [
    {
     "name": "stderr",
     "output_type": "stream",
     "text": [
      "/opt/conda/lib/python3.10/site-packages/scipy/__init__.py:146: UserWarning: A NumPy version >=1.16.5 and <1.23.0 is required for this version of SciPy (detected version 1.24.3\n",
      "  warnings.warn(f\"A NumPy version >={np_minversion} and <{np_maxversion}\"\n"
     ]
    },
    {
     "name": "stdout",
     "output_type": "stream",
     "text": [
      "Using TensorFlow backend\n",
      "TensorFlow version: 2.13.0\n",
      "Keras version: 0.1.7\n",
      "KerasNLP version: 0.7.0\n"
     ]
    }
   ],
   "source": [
    "import os\n",
    "os.environ['KERAS_BACKEND'] = 'tensorflow'\n",
    "import numpy as np # linear algebra\n",
    "import pandas as pd # data processing, CSV file I/O (e.g. pd.read_csv)\n",
    "import tensorflow as tf\n",
    "import keras_core as keras\n",
    "import keras_nlp\n",
    "import seaborn as sns\n",
    "import matplotlib.pyplot as plt\n",
    "\n",
    "#this step not mandatory , just for avoiding problem caused by \n",
    "print(\"TensorFlow version:\", tf.__version__)\n",
    "print(\"Keras version:\", keras.__version__)\n",
    "print(\"KerasNLP version:\", keras_nlp.__version__)"
   ]
  },
  {
   "cell_type": "markdown",
   "id": "9a7995a3",
   "metadata": {
    "papermill": {
     "duration": 0.011729,
     "end_time": "2024-01-19T14:22:38.468458",
     "exception": false,
     "start_time": "2024-01-19T14:22:38.456729",
     "status": "completed"
    },
    "tags": []
   },
   "source": [
    "# ***Read Train_Data and identify different classes***"
   ]
  },
  {
   "cell_type": "markdown",
   "id": "4fbb0a29",
   "metadata": {
    "papermill": {
     "duration": 0.011627,
     "end_time": "2024-01-19T14:22:38.492007",
     "exception": false,
     "start_time": "2024-01-19T14:22:38.480380",
     "status": "completed"
    },
    "tags": []
   },
   "source": [
    "# **--------------------------------------**"
   ]
  },
  {
   "cell_type": "code",
   "execution_count": 3,
   "id": "22505d65",
   "metadata": {
    "execution": {
     "iopub.execute_input": "2024-01-19T14:22:38.519872Z",
     "iopub.status.busy": "2024-01-19T14:22:38.519125Z",
     "iopub.status.idle": "2024-01-19T14:22:38.648007Z",
     "shell.execute_reply": "2024-01-19T14:22:38.646981Z"
    },
    "papermill": {
     "duration": 0.144917,
     "end_time": "2024-01-19T14:22:38.650148",
     "exception": false,
     "start_time": "2024-01-19T14:22:38.505231",
     "status": "completed"
    },
    "tags": []
   },
   "outputs": [
    {
     "name": "stdout",
     "output_type": "stream",
     "text": [
      "<class 'pandas.core.frame.DataFrame'>\n",
      "RangeIndex: 1378 entries, 0 to 1377\n",
      "Data columns (total 4 columns):\n",
      " #   Column     Non-Null Count  Dtype \n",
      "---  ------     --------------  ----- \n",
      " 0   id         1378 non-null   object\n",
      " 1   prompt_id  1378 non-null   int64 \n",
      " 2   text       1378 non-null   object\n",
      " 3   generated  1378 non-null   int64 \n",
      "dtypes: int64(2), object(2)\n",
      "memory usage: 43.2+ KB\n",
      "None\n",
      "\n",
      "\n",
      " ### THIS IS THE CLASSES THAT WE HAVE : # [0 1] ### The CLASS 1 REPRESENT TEXTS GENERATED BY IA AND THE CLASS 0 REPRESENT TEXTS GENERATED BY HUMAN\n",
      "\n",
      "\n"
     ]
    },
    {
     "data": {
      "text/html": [
       "<div>\n",
       "<style scoped>\n",
       "    .dataframe tbody tr th:only-of-type {\n",
       "        vertical-align: middle;\n",
       "    }\n",
       "\n",
       "    .dataframe tbody tr th {\n",
       "        vertical-align: top;\n",
       "    }\n",
       "\n",
       "    .dataframe thead th {\n",
       "        text-align: right;\n",
       "    }\n",
       "</style>\n",
       "<table border=\"1\" class=\"dataframe\">\n",
       "  <thead>\n",
       "    <tr style=\"text-align: right;\">\n",
       "      <th></th>\n",
       "      <th>id</th>\n",
       "      <th>prompt_id</th>\n",
       "      <th>text</th>\n",
       "      <th>generated</th>\n",
       "    </tr>\n",
       "  </thead>\n",
       "  <tbody>\n",
       "    <tr>\n",
       "      <th>0</th>\n",
       "      <td>0059830c</td>\n",
       "      <td>0</td>\n",
       "      <td>Cars. Cars have been around since they became ...</td>\n",
       "      <td>0</td>\n",
       "    </tr>\n",
       "    <tr>\n",
       "      <th>1</th>\n",
       "      <td>005db917</td>\n",
       "      <td>0</td>\n",
       "      <td>Transportation is a large necessity in most co...</td>\n",
       "      <td>0</td>\n",
       "    </tr>\n",
       "    <tr>\n",
       "      <th>2</th>\n",
       "      <td>008f63e3</td>\n",
       "      <td>0</td>\n",
       "      <td>\"America's love affair with it's vehicles seem...</td>\n",
       "      <td>0</td>\n",
       "    </tr>\n",
       "    <tr>\n",
       "      <th>3</th>\n",
       "      <td>00940276</td>\n",
       "      <td>0</td>\n",
       "      <td>How often do you ride in a car? Do you drive a...</td>\n",
       "      <td>0</td>\n",
       "    </tr>\n",
       "    <tr>\n",
       "      <th>4</th>\n",
       "      <td>00c39458</td>\n",
       "      <td>0</td>\n",
       "      <td>Cars are a wonderful thing. They are perhaps o...</td>\n",
       "      <td>0</td>\n",
       "    </tr>\n",
       "  </tbody>\n",
       "</table>\n",
       "</div>"
      ],
      "text/plain": [
       "         id  prompt_id                                               text  \\\n",
       "0  0059830c          0  Cars. Cars have been around since they became ...   \n",
       "1  005db917          0  Transportation is a large necessity in most co...   \n",
       "2  008f63e3          0  \"America's love affair with it's vehicles seem...   \n",
       "3  00940276          0  How often do you ride in a car? Do you drive a...   \n",
       "4  00c39458          0  Cars are a wonderful thing. They are perhaps o...   \n",
       "\n",
       "   generated  \n",
       "0          0  \n",
       "1          0  \n",
       "2          0  \n",
       "3          0  \n",
       "4          0  "
      ]
     },
     "execution_count": 3,
     "metadata": {},
     "output_type": "execute_result"
    }
   ],
   "source": [
    "#read train_data\n",
    "DATA_DIR = '/kaggle/input/llm-detect-ai-generated-text/'\n",
    "data_data_train_final = pd.read_csv(DATA_DIR + \"train_essays.csv\")\n",
    "# Display information about the DataFrame\n",
    "print(data_data_train_final.info())\n",
    "\n",
    "# Collect unique values in the 'generated' column\n",
    "classes = data_data_train_final['generated'].unique()\n",
    "maxsize = data_data_train_final['text'].apply(len).max()\n",
    "\n",
    "# Print the unique values \n",
    "\n",
    "print('\\n\\n ### THIS IS THE CLASSES THAT WE HAVE : #',classes,'### The CLASS 1 REPRESENT TEXTS GENERATED BY IA AND THE CLASS 0 REPRESENT TEXTS GENERATED BY HUMAN\\n\\n')\n",
    "data_data_train_final.head()\n"
   ]
  },
  {
   "cell_type": "markdown",
   "id": "15b82ca3",
   "metadata": {
    "papermill": {
     "duration": 0.012387,
     "end_time": "2024-01-19T14:22:38.676294",
     "exception": false,
     "start_time": "2024-01-19T14:22:38.663907",
     "status": "completed"
    },
    "tags": []
   },
   "source": [
    "*  We can see that we have 2 classes. And we need to work on the dimension of the texts because they are really huge."
   ]
  },
  {
   "cell_type": "markdown",
   "id": "0ac95839",
   "metadata": {
    "papermill": {
     "duration": 0.012668,
     "end_time": "2024-01-19T14:22:38.701944",
     "exception": false,
     "start_time": "2024-01-19T14:22:38.689276",
     "status": "completed"
    },
    "tags": []
   },
   "source": [
    "# ***Visualisation of train data***"
   ]
  },
  {
   "cell_type": "markdown",
   "id": "5df6b501",
   "metadata": {
    "papermill": {
     "duration": 0.012432,
     "end_time": "2024-01-19T14:22:38.727003",
     "exception": false,
     "start_time": "2024-01-19T14:22:38.714571",
     "status": "completed"
    },
    "tags": []
   },
   "source": [
    "# **--------------------------------------**"
   ]
  },
  {
   "cell_type": "code",
   "execution_count": 4,
   "id": "1284adf3",
   "metadata": {
    "execution": {
     "iopub.execute_input": "2024-01-19T14:22:38.806654Z",
     "iopub.status.busy": "2024-01-19T14:22:38.806239Z",
     "iopub.status.idle": "2024-01-19T14:22:39.141201Z",
     "shell.execute_reply": "2024-01-19T14:22:39.140207Z"
    },
    "papermill": {
     "duration": 0.353003,
     "end_time": "2024-01-19T14:22:39.143483",
     "exception": false,
     "start_time": "2024-01-19T14:22:38.790480",
     "status": "completed"
    },
    "tags": []
   },
   "outputs": [
    {
     "data": {
      "text/plain": [
       "Text(0.5, 1.0, 'Distibution of classes in in train essays')"
      ]
     },
     "execution_count": 4,
     "metadata": {},
     "output_type": "execute_result"
    },
    {
     "data": {
      "image/png": "[encoded data removed]",
      "text/plain": [
       "<Figure size 1200x400 with 1 Axes>"
      ]
     },
     "metadata": {},
     "output_type": "display_data"
    }
   ],
   "source": [
    "f, ax = plt.subplots(figsize=(12, 4))\n",
    "\n",
    "sns.despine()\n",
    "ax = sns.countplot(data=data_data_train_final,\n",
    "                   x=\"generated\", palette=['skyblue', 'purple'])\n",
    "\n",
    "abs_values = data_data_train_final['generated'].value_counts().values\n",
    "\n",
    "ax.bar_label(container=ax.containers[0], labels=abs_values)\n",
    "\n",
    "ax.set_title(\"Distibution of classes in in train essays\")\n"
   ]
  },
  {
   "cell_type": "code",
   "execution_count": 5,
   "id": "d8443753",
   "metadata": {
    "execution": {
     "iopub.execute_input": "2024-01-19T14:22:39.172465Z",
     "iopub.status.busy": "2024-01-19T14:22:39.171747Z",
     "iopub.status.idle": "2024-01-19T14:22:39.339856Z",
     "shell.execute_reply": "2024-01-19T14:22:39.338421Z"
    },
    "papermill": {
     "duration": 0.186024,
     "end_time": "2024-01-19T14:22:39.343772",
     "exception": false,
     "start_time": "2024-01-19T14:22:39.157748",
     "status": "completed"
    },
    "tags": []
   },
   "outputs": [
    {
     "name": "stdout",
     "output_type": "stream",
     "text": [
      "generated\n",
      "0    1375\n",
      "1       3\n",
      "Name: count, dtype: int64\n"
     ]
    },
    {
     "data": {
      "image/png": "[encoded data removed]",
      "text/plain": [
       "<Figure size 300x300 with 1 Axes>"
      ]
     },
     "metadata": {},
     "output_type": "display_data"
    }
   ],
   "source": [
    "generated_count =data_data_train_final['generated'].value_counts()\n",
    "print(generated_count)\n",
    "labels = generated_count.index\n",
    "explode = (0, 0.2)\n",
    "plt.figure(figsize=(3,3))\n",
    "plt.pie(generated_count, labels=labels, autopct='%1.1f%%', explode=explode, startangle=90,colors=['skyblue', 'purple'])\n",
    "plt.title('Distribution of Generated Values')\n",
    "legend_labels = ['Human_generated', 'ia_generated']\n",
    "plt.legend(legend_labels, loc='right',fontsize='small')\n",
    "plt.show()"
   ]
  },
  {
   "cell_type": "markdown",
   "id": "cb292f4c",
   "metadata": {
    "papermill": {
     "duration": 0.031878,
     "end_time": "2024-01-19T14:22:39.409870",
     "exception": false,
     "start_time": "2024-01-19T14:22:39.377992",
     "status": "completed"
    },
    "tags": []
   },
   "source": [
    "* We can see that our Data is not balanced . So we will move to adding data to our data set in order to balance it ."
   ]
  },
  {
   "cell_type": "markdown",
   "id": "fb2f2806",
   "metadata": {
    "papermill": {
     "duration": 0.012988,
     "end_time": "2024-01-19T14:22:39.439947",
     "exception": false,
     "start_time": "2024-01-19T14:22:39.426959",
     "status": "completed"
    },
    "tags": []
   },
   "source": [
    "# **Add New data**"
   ]
  },
  {
   "cell_type": "markdown",
   "id": "1b19c4db",
   "metadata": {
    "papermill": {
     "duration": 0.013191,
     "end_time": "2024-01-19T14:22:39.466312",
     "exception": false,
     "start_time": "2024-01-19T14:22:39.453121",
     "status": "completed"
    },
    "tags": []
   },
   "source": [
    "# **--------------------------------------**"
   ]
  },
  {
   "cell_type": "code",
   "execution_count": 6,
   "id": "eff64b87",
   "metadata": {
    "execution": {
     "iopub.execute_input": "2024-01-19T14:22:39.495468Z",
     "iopub.status.busy": "2024-01-19T14:22:39.495063Z",
     "iopub.status.idle": "2024-01-19T14:22:41.642971Z",
     "shell.execute_reply": "2024-01-19T14:22:41.640019Z"
    },
    "papermill": {
     "duration": 2.167009,
     "end_time": "2024-01-19T14:22:41.647102",
     "exception": false,
     "start_time": "2024-01-19T14:22:39.480093",
     "status": "completed"
    },
    "tags": []
   },
   "outputs": [
    {
     "name": "stdout",
     "output_type": "stream",
     "text": [
      "label\n",
      "0    27371\n",
      "1    17497\n",
      "Name: count, dtype: int64\n"
     ]
    },
    {
     "data": {
      "image/png": "[encoded data removed]",
      "text/plain": [
       "<Figure size 300x300 with 1 Axes>"
      ]
     },
     "metadata": {},
     "output_type": "display_data"
    }
   ],
   "source": [
    "#LETS SEE THE DISTRIBUTION OF THE DATA THAT WE WILL ADD\n",
    "new_data= pd.read_csv(\"/kaggle/input/daigt-v2-train-dataset/train_v2_drcat_02.csv\")\n",
    "new_data.head(10)\n",
    "generated_count =new_data['label'].value_counts()\n",
    "print(generated_count)\n",
    "labels = generated_count.index\n",
    "explode = (0, 0.2)\n",
    "plt.figure(figsize=(3,3))\n",
    "plt.pie(generated_count, labels=labels, autopct='%1.1f%%', explode=explode, startangle=90 ,colors=['skyblue', 'purple'])\n",
    "plt.title('Distribution of Generated Values')\n",
    "legend_labels = ['Human_generated', 'ia_generated']\n",
    "plt.legend(legend_labels, loc='lower right',fontsize='small')\n",
    "plt.show()"
   ]
  },
  {
   "cell_type": "code",
   "execution_count": 7,
   "id": "40b84575",
   "metadata": {
    "execution": {
     "iopub.execute_input": "2024-01-19T14:22:41.718169Z",
     "iopub.status.busy": "2024-01-19T14:22:41.717766Z",
     "iopub.status.idle": "2024-01-19T14:22:41.746972Z",
     "shell.execute_reply": "2024-01-19T14:22:41.742934Z"
    },
    "papermill": {
     "duration": 0.068033,
     "end_time": "2024-01-19T14:22:41.750095",
     "exception": false,
     "start_time": "2024-01-19T14:22:41.682062",
     "status": "completed"
    },
    "tags": []
   },
   "outputs": [],
   "source": [
    "#Here we will choose randomly data from the data that we will use to make our dataset balanced\n",
    "# we will choose randomly essays that was written by ia and others written with human. \n",
    "new_data.rename(columns={'label':'generated'}, inplace=True)     ## Rename data\n",
    "random_generated_data_ai = new_data[new_data['generated'] == 1].sample(n=2070, random_state=42)     ## Select 2000 random data point of ai genrated\n",
    "random_generated_data_human = new_data[new_data['generated'] == 0].sample(n=700, random_state=42)   ## Select 2000 random data point of Human genrated\n",
    "\n",
    "train_essay_selected = data_data_train_final[['text', 'generated']]\n",
    "data_train_final = pd.concat([train_essay_selected, random_generated_data_ai[['text', 'generated']],random_generated_data_human[['text', 'generated']]])    ## Create data set for training containg label and Text\n",
    "data_train_final = data_train_final.sample(frac=1, random_state=42).reset_index(drop=True)"
   ]
  },
  {
   "cell_type": "code",
   "execution_count": 8,
   "id": "e252f52d",
   "metadata": {
    "execution": {
     "iopub.execute_input": "2024-01-19T14:22:41.785118Z",
     "iopub.status.busy": "2024-01-19T14:22:41.784217Z",
     "iopub.status.idle": "2024-01-19T14:22:41.945250Z",
     "shell.execute_reply": "2024-01-19T14:22:41.943457Z"
    },
    "papermill": {
     "duration": 0.182734,
     "end_time": "2024-01-19T14:22:41.949751",
     "exception": false,
     "start_time": "2024-01-19T14:22:41.767017",
     "status": "completed"
    },
    "tags": []
   },
   "outputs": [
    {
     "name": "stdout",
     "output_type": "stream",
     "text": [
      "generated\n",
      "0    2075\n",
      "1    2073\n",
      "Name: count, dtype: int64\n"
     ]
    },
    {
     "data": {
      "image/png": "[encoded data removed]",
      "text/plain": [
       "<Figure size 300x300 with 1 Axes>"
      ]
     },
     "metadata": {},
     "output_type": "display_data"
    }
   ],
   "source": [
    "generated_count = data_train_final['generated'].value_counts()\n",
    "print(generated_count)\n",
    "labels = generated_count.index\n",
    "explode = (0, 0.2)\n",
    "plt.figure(figsize=(3,3))\n",
    "plt.pie(generated_count, labels=labels, autopct='%1.1f%%', explode=explode, startangle=90 ,colors=['skyblue', 'purple'])\n",
    "plt.title('Distribution of Generated Values')\n",
    "legend_labels = ['Human_generated', 'ia_generated']\n",
    "plt.legend(legend_labels, loc='lower right',fontsize='small')\n",
    "plt.show()"
   ]
  },
  {
   "cell_type": "markdown",
   "id": "63a9fade",
   "metadata": {
    "papermill": {
     "duration": 0.028399,
     "end_time": "2024-01-19T14:22:42.006008",
     "exception": false,
     "start_time": "2024-01-19T14:22:41.977609",
     "status": "completed"
    },
    "tags": []
   },
   "source": [
    "Now our Data is balanced"
   ]
  },
  {
   "cell_type": "markdown",
   "id": "1a8d6b0b",
   "metadata": {
    "papermill": {
     "duration": 0.014057,
     "end_time": "2024-01-19T14:22:42.043231",
     "exception": false,
     "start_time": "2024-01-19T14:22:42.029174",
     "status": "completed"
    },
    "tags": []
   },
   "source": [
    "# **Add New Test Data**"
   ]
  },
  {
   "cell_type": "markdown",
   "id": "141d314e",
   "metadata": {
    "papermill": {
     "duration": 0.014569,
     "end_time": "2024-01-19T14:22:42.073368",
     "exception": false,
     "start_time": "2024-01-19T14:22:42.058799",
     "status": "completed"
    },
    "tags": []
   },
   "source": [
    "# **--------------------------------------**"
   ]
  },
  {
   "cell_type": "code",
   "execution_count": 9,
   "id": "16abd24d",
   "metadata": {
    "execution": {
     "iopub.execute_input": "2024-01-19T14:22:42.107552Z",
     "iopub.status.busy": "2024-01-19T14:22:42.106567Z",
     "iopub.status.idle": "2024-01-19T14:22:44.333425Z",
     "shell.execute_reply": "2024-01-19T14:22:44.332195Z"
    },
    "papermill": {
     "duration": 2.246949,
     "end_time": "2024-01-19T14:22:44.335691",
     "exception": false,
     "start_time": "2024-01-19T14:22:42.088742",
     "status": "completed"
    },
    "tags": []
   },
   "outputs": [
    {
     "name": "stdout",
     "output_type": "stream",
     "text": [
      "\n",
      "\n"
     ]
    },
    {
     "data": {
      "text/html": [
       "<div>\n",
       "<style scoped>\n",
       "    .dataframe tbody tr th:only-of-type {\n",
       "        vertical-align: middle;\n",
       "    }\n",
       "\n",
       "    .dataframe tbody tr th {\n",
       "        vertical-align: top;\n",
       "    }\n",
       "\n",
       "    .dataframe thead th {\n",
       "        text-align: right;\n",
       "    }\n",
       "</style>\n",
       "<table border=\"1\" class=\"dataframe\">\n",
       "  <thead>\n",
       "    <tr style=\"text-align: right;\">\n",
       "      <th></th>\n",
       "      <th>essay_id</th>\n",
       "      <th>text</th>\n",
       "      <th>label</th>\n",
       "      <th>source</th>\n",
       "      <th>prompt</th>\n",
       "      <th>fold</th>\n",
       "    </tr>\n",
       "  </thead>\n",
       "  <tbody>\n",
       "    <tr>\n",
       "      <th>0</th>\n",
       "      <td>E897534557AF</td>\n",
       "      <td>In recent years, technology has had a profoun...</td>\n",
       "      <td>1</td>\n",
       "      <td>mistral7binstruct_v2</td>\n",
       "      <td>\\nTask: Write an essay discussing the positive...</td>\n",
       "      <td>1</td>\n",
       "    </tr>\n",
       "    <tr>\n",
       "      <th>1</th>\n",
       "      <td>DFBA34FFE11D</td>\n",
       "      <td>Should students participate in an extracurricu...</td>\n",
       "      <td>0</td>\n",
       "      <td>persuade_corpus</td>\n",
       "      <td>NaN</td>\n",
       "      <td>2</td>\n",
       "    </tr>\n",
       "    <tr>\n",
       "      <th>2</th>\n",
       "      <td>af37ecf5</td>\n",
       "      <td>The electoral college is a symbol of mockery a...</td>\n",
       "      <td>0</td>\n",
       "      <td>train_essays</td>\n",
       "      <td>NaN</td>\n",
       "      <td>5</td>\n",
       "    </tr>\n",
       "    <tr>\n",
       "      <th>3</th>\n",
       "      <td>5EC2696BAD78</td>\n",
       "      <td>This is why I think the principle should allow...</td>\n",
       "      <td>0</td>\n",
       "      <td>persuade_corpus</td>\n",
       "      <td>NaN</td>\n",
       "      <td>8</td>\n",
       "    </tr>\n",
       "    <tr>\n",
       "      <th>4</th>\n",
       "      <td>llama_70b_v1843</td>\n",
       "      <td>I strongly believe that meditation and mindful...</td>\n",
       "      <td>1</td>\n",
       "      <td>llama_70b_v1</td>\n",
       "      <td>Some schools have implemented meditation and m...</td>\n",
       "      <td>0</td>\n",
       "    </tr>\n",
       "  </tbody>\n",
       "</table>\n",
       "</div>"
      ],
      "text/plain": [
       "          essay_id                                               text  label  \\\n",
       "0     E897534557AF   In recent years, technology has had a profoun...      1   \n",
       "1     DFBA34FFE11D  Should students participate in an extracurricu...      0   \n",
       "2         af37ecf5  The electoral college is a symbol of mockery a...      0   \n",
       "3     5EC2696BAD78  This is why I think the principle should allow...      0   \n",
       "4  llama_70b_v1843  I strongly believe that meditation and mindful...      1   \n",
       "\n",
       "                 source                                             prompt  \\\n",
       "0  mistral7binstruct_v2  \\nTask: Write an essay discussing the positive...   \n",
       "1       persuade_corpus                                                NaN   \n",
       "2          train_essays                                                NaN   \n",
       "3       persuade_corpus                                                NaN   \n",
       "4          llama_70b_v1  Some schools have implemented meditation and m...   \n",
       "\n",
       "   fold  \n",
       "0     1  \n",
       "1     2  \n",
       "2     5  \n",
       "3     8  \n",
       "4     0  "
      ]
     },
     "metadata": {},
     "output_type": "display_data"
    },
    {
     "name": "stdout",
     "output_type": "stream",
     "text": [
      "\n",
      "  • we removed the Labels from the data set and we kept the text and essays_id so that we can use this data to test our models. \n",
      " This is the final data set:\n",
      "\n",
      "\n",
      "\n"
     ]
    },
    {
     "data": {
      "text/html": [
       "<div>\n",
       "<style scoped>\n",
       "    .dataframe tbody tr th:only-of-type {\n",
       "        vertical-align: middle;\n",
       "    }\n",
       "\n",
       "    .dataframe tbody tr th {\n",
       "        vertical-align: top;\n",
       "    }\n",
       "\n",
       "    .dataframe thead th {\n",
       "        text-align: right;\n",
       "    }\n",
       "</style>\n",
       "<table border=\"1\" class=\"dataframe\">\n",
       "  <thead>\n",
       "    <tr style=\"text-align: right;\">\n",
       "      <th></th>\n",
       "      <th>essay_id</th>\n",
       "      <th>text</th>\n",
       "      <th>source</th>\n",
       "      <th>fold</th>\n",
       "    </tr>\n",
       "  </thead>\n",
       "  <tbody>\n",
       "    <tr>\n",
       "      <th>0</th>\n",
       "      <td>E897534557AF</td>\n",
       "      <td>In recent years, technology has had a profoun...</td>\n",
       "      <td>mistral7binstruct_v2</td>\n",
       "      <td>1</td>\n",
       "    </tr>\n",
       "    <tr>\n",
       "      <th>1</th>\n",
       "      <td>DFBA34FFE11D</td>\n",
       "      <td>Should students participate in an extracurricu...</td>\n",
       "      <td>persuade_corpus</td>\n",
       "      <td>2</td>\n",
       "    </tr>\n",
       "    <tr>\n",
       "      <th>2</th>\n",
       "      <td>af37ecf5</td>\n",
       "      <td>The electoral college is a symbol of mockery a...</td>\n",
       "      <td>train_essays</td>\n",
       "      <td>5</td>\n",
       "    </tr>\n",
       "    <tr>\n",
       "      <th>3</th>\n",
       "      <td>5EC2696BAD78</td>\n",
       "      <td>This is why I think the principle should allow...</td>\n",
       "      <td>persuade_corpus</td>\n",
       "      <td>8</td>\n",
       "    </tr>\n",
       "    <tr>\n",
       "      <th>4</th>\n",
       "      <td>llama_70b_v1843</td>\n",
       "      <td>I strongly believe that meditation and mindful...</td>\n",
       "      <td>llama_70b_v1</td>\n",
       "      <td>0</td>\n",
       "    </tr>\n",
       "  </tbody>\n",
       "</table>\n",
       "</div>"
      ],
      "text/plain": [
       "          essay_id                                               text  \\\n",
       "0     E897534557AF   In recent years, technology has had a profoun...   \n",
       "1     DFBA34FFE11D  Should students participate in an extracurricu...   \n",
       "2         af37ecf5  The electoral college is a symbol of mockery a...   \n",
       "3     5EC2696BAD78  This is why I think the principle should allow...   \n",
       "4  llama_70b_v1843  I strongly believe that meditation and mindful...   \n",
       "\n",
       "                 source  fold  \n",
       "0  mistral7binstruct_v2     1  \n",
       "1       persuade_corpus     2  \n",
       "2          train_essays     5  \n",
       "3       persuade_corpus     8  \n",
       "4          llama_70b_v1     0  "
      ]
     },
     "metadata": {},
     "output_type": "display_data"
    }
   ],
   "source": [
    "# Load the CSV file into a DataFrame\n",
    "df_test1 = pd.read_csv('/kaggle/input/daigt-proper-train-dataset/train_drcat_04.csv')\n",
    "df_test1.head()\n",
    "\n",
    "# Remove the column labels\n",
    "df_test = df_test1.iloc[2:]\n",
    "\n",
    "# Keep only the desired columns and the first 10 rows for example\n",
    "columns_to_keep = ['essay_id', 'text', 'source', 'fold']\n",
    "df_test = df_test1[columns_to_keep].head(10)\n",
    "\n",
    "# Display the resulting datasets\n",
    "print(\"\\n\")\n",
    "display(df_test1.head())\n",
    "print(\"\\n  • we removed the Labels from the data set and we kept the text and essays_id so that we can use this data to test our models. \\n This is the final data set:\\n\")\n",
    "print(\"\\n\")\n",
    "display(df_test.head())\n"
   ]
  },
  {
   "cell_type": "markdown",
   "id": "d9384658",
   "metadata": {
    "papermill": {
     "duration": 0.015094,
     "end_time": "2024-01-19T14:22:44.367143",
     "exception": false,
     "start_time": "2024-01-19T14:22:44.352049",
     "status": "completed"
    },
    "tags": []
   },
   "source": [
    "# **--------------------------------------**"
   ]
  },
  {
   "cell_type": "markdown",
   "id": "2632ffe0",
   "metadata": {
    "papermill": {
     "duration": 0.014727,
     "end_time": "2024-01-19T14:22:44.396692",
     "exception": false,
     "start_time": "2024-01-19T14:22:44.381965",
     "status": "completed"
    },
    "tags": []
   },
   "source": [
    " # **Transformer-Based model: BERT**"
   ]
  },
  {
   "cell_type": "code",
   "execution_count": 10,
   "id": "452df050",
   "metadata": {
    "execution": {
     "iopub.execute_input": "2024-01-19T14:22:44.428626Z",
     "iopub.status.busy": "2024-01-19T14:22:44.428232Z",
     "iopub.status.idle": "2024-01-19T14:22:44.432809Z",
     "shell.execute_reply": "2024-01-19T14:22:44.431840Z"
    },
    "papermill": {
     "duration": 0.022744,
     "end_time": "2024-01-19T14:22:44.434743",
     "exception": false,
     "start_time": "2024-01-19T14:22:44.411999",
     "status": "completed"
    },
    "tags": []
   },
   "outputs": [],
   "source": [
    "# # Assuming 'data_train_final.csv' is in the same directory as your script/notebook\n",
    "# data_train_final = pd.read_csv('/kaggle/input/llm-detect-ai-generated-text/data_train_final.csv')\n",
    "# test_essays = pd.read_csv('/kaggle/input/llm-detect-ai-generated-text/test_essays.csv')\n",
    "\n",
    "# # # Display the first few rows to inspect the data\n",
    "# # print(data_train_final.head())"
   ]
  },
  {
   "cell_type": "markdown",
   "id": "4ae76930",
   "metadata": {
    "papermill": {
     "duration": 0.0154,
     "end_time": "2024-01-19T14:22:44.465228",
     "exception": false,
     "start_time": "2024-01-19T14:22:44.449828",
     "status": "completed"
    },
    "tags": []
   },
   "source": [
    "> **Imports**"
   ]
  },
  {
   "cell_type": "code",
   "execution_count": 11,
   "id": "a7475773",
   "metadata": {
    "execution": {
     "iopub.execute_input": "2024-01-19T14:22:44.498781Z",
     "iopub.status.busy": "2024-01-19T14:22:44.498392Z",
     "iopub.status.idle": "2024-01-19T14:23:14.858087Z",
     "shell.execute_reply": "2024-01-19T14:23:14.856953Z"
    },
    "papermill": {
     "duration": 30.379737,
     "end_time": "2024-01-19T14:23:14.860737",
     "exception": false,
     "start_time": "2024-01-19T14:22:44.481000",
     "status": "completed"
    },
    "tags": []
   },
   "outputs": [
    {
     "name": "stdout",
     "output_type": "stream",
     "text": [
      "Requirement already satisfied: transformers in /opt/conda/lib/python3.10/site-packages (4.36.2)\r\n",
      "Requirement already satisfied: filelock in /opt/conda/lib/python3.10/site-packages (from transformers) (3.12.2)\r\n",
      "Requirement already satisfied: huggingface-hub<1.0,>=0.19.3 in /opt/conda/lib/python3.10/site-packages (from transformers) (0.20.2)\r\n",
      "Requirement already satisfied: numpy>=1.17 in /opt/conda/lib/python3.10/site-packages (from transformers) (1.24.3)\r\n",
      "Requirement already satisfied: packaging>=20.0 in /opt/conda/lib/python3.10/site-packages (from transformers) (21.3)\r\n",
      "Requirement already satisfied: pyyaml>=5.1 in /opt/conda/lib/python3.10/site-packages (from transformers) (6.0.1)\r\n",
      "Requirement already satisfied: regex!=2019.12.17 in /opt/conda/lib/python3.10/site-packages (from transformers) (2023.8.8)\r\n",
      "Requirement already satisfied: requests in /opt/conda/lib/python3.10/site-packages (from transformers) (2.31.0)\r\n",
      "Requirement already satisfied: tokenizers<0.19,>=0.14 in /opt/conda/lib/python3.10/site-packages (from transformers) (0.15.0)\r\n",
      "Requirement already satisfied: safetensors>=0.3.1 in /opt/conda/lib/python3.10/site-packages (from transformers) (0.4.1)\r\n",
      "Requirement already satisfied: tqdm>=4.27 in /opt/conda/lib/python3.10/site-packages (from transformers) (4.66.1)\r\n",
      "Requirement already satisfied: fsspec>=2023.5.0 in /opt/conda/lib/python3.10/site-packages (from huggingface-hub<1.0,>=0.19.3->transformers) (2023.12.2)\r\n",
      "Requirement already satisfied: typing-extensions>=3.7.4.3 in /opt/conda/lib/python3.10/site-packages (from huggingface-hub<1.0,>=0.19.3->transformers) (4.5.0)\r\n",
      "Requirement already satisfied: pyparsing!=3.0.5,>=2.0.2 in /opt/conda/lib/python3.10/site-packages (from packaging>=20.0->transformers) (3.0.9)\r\n",
      "Requirement already satisfied: charset-normalizer<4,>=2 in /opt/conda/lib/python3.10/site-packages (from requests->transformers) (3.2.0)\r\n",
      "Requirement already satisfied: idna<4,>=2.5 in /opt/conda/lib/python3.10/site-packages (from requests->transformers) (3.4)\r\n",
      "Requirement already satisfied: urllib3<3,>=1.21.1 in /opt/conda/lib/python3.10/site-packages (from requests->transformers) (1.26.15)\r\n",
      "Requirement already satisfied: certifi>=2017.4.17 in /opt/conda/lib/python3.10/site-packages (from requests->transformers) (2023.11.17)\r\n",
      "Requirement already satisfied: plotly in /opt/conda/lib/python3.10/site-packages (5.16.1)\r\n",
      "Requirement already satisfied: tenacity>=6.2.0 in /opt/conda/lib/python3.10/site-packages (from plotly) (8.2.3)\r\n",
      "Requirement already satisfied: packaging in /opt/conda/lib/python3.10/site-packages (from plotly) (21.3)\r\n",
      "Requirement already satisfied: pyparsing!=3.0.5,>=2.0.2 in /opt/conda/lib/python3.10/site-packages (from packaging->plotly) (3.0.9)\r\n"
     ]
    }
   ],
   "source": [
    "from sklearn.model_selection import train_test_split\n",
    "!pip install transformers\n",
    "from transformers import BertTokenizer\n",
    "from nltk.tokenize import sent_tokenize\n",
    "import torch\n",
    "from torch.utils.data import DataLoader, TensorDataset, random_split\n",
    "from transformers import BertTokenizer, BertForSequenceClassification, AdamW\n",
    "!pip install plotly\n",
    "import plotly.graph_objects as go\n",
    "from sklearn.metrics import confusion_matrix, classification_report, accuracy_score, precision_score, recall_score, f1_score"
   ]
  },
  {
   "cell_type": "markdown",
   "id": "58a0be9a",
   "metadata": {
    "papermill": {
     "duration": 0.016046,
     "end_time": "2024-01-19T14:23:14.893598",
     "exception": false,
     "start_time": "2024-01-19T14:23:14.877552",
     "status": "completed"
    },
    "tags": []
   },
   "source": [
    "> # **Transformer-Based model: BERT**"
   ]
  },
  {
   "cell_type": "markdown",
   "id": "1f6a1b99",
   "metadata": {
    "papermill": {
     "duration": 0.016198,
     "end_time": "2024-01-19T14:23:14.926490",
     "exception": false,
     "start_time": "2024-01-19T14:23:14.910292",
     "status": "completed"
    },
    "tags": []
   },
   "source": [
    "# **--------------------------------------------------------------**"
   ]
  },
  {
   "cell_type": "markdown",
   "id": "e167796b",
   "metadata": {
    "papermill": {
     "duration": 0.015965,
     "end_time": "2024-01-19T14:23:14.958461",
     "exception": false,
     "start_time": "2024-01-19T14:23:14.942496",
     "status": "completed"
    },
    "tags": []
   },
   "source": [
    "* **Step 1 : Data Split**\n",
    "    * Split the data into training and validation sets"
   ]
  },
  {
   "cell_type": "code",
   "execution_count": 12,
   "id": "fbd7d1eb",
   "metadata": {
    "execution": {
     "iopub.execute_input": "2024-01-19T14:23:14.994185Z",
     "iopub.status.busy": "2024-01-19T14:23:14.992242Z",
     "iopub.status.idle": "2024-01-19T14:23:15.008431Z",
     "shell.execute_reply": "2024-01-19T14:23:15.007498Z"
    },
    "papermill": {
     "duration": 0.035867,
     "end_time": "2024-01-19T14:23:15.010799",
     "exception": false,
     "start_time": "2024-01-19T14:23:14.974932",
     "status": "completed"
    },
    "tags": []
   },
   "outputs": [],
   "source": [
    "X_train, X_val, y_train, y_val = train_test_split(data_train_final['text'], data_train_final['generated'], test_size=0.2, random_state=42)"
   ]
  },
  {
   "cell_type": "markdown",
   "id": "b06a689f",
   "metadata": {
    "papermill": {
     "duration": 0.015565,
     "end_time": "2024-01-19T14:23:15.043895",
     "exception": false,
     "start_time": "2024-01-19T14:23:15.028330",
     "status": "completed"
    },
    "tags": []
   },
   "source": [
    "* **Step 2 : BertTokenizer Tokenization and Encoding**\n",
    "    * We use the Hugging Face Transformers library to tokenize and encode text data for training a model, specifically using the BERT (Bidirectional Encoder Representations from Transformers) model \n",
    "        * **padding**=True indicates that the tokenizer should add padding tokens to ensure **all sequences have the same length**\n",
    "        * **truncation**=True indicates that the tokenizer should truncate sequences that exceed the specified max_length.    \n",
    "        * return_tensors='pt' indicates that the output should be in **PyTorch tensor format**.\n",
    "    * In deep learning and neural networks, input data needs to be in numerical form for the model to process it effectively. So When we tokenize and encode text using a tokenizer like BERT, each word or subword in the text is represented by a **numerical ID** (integer). These numerical IDs are then **organized into tensors**, which are multi-dimensional arrays of numerical values. The tensor representation allows the model to perform mathematical operations and learn patterns in the data.        \n"
   ]
  },
  {
   "cell_type": "code",
   "execution_count": 13,
   "id": "8e0e47fb",
   "metadata": {
    "execution": {
     "iopub.execute_input": "2024-01-19T14:23:15.076582Z",
     "iopub.status.busy": "2024-01-19T14:23:15.075855Z",
     "iopub.status.idle": "2024-01-19T14:24:24.312430Z",
     "shell.execute_reply": "2024-01-19T14:24:24.311545Z"
    },
    "papermill": {
     "duration": 69.255567,
     "end_time": "2024-01-19T14:24:24.314960",
     "exception": false,
     "start_time": "2024-01-19T14:23:15.059393",
     "status": "completed"
    },
    "tags": []
   },
   "outputs": [
    {
     "data": {
      "application/vnd.jupyter.widget-view+json": {
       "model_id": "104b0da0de0442f2b95e43cd824c12e7",
       "version_major": 2,
       "version_minor": 0
      },
      "text/plain": [
       "tokenizer_config.json:   0%|          | 0.00/28.0 [00:00<?, ?B/s]"
      ]
     },
     "metadata": {},
     "output_type": "display_data"
    },
    {
     "data": {
      "application/vnd.jupyter.widget-view+json": {
       "model_id": "c1e18bd57a9444cfb75fd1090502c617",
       "version_major": 2,
       "version_minor": 0
      },
      "text/plain": [
       "vocab.txt:   0%|          | 0.00/232k [00:00<?, ?B/s]"
      ]
     },
     "metadata": {},
     "output_type": "display_data"
    },
    {
     "data": {
      "application/vnd.jupyter.widget-view+json": {
       "model_id": "a6fec8ef74334a55a4014f8b3ae669ef",
       "version_major": 2,
       "version_minor": 0
      },
      "text/plain": [
       "tokenizer.json:   0%|          | 0.00/466k [00:00<?, ?B/s]"
      ]
     },
     "metadata": {},
     "output_type": "display_data"
    },
    {
     "data": {
      "application/vnd.jupyter.widget-view+json": {
       "model_id": "337debe31247437e9db312142df352a7",
       "version_major": 2,
       "version_minor": 0
      },
      "text/plain": [
       "config.json:   0%|          | 0.00/570 [00:00<?, ?B/s]"
      ]
     },
     "metadata": {},
     "output_type": "display_data"
    }
   ],
   "source": [
    "# initializes a BERT tokenizer from the pre-trained 'bert-base-uncased' model.\n",
    "tokenizer11 = BertTokenizer.from_pretrained('bert-base-uncased', do_lower_case=True, padding=True, truncation=True, max_length=128)\n",
    "\n",
    "# Tokenizes and encodes the training & Validation text data using the initialized tokenizer\n",
    "encoded_train = tokenizer11(X_train.tolist(), padding=True, truncation=True, return_tensors='pt')\n",
    "encoded_val = tokenizer11(X_val.tolist(), padding=True, truncation=True, return_tensors='pt')"
   ]
  },
  {
   "cell_type": "markdown",
   "id": "9504f1e1",
   "metadata": {
    "papermill": {
     "duration": 0.017318,
     "end_time": "2024-01-19T14:24:24.350384",
     "exception": false,
     "start_time": "2024-01-19T14:24:24.333066",
     "status": "completed"
    },
    "tags": []
   },
   "source": [
    "* **Step 3 : Create TensorDatasets**\n",
    "    * The **TensorDataset** class from PyTorch is used to create a dataset by combining tensors. It takes multiple tensors as input arguments and creates a dataset where each element is a tuple containing corresponding elements from each input tensor.\n",
    "    * Creating PyTorch TensorDataset objects for training and validation by combining the tokenized and encoded input data (token IDs and attention mask values) with their corresponding label.\n",
    "    * **Each element** of **train_dataset** and **val_dataset** will be **a tuple of three elements**: the **token IDs**, **attention mask values**, **and the corresponding label**. This format is suitable for training and validating models in PyTorch, where we can easily iterate through batches during training while having access to both input data and labels.     "
   ]
  },
  {
   "cell_type": "code",
   "execution_count": 14,
   "id": "276d27d0",
   "metadata": {
    "execution": {
     "iopub.execute_input": "2024-01-19T14:24:24.385306Z",
     "iopub.status.busy": "2024-01-19T14:24:24.384404Z",
     "iopub.status.idle": "2024-01-19T14:24:24.404417Z",
     "shell.execute_reply": "2024-01-19T14:24:24.403644Z"
    },
    "papermill": {
     "duration": 0.039339,
     "end_time": "2024-01-19T14:24:24.406298",
     "exception": false,
     "start_time": "2024-01-19T14:24:24.366959",
     "status": "completed"
    },
    "tags": []
   },
   "outputs": [],
   "source": [
    "# Converts the training labels y_train & val labels y_val to PyTorch tensors.\n",
    "train_labels = torch.tensor(y_train.values)\n",
    "val_labels = torch.tensor(y_val.values)\n",
    "\n",
    "# Create TensorDatasets\n",
    "# Combines the tokenized and encoded input data with the corresponding labels to create a PyTorch TensorDataset.\n",
    "train_dataset = TensorDataset(encoded_train['input_ids'], encoded_train['attention_mask'], train_labels)\n",
    "val_dataset = TensorDataset(encoded_val['input_ids'], encoded_val['attention_mask'], val_labels)"
   ]
  },
  {
   "cell_type": "markdown",
   "id": "6515495b",
   "metadata": {
    "papermill": {
     "duration": 0.015993,
     "end_time": "2024-01-19T14:24:24.438422",
     "exception": false,
     "start_time": "2024-01-19T14:24:24.422429",
     "status": "completed"
    },
    "tags": []
   },
   "source": [
    "* **Step 4 : BertForSequenceClassification Model**\n",
    "    * BertForSequenceClassification is a pre-trained BERT model fine-tuned for sequence classification tasks.Means : that the model is adapted for tasks involving sequences of text and classifying them into different categorie\n",
    "        * from_pretrained loads the weights and architecture from the pre-trained 'bert-base-uncased' model, and with 2 output labels for the classification task"
   ]
  },
  {
   "cell_type": "code",
   "execution_count": 15,
   "id": "ef75865a",
   "metadata": {
    "execution": {
     "iopub.execute_input": "2024-01-19T14:24:24.473421Z",
     "iopub.status.busy": "2024-01-19T14:24:24.473043Z",
     "iopub.status.idle": "2024-01-19T14:24:27.515009Z",
     "shell.execute_reply": "2024-01-19T14:24:27.513890Z"
    },
    "papermill": {
     "duration": 3.062311,
     "end_time": "2024-01-19T14:24:27.517200",
     "exception": false,
     "start_time": "2024-01-19T14:24:24.454889",
     "status": "completed"
    },
    "tags": []
   },
   "outputs": [
    {
     "data": {
      "application/vnd.jupyter.widget-view+json": {
       "model_id": "e738a43f88384a68b43d5d2666aa1d5f",
       "version_major": 2,
       "version_minor": 0
      },
      "text/plain": [
       "model.safetensors:   0%|          | 0.00/440M [00:00<?, ?B/s]"
      ]
     },
     "metadata": {},
     "output_type": "display_data"
    },
    {
     "name": "stderr",
     "output_type": "stream",
     "text": [
      "Some weights of BertForSequenceClassification were not initialized from the model checkpoint at bert-base-uncased and are newly initialized: ['classifier.weight', 'classifier.bias']\n",
      "You should probably TRAIN this model on a down-stream task to be able to use it for predictions and inference.\n"
     ]
    },
    {
     "data": {
      "text/plain": [
       "BertForSequenceClassification(\n",
       "  (bert): BertModel(\n",
       "    (embeddings): BertEmbeddings(\n",
       "      (word_embeddings): Embedding(30522, 768, padding_idx=0)\n",
       "      (position_embeddings): Embedding(512, 768)\n",
       "      (token_type_embeddings): Embedding(2, 768)\n",
       "      (LayerNorm): LayerNorm((768,), eps=1e-12, elementwise_affine=True)\n",
       "      (dropout): Dropout(p=0.1, inplace=False)\n",
       "    )\n",
       "    (encoder): BertEncoder(\n",
       "      (layer): ModuleList(\n",
       "        (0-11): 12 x BertLayer(\n",
       "          (attention): BertAttention(\n",
       "            (self): BertSelfAttention(\n",
       "              (query): Linear(in_features=768, out_features=768, bias=True)\n",
       "              (key): Linear(in_features=768, out_features=768, bias=True)\n",
       "              (value): Linear(in_features=768, out_features=768, bias=True)\n",
       "              (dropout): Dropout(p=0.1, inplace=False)\n",
       "            )\n",
       "            (output): BertSelfOutput(\n",
       "              (dense): Linear(in_features=768, out_features=768, bias=True)\n",
       "              (LayerNorm): LayerNorm((768,), eps=1e-12, elementwise_affine=True)\n",
       "              (dropout): Dropout(p=0.1, inplace=False)\n",
       "            )\n",
       "          )\n",
       "          (intermediate): BertIntermediate(\n",
       "            (dense): Linear(in_features=768, out_features=3072, bias=True)\n",
       "            (intermediate_act_fn): GELUActivation()\n",
       "          )\n",
       "          (output): BertOutput(\n",
       "            (dense): Linear(in_features=3072, out_features=768, bias=True)\n",
       "            (LayerNorm): LayerNorm((768,), eps=1e-12, elementwise_affine=True)\n",
       "            (dropout): Dropout(p=0.1, inplace=False)\n",
       "          )\n",
       "        )\n",
       "      )\n",
       "    )\n",
       "    (pooler): BertPooler(\n",
       "      (dense): Linear(in_features=768, out_features=768, bias=True)\n",
       "      (activation): Tanh()\n",
       "    )\n",
       "  )\n",
       "  (dropout): Dropout(p=0.1, inplace=False)\n",
       "  (classifier): Linear(in_features=768, out_features=2, bias=True)\n",
       ")"
      ]
     },
     "execution_count": 15,
     "metadata": {},
     "output_type": "execute_result"
    }
   ],
   "source": [
    "#  DataLoader for efficient processing\n",
    "# This DataLoader will be used during training to efficiently load batches of data with a batch size of 16 and shuffle(mixed up) the data (shuffle=True).\n",
    "train_loader = DataLoader(train_dataset, batch_size=16, shuffle=True)\n",
    "val_loader = DataLoader(val_dataset, batch_size=16, shuffle=False)\n",
    "\n",
    "# Define the BERT model for sequence classification\n",
    "model = BertForSequenceClassification.from_pretrained('bert-base-uncased', num_labels=2)\n",
    "# Checks if a GPU (cuda) is available and assigns the device accordingly.\n",
    "device = torch.device(\"cuda\" if torch.cuda.is_available() else \"cpu\")\n",
    "#Moves the model to the specified device (either GPU or CPU).\n",
    "model.to(device)"
   ]
  },
  {
   "cell_type": "markdown",
   "id": "e3d27d3a",
   "metadata": {
    "papermill": {
     "duration": 0.016425,
     "end_time": "2024-01-19T14:24:27.551001",
     "exception": false,
     "start_time": "2024-01-19T14:24:27.534576",
     "status": "completed"
    },
    "tags": []
   },
   "source": [
    "* **Step 5 : Define optimizer & learning rate**\n",
    "    * AdamW is an optimizer from the Hugging Face Transformers library. It's an adaptation of the Adam optimizer with weight decay (hence the 'W').\n",
    "        * model.parameters(): specifies the parameters(weights) of the BERT model that need to be optimized.\n",
    "        * lr=2e-5: sets the learning rate for the optimizer to 2e-5.\n",
    "        * correct_bias=False : is an argument used to avoid bias correction in AdamW."
   ]
  },
  {
   "cell_type": "code",
   "execution_count": 16,
   "id": "eb060346",
   "metadata": {
    "execution": {
     "iopub.execute_input": "2024-01-19T14:24:27.585164Z",
     "iopub.status.busy": "2024-01-19T14:24:27.584810Z",
     "iopub.status.idle": "2024-01-19T14:24:27.595965Z",
     "shell.execute_reply": "2024-01-19T14:24:27.594836Z"
    },
    "papermill": {
     "duration": 0.031301,
     "end_time": "2024-01-19T14:24:27.598391",
     "exception": false,
     "start_time": "2024-01-19T14:24:27.567090",
     "status": "completed"
    },
    "tags": []
   },
   "outputs": [
    {
     "name": "stderr",
     "output_type": "stream",
     "text": [
      "/opt/conda/lib/python3.10/site-packages/transformers/optimization.py:429: FutureWarning: This implementation of AdamW is deprecated and will be removed in a future version. Use the PyTorch implementation torch.optim.AdamW instead, or set `no_deprecation_warning=True` to disable this warning\n",
      "  warnings.warn(\n"
     ]
    }
   ],
   "source": [
    "optimizer = AdamW(model.parameters(), lr=2e-5, correct_bias=False)"
   ]
  },
  {
   "cell_type": "markdown",
   "id": "c8ab4d2f",
   "metadata": {
    "papermill": {
     "duration": 0.015931,
     "end_time": "2024-01-19T14:24:27.630955",
     "exception": false,
     "start_time": "2024-01-19T14:24:27.615024",
     "status": "completed"
    },
    "tags": []
   },
   "source": [
    "* **Step 6 : Training the Model**"
   ]
  },
  {
   "cell_type": "code",
   "execution_count": 17,
   "id": "13eedfea",
   "metadata": {
    "execution": {
     "iopub.execute_input": "2024-01-19T14:24:27.665524Z",
     "iopub.status.busy": "2024-01-19T14:24:27.664730Z",
     "iopub.status.idle": "2024-01-19T15:24:47.595785Z",
     "shell.execute_reply": "2024-01-19T15:24:47.594319Z"
    },
    "papermill": {
     "duration": 3619.95073,
     "end_time": "2024-01-19T15:24:47.597880",
     "exception": false,
     "start_time": "2024-01-19T14:24:27.647150",
     "status": "completed"
    },
    "tags": []
   },
   "outputs": [
    {
     "name": "stdout",
     "output_type": "stream",
     "text": [
      "Epoch 1/10, Average Training Loss: 0.12\n",
      "Epoch 1/10, Average Validation Loss: 0.07\n",
      "Epoch 2/10, Average Training Loss: 0.06\n",
      "Epoch 2/10, Average Validation Loss: 0.11\n",
      "Epoch 3/10, Average Training Loss: 0.01\n",
      "Epoch 3/10, Average Validation Loss: 0.03\n",
      "Epoch 4/10, Average Training Loss: 0.00\n",
      "Epoch 4/10, Average Validation Loss: 0.02\n",
      "Epoch 5/10, Average Training Loss: 0.00\n",
      "Epoch 5/10, Average Validation Loss: 0.03\n",
      "Epoch 6/10, Average Training Loss: 0.00\n",
      "Epoch 6/10, Average Validation Loss: 0.02\n",
      "Epoch 7/10, Average Training Loss: 0.00\n",
      "Epoch 7/10, Average Validation Loss: 0.03\n",
      "Epoch 8/10, Average Training Loss: 0.00\n",
      "Epoch 8/10, Average Validation Loss: 0.03\n",
      "Epoch 9/10, Average Training Loss: 0.00\n",
      "Epoch 9/10, Average Validation Loss: 0.03\n",
      "Epoch 10/10, Average Training Loss: 0.00\n",
      "Epoch 10/10, Average Validation Loss: 0.03\n"
     ]
    }
   ],
   "source": [
    "epochs = 10\n",
    "# Initialize lists to store learning rates and losses\n",
    "learning_rates = []\n",
    "losses = []\n",
    "validation_losses = []\n",
    "\n",
    "for epoch in range(epochs):\n",
    "# Training loop\n",
    "    model.train()\n",
    "    total_loss = 0\n",
    "    for batch in train_loader:\n",
    "        input_ids, attention_mask, labels = batch\n",
    "        input_ids, attention_mask, labels = input_ids.to(device), attention_mask.to(device), labels.to(device)\n",
    "        # Get the current learning rate\n",
    "        #The current learning rate is logged for visualization         \n",
    "        current_lr = optimizer.param_groups[0]['lr']\n",
    "        learning_rates.append(current_lr)\n",
    "        \n",
    "        #The model parameters' gradients are zeroed (optimizer.zero_grad()) \n",
    "        optimizer.zero_grad()\n",
    "        \n",
    "        #and the forward pass is performed using model.\n",
    "        outputs = model(input_ids, attention_mask=attention_mask, labels=labels)\n",
    "        loss = outputs.loss\n",
    "        total_loss += loss.item()\n",
    "        \n",
    "        # Backpropagation and gradient clipping are applied to update the model's parameters.\n",
    "        loss.backward()\n",
    "        torch.nn.utils.clip_grad_norm_(model.parameters(), 1.0)  # Gradient clipping to avoid exploding gradients\n",
    "        optimizer.step()\n",
    "    avg_train_loss = total_loss / len(train_loader)\n",
    "    losses.append(avg_train_loss)\n",
    "    print(f\"Epoch {epoch + 1}/{epochs}, Average Training Loss: {avg_train_loss:.2f}\")\n",
    "    # Validation loop\n",
    "    model.eval()  # Set the model to evaluation mode\n",
    "    total_val_loss = 0\n",
    "    with torch.no_grad():  # Disable gradient computation during validation\n",
    "        for val_batch in val_loader:\n",
    "            val_input_ids, val_attention_mask, val_labels = val_batch\n",
    "            val_input_ids, val_attention_mask, val_labels = val_input_ids.to(device), val_attention_mask.to(device), val_labels.to(device)\n",
    "            val_outputs = model(val_input_ids, attention_mask=val_attention_mask, labels=val_labels)\n",
    "            val_loss = val_outputs.loss\n",
    "            total_val_loss += val_loss.item()\n",
    "\n",
    "    avg_val_loss = total_val_loss / len(val_loader)\n",
    "    validation_losses.append(avg_val_loss)\n",
    "    print(f\"Epoch {epoch + 1}/{epochs}, Average Validation Loss: {avg_val_loss:.2f}\")"
   ]
  },
  {
   "cell_type": "markdown",
   "id": "4f5d6d6f",
   "metadata": {
    "papermill": {
     "duration": 0.019243,
     "end_time": "2024-01-19T15:24:47.636558",
     "exception": false,
     "start_time": "2024-01-19T15:24:47.617315",
     "status": "completed"
    },
    "tags": []
   },
   "source": [
    "1.  **Learning Rates & Training Losses**"
   ]
  },
  {
   "cell_type": "code",
   "execution_count": 18,
   "id": "35c349e5",
   "metadata": {
    "execution": {
     "iopub.execute_input": "2024-01-19T15:24:47.674716Z",
     "iopub.status.busy": "2024-01-19T15:24:47.674323Z",
     "iopub.status.idle": "2024-01-19T15:24:48.383499Z",
     "shell.execute_reply": "2024-01-19T15:24:48.382579Z"
    },
    "papermill": {
     "duration": 0.730878,
     "end_time": "2024-01-19T15:24:48.385827",
     "exception": false,
     "start_time": "2024-01-19T15:24:47.654949",
     "status": "completed"
    },
    "tags": []
   },
   "outputs": [
    {
     "data": {
      "image/png": "[encoded data removed]",
      "text/plain": [
       "<Figure size 700x300 with 2 Axes>"
      ]
     },
     "metadata": {},
     "output_type": "display_data"
    }
   ],
   "source": [
    "# Create a subplot with 1 row and 2 columns For Learning Rates\n",
    "plt.figure(figsize=(7, 3))\n",
    "plt.subplot(1, 2, 1)\n",
    "plt.plot(range(len(learning_rates)), learning_rates, label='Learning Rate', color='magenta')\n",
    "plt.title('Learning Rate over Epochs')\n",
    "plt.xlabel('Epoch')\n",
    "plt.ylabel('Learning Rate')\n",
    "plt.legend()\n",
    "\n",
    "# Create another subplot in the same row For Training Losses\n",
    "# Plot training loss\n",
    "plt.subplot(1, 2, 2)\n",
    "\n",
    "plt.plot(range(len(losses)), losses, label='Training Loss', color='purple')\n",
    "\n",
    "# Plot validation loss\n",
    "plt.plot(range(len(validation_losses)), validation_losses, label='Validation Loss', color='lightskyblue')\n",
    "\n",
    "# Add labels and legend\n",
    "plt.title('Training and Validation Losses over Epochs')\n",
    "plt.xlabel('Epoch')\n",
    "plt.ylabel('Loss')\n",
    "plt.legend()\n",
    "\n",
    "# Adjust layout for better spacing\n",
    "plt.tight_layout()\n",
    "\n",
    "# Display the plots\n",
    "plt.show()"
   ]
  },
  {
   "cell_type": "markdown",
   "id": "73c9e01c",
   "metadata": {
    "papermill": {
     "duration": 0.018264,
     "end_time": "2024-01-19T15:24:48.423696",
     "exception": false,
     "start_time": "2024-01-19T15:24:48.405432",
     "status": "completed"
    },
    "tags": []
   },
   "source": [
    "* **Step 7 : Validation**\n",
    "    * model.eval(): sets the model to evaluation mode, disabling features like dropout that are specific to training."
   ]
  },
  {
   "cell_type": "code",
   "execution_count": 19,
   "id": "7990e993",
   "metadata": {
    "execution": {
     "iopub.execute_input": "2024-01-19T15:24:48.462646Z",
     "iopub.status.busy": "2024-01-19T15:24:48.462145Z",
     "iopub.status.idle": "2024-01-19T15:25:18.601035Z",
     "shell.execute_reply": "2024-01-19T15:25:18.600167Z"
    },
    "papermill": {
     "duration": 30.160994,
     "end_time": "2024-01-19T15:25:18.603444",
     "exception": false,
     "start_time": "2024-01-19T15:24:48.442450",
     "status": "completed"
    },
    "tags": []
   },
   "outputs": [],
   "source": [
    "# Validation loop\n",
    "model.eval()\n",
    "\n",
    "# lists to store the predicted labels and actual labels during validation.\n",
    "val_preds = []\n",
    "val_labels = []\n",
    "# torch.no_grad(): to disable gradient computation during the validation loop. Since gradients are not needed during validation.\n",
    "with torch.no_grad():\n",
    "    for batch in val_loader:\n",
    "        input_ids, attention_mask, labels = batch\n",
    "        input_ids, attention_mask, labels = input_ids.to(device), attention_mask.to(device), labels.to(device)\n",
    "\n",
    "        outputs = model(input_ids, attention_mask=attention_mask)\n",
    "        logits = outputs.logits\n",
    "        \n",
    "        #The predicted labels are extracted using torch.argmax along the specified dimension\n",
    "        val_preds.extend(torch.argmax(logits, dim=1).cpu().numpy())\n",
    "        val_labels.extend(labels.cpu().numpy())"
   ]
  },
  {
   "cell_type": "markdown",
   "id": "6c0b2679",
   "metadata": {
    "papermill": {
     "duration": 0.018446,
     "end_time": "2024-01-19T15:25:18.642171",
     "exception": false,
     "start_time": "2024-01-19T15:25:18.623725",
     "status": "completed"
    },
    "tags": []
   },
   "source": [
    "1.  **Classification Report**"
   ]
  },
  {
   "cell_type": "code",
   "execution_count": 20,
   "id": "85fcbbae",
   "metadata": {
    "execution": {
     "iopub.execute_input": "2024-01-19T15:25:18.681156Z",
     "iopub.status.busy": "2024-01-19T15:25:18.680773Z",
     "iopub.status.idle": "2024-01-19T15:25:18.697678Z",
     "shell.execute_reply": "2024-01-19T15:25:18.696669Z"
    },
    "papermill": {
     "duration": 0.038826,
     "end_time": "2024-01-19T15:25:18.699857",
     "exception": false,
     "start_time": "2024-01-19T15:25:18.661031",
     "status": "completed"
    },
    "tags": []
   },
   "outputs": [
    {
     "name": "stdout",
     "output_type": "stream",
     "text": [
      "Validation Accuracy: 0.99\n",
      "Classification Report:\n",
      "              precision    recall  f1-score   support\n",
      "\n",
      "           0       0.99      1.00      0.99       410\n",
      "           1       1.00      0.99      0.99       420\n",
      "\n",
      "    accuracy                           0.99       830\n",
      "   macro avg       0.99      0.99      0.99       830\n",
      "weighted avg       0.99      0.99      0.99       830\n",
      "\n"
     ]
    }
   ],
   "source": [
    "# Calculate validation accuracy\n",
    "val_accuracy = accuracy_score(val_labels, val_preds)\n",
    "print(f\"Validation Accuracy: {val_accuracy:.2f}\")\n",
    "\n",
    "# Calculate other classification metrics\n",
    "classification_metrics = classification_report(val_labels, val_preds)\n",
    "print(\"Classification Report:\")\n",
    "print(classification_metrics)"
   ]
  },
  {
   "cell_type": "markdown",
   "id": "09e999f2",
   "metadata": {
    "papermill": {
     "duration": 0.018386,
     "end_time": "2024-01-19T15:25:18.738491",
     "exception": false,
     "start_time": "2024-01-19T15:25:18.720105",
     "status": "completed"
    },
    "tags": []
   },
   "source": [
    "2. **Confusion Matrix**"
   ]
  },
  {
   "cell_type": "code",
   "execution_count": 21,
   "id": "08d2b092",
   "metadata": {
    "execution": {
     "iopub.execute_input": "2024-01-19T15:25:18.778179Z",
     "iopub.status.busy": "2024-01-19T15:25:18.777835Z",
     "iopub.status.idle": "2024-01-19T15:25:19.147151Z",
     "shell.execute_reply": "2024-01-19T15:25:19.146252Z"
    },
    "papermill": {
     "duration": 0.391446,
     "end_time": "2024-01-19T15:25:19.149226",
     "exception": false,
     "start_time": "2024-01-19T15:25:18.757780",
     "status": "completed"
    },
    "tags": []
   },
   "outputs": [
    {
     "data": {
      "image/png": "[encoded data removed]",
      "text/plain": [
       "<Figure size 800x400 with 2 Axes>"
      ]
     },
     "metadata": {},
     "output_type": "display_data"
    }
   ],
   "source": [
    "# Validation set confusion matrix\n",
    "val_cm = confusion_matrix(val_labels, val_preds)\n",
    "\n",
    "# Plot validation set confusion matrix\n",
    "plt.figure(figsize=(8, 4))\n",
    "plt.subplot(1, 2, 2)\n",
    "sns.heatmap(val_cm, annot=True, fmt='d', cmap='Purples', xticklabels=['Class 0', 'Class 1'], yticklabels=['Class 0', 'Class 1'])\n",
    "plt.title('Validation Set Confusion Matrix')\n",
    "plt.xlabel('Predicted')\n",
    "plt.ylabel('Real Values')\n",
    "\n",
    "plt.tight_layout()\n",
    "plt.show()"
   ]
  },
  {
   "cell_type": "code",
   "execution_count": 22,
   "id": "f4b9caa9",
   "metadata": {
    "execution": {
     "iopub.execute_input": "2024-01-19T15:25:19.189379Z",
     "iopub.status.busy": "2024-01-19T15:25:19.188784Z",
     "iopub.status.idle": "2024-01-19T15:25:19.699656Z",
     "shell.execute_reply": "2024-01-19T15:25:19.698410Z"
    },
    "papermill": {
     "duration": 0.533611,
     "end_time": "2024-01-19T15:25:19.702112",
     "exception": false,
     "start_time": "2024-01-19T15:25:19.168501",
     "status": "completed"
    },
    "tags": []
   },
   "outputs": [
    {
     "name": "stdout",
     "output_type": "stream",
     "text": [
      "+-----------------+---------------+---------------------------+\n",
      "|     Text_id     |  Predictions  | Explanation_of_Prediction |\n",
      "+-----------------+---------------+---------------------------+\n",
      "|   E897534557AF  |   0.99999404  |        AI Generated       |\n",
      "|   DFBA34FFE11D  |  0.0003667867 |           Human           |\n",
      "|     af37ecf5    |  7.845715e-06 |           Human           |\n",
      "|   5EC2696BAD78  |  5.319507e-05 |           Human           |\n",
      "| llama_70b_v1843 |   0.99999404  |        AI Generated       |\n",
      "|   30D7FD691AE3  | 7.3944124e-05 |           Human           |\n",
      "|   8E91F0997B77  |  3.669934e-05 |           Human           |\n",
      "|     9124e664    |  8.069697e-06 |           Human           |\n",
      "|   9ABF7B48B802  |  8.562858e-06 |           Human           |\n",
      "|   E7F9A77683D2  |   0.99999416  |        AI Generated       |\n",
      "+-----------------+---------------+---------------------------+\n"
     ]
    }
   ],
   "source": [
    "from prettytable import PrettyTable\n",
    "\n",
    "# Test data processing\n",
    "test_inputs = tokenizer11(df_test['text'].tolist(), padding=True, truncation=True, return_tensors='pt')\n",
    "\n",
    "# Move input tensor to the same device as the model\n",
    "test_inputs = {key: value.to(device) for key, value in test_inputs.items()}\n",
    "\n",
    "# Generate predictions using your trained model\n",
    "with torch.no_grad():\n",
    "    outputs = model(**test_inputs)\n",
    "    logits = outputs.logits\n",
    "\n",
    "# Assuming the first column of logits corresponds to the negative class (non-AI-generated) \n",
    "# and the second column corresponds to the positive class (AI-generated)\n",
    "predictions = torch.softmax(logits, dim=1)[:, 1].cpu().numpy()  # Move predictions back to CPU\n",
    " \n",
    "# Create a PrettyTable instance\n",
    "results_table = PrettyTable()\n",
    "results_table.field_names = [\"Text_id\", \"Predictions\", \"Explanation_of_Prediction\"]\n",
    "\n",
    "# Fill the table with results for each new text\n",
    "for i in range(len(df_test)):\n",
    "    text_id = df_test['essay_id'].iloc[i]\n",
    "    Explanation_of_Prediction = predictions[i]\n",
    "    prediction = 'AI Generated' if predictions[i] >= 0.5 else 'Human'\n",
    "    results_table.add_row([text_id, Explanation_of_Prediction, prediction])  # Corrected variable name\n",
    "\n",
    "# Print the result table\n",
    "print(results_table)\n"
   ]
  },
  {
   "cell_type": "code",
   "execution_count": null,
   "id": "f5baa482",
   "metadata": {
    "papermill": {
     "duration": 0.019494,
     "end_time": "2024-01-19T15:25:19.743178",
     "exception": false,
     "start_time": "2024-01-19T15:25:19.723684",
     "status": "completed"
    },
    "tags": []
   },
   "outputs": [],
   "source": []
  }
 ],
 "metadata": {
  "kaggle": {
   "accelerator": "nvidiaTeslaT4",
   "dataSources": [
    {
     "databundleVersionId": 7516023,
     "sourceId": 61542,
     "sourceType": "competition"
    },
    {
     "datasetId": 4005256,
     "sourceId": 6977472,
     "sourceType": "datasetVersion"
    },
    {
     "datasetId": 3942644,
     "sourceId": 6890527,
     "sourceType": "datasetVersion"
    }
   ],
   "dockerImageVersionId": 30636,
   "isGpuEnabled": true,
   "isInternetEnabled": true,
   "language": "python",
   "sourceType": "notebook"
  },
  "kernelspec": {
   "display_name": "Python 3",
   "language": "python",
   "name": "python3"
  },
  "language_info": {
   "codemirror_mode": {
    "name": "ipython",
    "version": 3
   },
   "file_extension": ".py",
   "mimetype": "text/x-python",
   "name": "python",
   "nbconvert_exporter": "python",
   "pygments_lexer": "ipython3",
   "version": "3.10.12"
  },
  "papermill": {
   "default_parameters": {},
   "duration": 3823.334916,
   "end_time": "2024-01-19T15:25:23.456456",
   "environment_variables": {},
   "exception": null,
   "input_path": "__notebook__.ipynb",
   "output_path": "__notebook__.ipynb",
   "parameters": {},
   "start_time": "2024-01-19T14:21:40.121540",
   "version": "2.4.0"
  },
  "widgets": {
   "application/vnd.jupyter.widget-state+json": {
    "state": {
     "00664fb9037545b7bd427e16c2075a01": {
      "model_module": "@jupyter-widgets/base",
      "model_module_version": "1.2.0",
      "model_name": "LayoutModel",
      "state": {
       "_model_module": "@jupyter-widgets/base",
       "_model_module_version": "1.2.0",
       "_model_name": "LayoutModel",
       "_view_count": null,
       "_view_module": "@jupyter-widgets/base",
       "_view_module_version": "1.2.0",
       "_view_name": "LayoutView",
       "align_content": null,
       "align_items": null,
       "align_self": null,
       "border": null,
       "bottom": null,
       "display": null,
       "flex": null,
       "flex_flow": null,
       "grid_area": null,
       "grid_auto_columns": null,
       "grid_auto_flow": null,
       "grid_auto_rows": null,
       "grid_column": null,
       "grid_gap": null,
       "grid_row": null,
       "grid_template_areas": null,
       "grid_template_columns": null,
       "grid_template_rows": null,
       "height": null,
       "justify_content": null,
       "justify_items": null,
       "left": null,
       "margin": null,
       "max_height": null,
       "max_width": null,
       "min_height": null,
       "min_width": null,
       "object_fit": null,
       "object_position": null,
       "order": null,
       "overflow": null,
       "overflow_x": null,
       "overflow_y": null,
       "padding": null,
       "right": null,
       "top": null,
       "visibility": null,
       "width": null
      }
     },
     "104b0da0de0442f2b95e43cd824c12e7": {
      "model_module": "@jupyter-widgets/controls",
      "model_module_version": "1.5.0",
      "model_name": "HBoxModel",
      "state": {
       "_dom_classes": [],
       "_model_module": "@jupyter-widgets/controls",
       "_model_module_version": "1.5.0",
       "_model_name": "HBoxModel",
       "_view_count": null,
       "_view_module": "@jupyter-widgets/controls",
       "_view_module_version": "1.5.0",
       "_view_name": "HBoxView",
       "box_style": "",
       "children": [
        "IPY_MODEL_cd494f0c061449138116c637eb788173",
        "IPY_MODEL_5a72311e606247248fbc77465f641d1b",
        "IPY_MODEL_a955426c1b954adf9b9745f41b2bff70"
       ],
       "layout": "IPY_MODEL_172096d7543c425cbbec3dc6d55530e7"
      }
     },
     "13fc04f816d645c6820b95a8a2e80958": {
      "model_module": "@jupyter-widgets/base",
      "model_module_version": "1.2.0",
      "model_name": "LayoutModel",
      "state": {
       "_model_module": "@jupyter-widgets/base",
       "_model_module_version": "1.2.0",
       "_model_name": "LayoutModel",
       "_view_count": null,
       "_view_module": "@jupyter-widgets/base",
       "_view_module_version": "1.2.0",
       "_view_name": "LayoutView",
       "align_content": null,
       "align_items": null,
       "align_self": null,
       "border": null,
       "bottom": null,
       "display": null,
       "flex": null,
       "flex_flow": null,
       "grid_area": null,
       "grid_auto_columns": null,
       "grid_auto_flow": null,
       "grid_auto_rows": null,
       "grid_column": null,
       "grid_gap": null,
       "grid_row": null,
       "grid_template_areas": null,
       "grid_template_columns": null,
       "grid_template_rows": null,
       "height": null,
       "justify_content": null,
       "justify_items": null,
       "left": null,
       "margin": null,
       "max_height": null,
       "max_width": null,
       "min_height": null,
       "min_width": null,
       "object_fit": null,
       "object_position": null,
       "order": null,
       "overflow": null,
       "overflow_x": null,
       "overflow_y": null,
       "padding": null,
       "right": null,
       "top": null,
       "visibility": null,
       "width": null
      }
     },
     "172096d7543c425cbbec3dc6d55530e7": {
      "model_module": "@jupyter-widgets/base",
      "model_module_version": "1.2.0",
      "model_name": "LayoutModel",
      "state": {
       "_model_module": "@jupyter-widgets/base",
       "_model_module_version": "1.2.0",
       "_model_name": "LayoutModel",
       "_view_count": null,
       "_view_module": "@jupyter-widgets/base",
       "_view_module_version": "1.2.0",
       "_view_name": "LayoutView",
       "align_content": null,
       "align_items": null,
       "align_self": null,
       "border": null,
       "bottom": null,
       "display": null,
       "flex": null,
       "flex_flow": null,
       "grid_area": null,
       "grid_auto_columns": null,
       "grid_auto_flow": null,
       "grid_auto_rows": null,
       "grid_column": null,
       "grid_gap": null,
       "grid_row": null,
       "grid_template_areas": null,
       "grid_template_columns": null,
       "grid_template_rows": null,
       "height": null,
       "justify_content": null,
       "justify_items": null,
       "left": null,
       "margin": null,
       "max_height": null,
       "max_width": null,
       "min_height": null,
       "min_width": null,
       "object_fit": null,
       "object_position": null,
       "order": null,
       "overflow": null,
       "overflow_x": null,
       "overflow_y": null,
       "padding": null,
       "right": null,
       "top": null,
       "visibility": null,
       "width": null
      }
     },
     "1ecd6cdd42934ccfb4c558d6d0cc4801": {
      "model_module": "@jupyter-widgets/controls",
      "model_module_version": "1.5.0",
      "model_name": "DescriptionStyleModel",
      "state": {
       "_model_module": "@jupyter-widgets/controls",
       "_model_module_version": "1.5.0",
       "_model_name": "DescriptionStyleModel",
       "_view_count": null,
       "_view_module": "@jupyter-widgets/base",
       "_view_module_version": "1.2.0",
       "_view_name": "StyleView",
       "description_width": ""
      }
     },
     "1f5904d4274047aeb5fb43b55cf85956": {
      "model_module": "@jupyter-widgets/base",
      "model_module_version": "1.2.0",
      "model_name": "LayoutModel",
      "state": {
       "_model_module": "@jupyter-widgets/base",
       "_model_module_version": "1.2.0",
       "_model_name": "LayoutModel",
       "_view_count": null,
       "_view_module": "@jupyter-widgets/base",
       "_view_module_version": "1.2.0",
       "_view_name": "LayoutView",
       "align_content": null,
       "align_items": null,
       "align_self": null,
       "border": null,
       "bottom": null,
       "display": null,
       "flex": null,
       "flex_flow": null,
       "grid_area": null,
       "grid_auto_columns": null,
       "grid_auto_flow": null,
       "grid_auto_rows": null,
       "grid_column": null,
       "grid_gap": null,
       "grid_row": null,
       "grid_template_areas": null,
       "grid_template_columns": null,
       "grid_template_rows": null,
       "height": null,
       "justify_content": null,
       "justify_items": null,
       "left": null,
       "margin": null,
       "max_height": null,
       "max_width": null,
       "min_height": null,
       "min_width": null,
       "object_fit": null,
       "object_position": null,
       "order": null,
       "overflow": null,
       "overflow_x": null,
       "overflow_y": null,
       "padding": null,
       "right": null,
       "top": null,
       "visibility": null,
       "width": null
      }
     },
     "31fe9362c44d4ea9b2eeea5a2c3b821f": {
      "model_module": "@jupyter-widgets/controls",
      "model_module_version": "1.5.0",
      "model_name": "HTMLModel",
      "state": {
       "_dom_classes": [],
       "_model_module": "@jupyter-widgets/controls",
       "_model_module_version": "1.5.0",
       "_model_name": "HTMLModel",
       "_view_count": null,
       "_view_module": "@jupyter-widgets/controls",
       "_view_module_version": "1.5.0",
       "_view_name": "HTMLView",
       "description": "",
       "description_tooltip": null,
       "layout": "IPY_MODEL_9828a96cf31a4bdaa2764d4427ee158b",
       "placeholder": "​",
       "style": "IPY_MODEL_3fcdb470ff3d4e6ab714aebf8065c853",
       "value": " 440M/440M [00:02&lt;00:00, 215MB/s]"
      }
     },
     "3255b636dd0a413f8851c93d1919e6b6": {
      "model_module": "@jupyter-widgets/base",
      "model_module_version": "1.2.0",
      "model_name": "LayoutModel",
      "state": {
       "_model_module": "@jupyter-widgets/base",
       "_model_module_version": "1.2.0",
       "_model_name": "LayoutModel",
       "_view_count": null,
       "_view_module": "@jupyter-widgets/base",
       "_view_module_version": "1.2.0",
       "_view_name": "LayoutView",
       "align_content": null,
       "align_items": null,
       "align_self": null,
       "border": null,
       "bottom": null,
       "display": null,
       "flex": null,
       "flex_flow": null,
       "grid_area": null,
       "grid_auto_columns": null,
       "grid_auto_flow": null,
       "grid_auto_rows": null,
       "grid_column": null,
       "grid_gap": null,
       "grid_row": null,
       "grid_template_areas": null,
       "grid_template_columns": null,
       "grid_template_rows": null,
       "height": null,
       "justify_content": null,
       "justify_items": null,
       "left": null,
       "margin": null,
       "max_height": null,
       "max_width": null,
       "min_height": null,
       "min_width": null,
       "object_fit": null,
       "object_position": null,
       "order": null,
       "overflow": null,
       "overflow_x": null,
       "overflow_y": null,
       "padding": null,
       "right": null,
       "top": null,
       "visibility": null,
       "width": null
      }
     },
     "337debe31247437e9db312142df352a7": {
      "model_module": "@jupyter-widgets/controls",
      "model_module_version": "1.5.0",
      "model_name": "HBoxModel",
      "state": {
       "_dom_classes": [],
       "_model_module": "@jupyter-widgets/controls",
       "_model_module_version": "1.5.0",
       "_model_name": "HBoxModel",
       "_view_count": null,
       "_view_module": "@jupyter-widgets/controls",
       "_view_module_version": "1.5.0",
       "_view_name": "HBoxView",
       "box_style": "",
       "children": [
        "IPY_MODEL_962f2adc83a248bc90709e212dcf9f6c",
        "IPY_MODEL_f8c1e5c229af43bfbc86f45e9e5eac36",
        "IPY_MODEL_886228d623dd4d3e9add3d7fae894655"
       ],
       "layout": "IPY_MODEL_1f5904d4274047aeb5fb43b55cf85956"
      }
     },
     "3578f7a9529d4879a632c31dc476ede7": {
      "model_module": "@jupyter-widgets/base",
      "model_module_version": "1.2.0",
      "model_name": "LayoutModel",
      "state": {
       "_model_module": "@jupyter-widgets/base",
       "_model_module_version": "1.2.0",
       "_model_name": "LayoutModel",
       "_view_count": null,
       "_view_module": "@jupyter-widgets/base",
       "_view_module_version": "1.2.0",
       "_view_name": "LayoutView",
       "align_content": null,
       "align_items": null,
       "align_self": null,
       "border": null,
       "bottom": null,
       "display": null,
       "flex": null,
       "flex_flow": null,
       "grid_area": null,
       "grid_auto_columns": null,
       "grid_auto_flow": null,
       "grid_auto_rows": null,
       "grid_column": null,
       "grid_gap": null,
       "grid_row": null,
       "grid_template_areas": null,
       "grid_template_columns": null,
       "grid_template_rows": null,
       "height": null,
       "justify_content": null,
       "justify_items": null,
       "left": null,
       "margin": null,
       "max_height": null,
       "max_width": null,
       "min_height": null,
       "min_width": null,
       "object_fit": null,
       "object_position": null,
       "order": null,
       "overflow": null,
       "overflow_x": null,
       "overflow_y": null,
       "padding": null,
       "right": null,
       "top": null,
       "visibility": null,
       "width": null
      }
     },
     "387661b9a5d2431889a1378b91dec953": {
      "model_module": "@jupyter-widgets/controls",
      "model_module_version": "1.5.0",
      "model_name": "FloatProgressModel",
      "state": {
       "_dom_classes": [],
       "_model_module": "@jupyter-widgets/controls",
       "_model_module_version": "1.5.0",
       "_model_name": "FloatProgressModel",
       "_view_count": null,
       "_view_module": "@jupyter-widgets/controls",
       "_view_module_version": "1.5.0",
       "_view_name": "ProgressView",
       "bar_style": "success",
       "description": "",
       "description_tooltip": null,
       "layout": "IPY_MODEL_59f2744c2ed244eda544b1f11fa7c676",
       "max": 440449768.0,
       "min": 0.0,
       "orientation": "horizontal",
       "style": "IPY_MODEL_bc0dd1997f4d4ec2a90398c5fcaed82a",
       "value": 440449768.0
      }
     },
     "3be8528a7dcd4df0b4b2722354583204": {
      "model_module": "@jupyter-widgets/base",
      "model_module_version": "1.2.0",
      "model_name": "LayoutModel",
      "state": {
       "_model_module": "@jupyter-widgets/base",
       "_model_module_version": "1.2.0",
       "_model_name": "LayoutModel",
       "_view_count": null,
       "_view_module": "@jupyter-widgets/base",
       "_view_module_version": "1.2.0",
       "_view_name": "LayoutView",
       "align_content": null,
       "align_items": null,
       "align_self": null,
       "border": null,
       "bottom": null,
       "display": null,
       "flex": null,
       "flex_flow": null,
       "grid_area": null,
       "grid_auto_columns": null,
       "grid_auto_flow": null,
       "grid_auto_rows": null,
       "grid_column": null,
       "grid_gap": null,
       "grid_row": null,
       "grid_template_areas": null,
       "grid_template_columns": null,
       "grid_template_rows": null,
       "height": null,
       "justify_content": null,
       "justify_items": null,
       "left": null,
       "margin": null,
       "max_height": null,
       "max_width": null,
       "min_height": null,
       "min_width": null,
       "object_fit": null,
       "object_position": null,
       "order": null,
       "overflow": null,
       "overflow_x": null,
       "overflow_y": null,
       "padding": null,
       "right": null,
       "top": null,
       "visibility": null,
       "width": null
      }
     },
     "3fcdb470ff3d4e6ab714aebf8065c853": {
      "model_module": "@jupyter-widgets/controls",
      "model_module_version": "1.5.0",
      "model_name": "DescriptionStyleModel",
      "state": {
       "_model_module": "@jupyter-widgets/controls",
       "_model_module_version": "1.5.0",
       "_model_name": "DescriptionStyleModel",
       "_view_count": null,
       "_view_module": "@jupyter-widgets/base",
       "_view_module_version": "1.2.0",
       "_view_name": "StyleView",
       "description_width": ""
      }
     },
     "43383f62bd944456bdb2836f2834fd63": {
      "model_module": "@jupyter-widgets/controls",
      "model_module_version": "1.5.0",
      "model_name": "ProgressStyleModel",
      "state": {
       "_model_module": "@jupyter-widgets/controls",
       "_model_module_version": "1.5.0",
       "_model_name": "ProgressStyleModel",
       "_view_count": null,
       "_view_module": "@jupyter-widgets/base",
       "_view_module_version": "1.2.0",
       "_view_name": "StyleView",
       "bar_color": null,
       "description_width": ""
      }
     },
     "4479bb5397fa4a7c95edd5638afb3ba7": {
      "model_module": "@jupyter-widgets/controls",
      "model_module_version": "1.5.0",
      "model_name": "HTMLModel",
      "state": {
       "_dom_classes": [],
       "_model_module": "@jupyter-widgets/controls",
       "_model_module_version": "1.5.0",
       "_model_name": "HTMLModel",
       "_view_count": null,
       "_view_module": "@jupyter-widgets/controls",
       "_view_module_version": "1.5.0",
       "_view_name": "HTMLView",
       "description": "",
       "description_tooltip": null,
       "layout": "IPY_MODEL_464e829706e543848c08c925937c97bd",
       "placeholder": "​",
       "style": "IPY_MODEL_fbd638acf1214f34842bc41e78c48ccc",
       "value": " 466k/466k [00:00&lt;00:00, 28.6MB/s]"
      }
     },
     "464e829706e543848c08c925937c97bd": {
      "model_module": "@jupyter-widgets/base",
      "model_module_version": "1.2.0",
      "model_name": "LayoutModel",
      "state": {
       "_model_module": "@jupyter-widgets/base",
       "_model_module_version": "1.2.0",
       "_model_name": "LayoutModel",
       "_view_count": null,
       "_view_module": "@jupyter-widgets/base",
       "_view_module_version": "1.2.0",
       "_view_name": "LayoutView",
       "align_content": null,
       "align_items": null,
       "align_self": null,
       "border": null,
       "bottom": null,
       "display": null,
       "flex": null,
       "flex_flow": null,
       "grid_area": null,
       "grid_auto_columns": null,
       "grid_auto_flow": null,
       "grid_auto_rows": null,
       "grid_column": null,
       "grid_gap": null,
       "grid_row": null,
       "grid_template_areas": null,
       "grid_template_columns": null,
       "grid_template_rows": null,
       "height": null,
       "justify_content": null,
       "justify_items": null,
       "left": null,
       "margin": null,
       "max_height": null,
       "max_width": null,
       "min_height": null,
       "min_width": null,
       "object_fit": null,
       "object_position": null,
       "order": null,
       "overflow": null,
       "overflow_x": null,
       "overflow_y": null,
       "padding": null,
       "right": null,
       "top": null,
       "visibility": null,
       "width": null
      }
     },
     "59f2744c2ed244eda544b1f11fa7c676": {
      "model_module": "@jupyter-widgets/base",
      "model_module_version": "1.2.0",
      "model_name": "LayoutModel",
      "state": {
       "_model_module": "@jupyter-widgets/base",
       "_model_module_version": "1.2.0",
       "_model_name": "LayoutModel",
       "_view_count": null,
       "_view_module": "@jupyter-widgets/base",
       "_view_module_version": "1.2.0",
       "_view_name": "LayoutView",
       "align_content": null,
       "align_items": null,
       "align_self": null,
       "border": null,
       "bottom": null,
       "display": null,
       "flex": null,
       "flex_flow": null,
       "grid_area": null,
       "grid_auto_columns": null,
       "grid_auto_flow": null,
       "grid_auto_rows": null,
       "grid_column": null,
       "grid_gap": null,
       "grid_row": null,
       "grid_template_areas": null,
       "grid_template_columns": null,
       "grid_template_rows": null,
       "height": null,
       "justify_content": null,
       "justify_items": null,
       "left": null,
       "margin": null,
       "max_height": null,
       "max_width": null,
       "min_height": null,
       "min_width": null,
       "object_fit": null,
       "object_position": null,
       "order": null,
       "overflow": null,
       "overflow_x": null,
       "overflow_y": null,
       "padding": null,
       "right": null,
       "top": null,
       "visibility": null,
       "width": null
      }
     },
     "5a72311e606247248fbc77465f641d1b": {
      "model_module": "@jupyter-widgets/controls",
      "model_module_version": "1.5.0",
      "model_name": "FloatProgressModel",
      "state": {
       "_dom_classes": [],
       "_model_module": "@jupyter-widgets/controls",
       "_model_module_version": "1.5.0",
       "_model_name": "FloatProgressModel",
       "_view_count": null,
       "_view_module": "@jupyter-widgets/controls",
       "_view_module_version": "1.5.0",
       "_view_name": "ProgressView",
       "bar_style": "success",
       "description": "",
       "description_tooltip": null,
       "layout": "IPY_MODEL_da65413a413a4f0ba97f31679e73f63a",
       "max": 28.0,
       "min": 0.0,
       "orientation": "horizontal",
       "style": "IPY_MODEL_a723a5c659454676b3fbc04e8266a02d",
       "value": 28.0
      }
     },
     "66a422e48bda41cfac233b60997e9ea4": {
      "model_module": "@jupyter-widgets/controls",
      "model_module_version": "1.5.0",
      "model_name": "FloatProgressModel",
      "state": {
       "_dom_classes": [],
       "_model_module": "@jupyter-widgets/controls",
       "_model_module_version": "1.5.0",
       "_model_name": "FloatProgressModel",
       "_view_count": null,
       "_view_module": "@jupyter-widgets/controls",
       "_view_module_version": "1.5.0",
       "_view_name": "ProgressView",
       "bar_style": "success",
       "description": "",
       "description_tooltip": null,
       "layout": "IPY_MODEL_819cf2db83fd41148bdc6e1e75fb93af",
       "max": 466062.0,
       "min": 0.0,
       "orientation": "horizontal",
       "style": "IPY_MODEL_d95c397a039c4c708408fa1163bc9675",
       "value": 466062.0
      }
     },
     "791c8b927c6849feb38e30e7f400796c": {
      "model_module": "@jupyter-widgets/base",
      "model_module_version": "1.2.0",
      "model_name": "LayoutModel",
      "state": {
       "_model_module": "@jupyter-widgets/base",
       "_model_module_version": "1.2.0",
       "_model_name": "LayoutModel",
       "_view_count": null,
       "_view_module": "@jupyter-widgets/base",
       "_view_module_version": "1.2.0",
       "_view_name": "LayoutView",
       "align_content": null,
       "align_items": null,
       "align_self": null,
       "border": null,
       "bottom": null,
       "display": null,
       "flex": null,
       "flex_flow": null,
       "grid_area": null,
       "grid_auto_columns": null,
       "grid_auto_flow": null,
       "grid_auto_rows": null,
       "grid_column": null,
       "grid_gap": null,
       "grid_row": null,
       "grid_template_areas": null,
       "grid_template_columns": null,
       "grid_template_rows": null,
       "height": null,
       "justify_content": null,
       "justify_items": null,
       "left": null,
       "margin": null,
       "max_height": null,
       "max_width": null,
       "min_height": null,
       "min_width": null,
       "object_fit": null,
       "object_position": null,
       "order": null,
       "overflow": null,
       "overflow_x": null,
       "overflow_y": null,
       "padding": null,
       "right": null,
       "top": null,
       "visibility": null,
       "width": null
      }
     },
     "7d4d8786d91b468c9f598eed9c3673e7": {
      "model_module": "@jupyter-widgets/controls",
      "model_module_version": "1.5.0",
      "model_name": "DescriptionStyleModel",
      "state": {
       "_model_module": "@jupyter-widgets/controls",
       "_model_module_version": "1.5.0",
       "_model_name": "DescriptionStyleModel",
       "_view_count": null,
       "_view_module": "@jupyter-widgets/base",
       "_view_module_version": "1.2.0",
       "_view_name": "StyleView",
       "description_width": ""
      }
     },
     "819cf2db83fd41148bdc6e1e75fb93af": {
      "model_module": "@jupyter-widgets/base",
      "model_module_version": "1.2.0",
      "model_name": "LayoutModel",
      "state": {
       "_model_module": "@jupyter-widgets/base",
       "_model_module_version": "1.2.0",
       "_model_name": "LayoutModel",
       "_view_count": null,
       "_view_module": "@jupyter-widgets/base",
       "_view_module_version": "1.2.0",
       "_view_name": "LayoutView",
       "align_content": null,
       "align_items": null,
       "align_self": null,
       "border": null,
       "bottom": null,
       "display": null,
       "flex": null,
       "flex_flow": null,
       "grid_area": null,
       "grid_auto_columns": null,
       "grid_auto_flow": null,
       "grid_auto_rows": null,
       "grid_column": null,
       "grid_gap": null,
       "grid_row": null,
       "grid_template_areas": null,
       "grid_template_columns": null,
       "grid_template_rows": null,
       "height": null,
       "justify_content": null,
       "justify_items": null,
       "left": null,
       "margin": null,
       "max_height": null,
       "max_width": null,
       "min_height": null,
       "min_width": null,
       "object_fit": null,
       "object_position": null,
       "order": null,
       "overflow": null,
       "overflow_x": null,
       "overflow_y": null,
       "padding": null,
       "right": null,
       "top": null,
       "visibility": null,
       "width": null
      }
     },
     "877cfcc4def94308a72de2e86e9a8e9e": {
      "model_module": "@jupyter-widgets/controls",
      "model_module_version": "1.5.0",
      "model_name": "DescriptionStyleModel",
      "state": {
       "_model_module": "@jupyter-widgets/controls",
       "_model_module_version": "1.5.0",
       "_model_name": "DescriptionStyleModel",
       "_view_count": null,
       "_view_module": "@jupyter-widgets/base",
       "_view_module_version": "1.2.0",
       "_view_name": "StyleView",
       "description_width": ""
      }
     },
     "886228d623dd4d3e9add3d7fae894655": {
      "model_module": "@jupyter-widgets/controls",
      "model_module_version": "1.5.0",
      "model_name": "HTMLModel",
      "state": {
       "_dom_classes": [],
       "_model_module": "@jupyter-widgets/controls",
       "_model_module_version": "1.5.0",
       "_model_name": "HTMLModel",
       "_view_count": null,
       "_view_module": "@jupyter-widgets/controls",
       "_view_module_version": "1.5.0",
       "_view_name": "HTMLView",
       "description": "",
       "description_tooltip": null,
       "layout": "IPY_MODEL_791c8b927c6849feb38e30e7f400796c",
       "placeholder": "​",
       "style": "IPY_MODEL_9a39086074a04407bced71638ee3f3f3",
       "value": " 570/570 [00:00&lt;00:00, 46.6kB/s]"
      }
     },
     "8b1f7d5b84954ab8b36dc7b51a9d3517": {
      "model_module": "@jupyter-widgets/controls",
      "model_module_version": "1.5.0",
      "model_name": "DescriptionStyleModel",
      "state": {
       "_model_module": "@jupyter-widgets/controls",
       "_model_module_version": "1.5.0",
       "_model_name": "DescriptionStyleModel",
       "_view_count": null,
       "_view_module": "@jupyter-widgets/base",
       "_view_module_version": "1.2.0",
       "_view_name": "StyleView",
       "description_width": ""
      }
     },
     "91997e0b9a5f41578d876ad222c184aa": {
      "model_module": "@jupyter-widgets/controls",
      "model_module_version": "1.5.0",
      "model_name": "DescriptionStyleModel",
      "state": {
       "_model_module": "@jupyter-widgets/controls",
       "_model_module_version": "1.5.0",
       "_model_name": "DescriptionStyleModel",
       "_view_count": null,
       "_view_module": "@jupyter-widgets/base",
       "_view_module_version": "1.2.0",
       "_view_name": "StyleView",
       "description_width": ""
      }
     },
     "93ace0b86e314695bb9a1e1e5aca99b4": {
      "model_module": "@jupyter-widgets/controls",
      "model_module_version": "1.5.0",
      "model_name": "DescriptionStyleModel",
      "state": {
       "_model_module": "@jupyter-widgets/controls",
       "_model_module_version": "1.5.0",
       "_model_name": "DescriptionStyleModel",
       "_view_count": null,
       "_view_module": "@jupyter-widgets/base",
       "_view_module_version": "1.2.0",
       "_view_name": "StyleView",
       "description_width": ""
      }
     },
     "962f2adc83a248bc90709e212dcf9f6c": {
      "model_module": "@jupyter-widgets/controls",
      "model_module_version": "1.5.0",
      "model_name": "HTMLModel",
      "state": {
       "_dom_classes": [],
       "_model_module": "@jupyter-widgets/controls",
       "_model_module_version": "1.5.0",
       "_model_name": "HTMLModel",
       "_view_count": null,
       "_view_module": "@jupyter-widgets/controls",
       "_view_module_version": "1.5.0",
       "_view_name": "HTMLView",
       "description": "",
       "description_tooltip": null,
       "layout": "IPY_MODEL_3578f7a9529d4879a632c31dc476ede7",
       "placeholder": "​",
       "style": "IPY_MODEL_1ecd6cdd42934ccfb4c558d6d0cc4801",
       "value": "config.json: 100%"
      }
     },
     "9828a96cf31a4bdaa2764d4427ee158b": {
      "model_module": "@jupyter-widgets/base",
      "model_module_version": "1.2.0",
      "model_name": "LayoutModel",
      "state": {
       "_model_module": "@jupyter-widgets/base",
       "_model_module_version": "1.2.0",
       "_model_name": "LayoutModel",
       "_view_count": null,
       "_view_module": "@jupyter-widgets/base",
       "_view_module_version": "1.2.0",
       "_view_name": "LayoutView",
       "align_content": null,
       "align_items": null,
       "align_self": null,
       "border": null,
       "bottom": null,
       "display": null,
       "flex": null,
       "flex_flow": null,
       "grid_area": null,
       "grid_auto_columns": null,
       "grid_auto_flow": null,
       "grid_auto_rows": null,
       "grid_column": null,
       "grid_gap": null,
       "grid_row": null,
       "grid_template_areas": null,
       "grid_template_columns": null,
       "grid_template_rows": null,
       "height": null,
       "justify_content": null,
       "justify_items": null,
       "left": null,
       "margin": null,
       "max_height": null,
       "max_width": null,
       "min_height": null,
       "min_width": null,
       "object_fit": null,
       "object_position": null,
       "order": null,
       "overflow": null,
       "overflow_x": null,
       "overflow_y": null,
       "padding": null,
       "right": null,
       "top": null,
       "visibility": null,
       "width": null
      }
     },
     "99ff889dc74d4321bfa3d95c162986d8": {
      "model_module": "@jupyter-widgets/base",
      "model_module_version": "1.2.0",
      "model_name": "LayoutModel",
      "state": {
       "_model_module": "@jupyter-widgets/base",
       "_model_module_version": "1.2.0",
       "_model_name": "LayoutModel",
       "_view_count": null,
       "_view_module": "@jupyter-widgets/base",
       "_view_module_version": "1.2.0",
       "_view_name": "LayoutView",
       "align_content": null,
       "align_items": null,
       "align_self": null,
       "border": null,
       "bottom": null,
       "display": null,
       "flex": null,
       "flex_flow": null,
       "grid_area": null,
       "grid_auto_columns": null,
       "grid_auto_flow": null,
       "grid_auto_rows": null,
       "grid_column": null,
       "grid_gap": null,
       "grid_row": null,
       "grid_template_areas": null,
       "grid_template_columns": null,
       "grid_template_rows": null,
       "height": null,
       "justify_content": null,
       "justify_items": null,
       "left": null,
       "margin": null,
       "max_height": null,
       "max_width": null,
       "min_height": null,
       "min_width": null,
       "object_fit": null,
       "object_position": null,
       "order": null,
       "overflow": null,
       "overflow_x": null,
       "overflow_y": null,
       "padding": null,
       "right": null,
       "top": null,
       "visibility": null,
       "width": null
      }
     },
     "9a39086074a04407bced71638ee3f3f3": {
      "model_module": "@jupyter-widgets/controls",
      "model_module_version": "1.5.0",
      "model_name": "DescriptionStyleModel",
      "state": {
       "_model_module": "@jupyter-widgets/controls",
       "_model_module_version": "1.5.0",
       "_model_name": "DescriptionStyleModel",
       "_view_count": null,
       "_view_module": "@jupyter-widgets/base",
       "_view_module_version": "1.2.0",
       "_view_name": "StyleView",
       "description_width": ""
      }
     },
     "9ebb045716e543d988f52264139319d2": {
      "model_module": "@jupyter-widgets/controls",
      "model_module_version": "1.5.0",
      "model_name": "DescriptionStyleModel",
      "state": {
       "_model_module": "@jupyter-widgets/controls",
       "_model_module_version": "1.5.0",
       "_model_name": "DescriptionStyleModel",
       "_view_count": null,
       "_view_module": "@jupyter-widgets/base",
       "_view_module_version": "1.2.0",
       "_view_name": "StyleView",
       "description_width": ""
      }
     },
     "a6fec8ef74334a55a4014f8b3ae669ef": {
      "model_module": "@jupyter-widgets/controls",
      "model_module_version": "1.5.0",
      "model_name": "HBoxModel",
      "state": {
       "_dom_classes": [],
       "_model_module": "@jupyter-widgets/controls",
       "_model_module_version": "1.5.0",
       "_model_name": "HBoxModel",
       "_view_count": null,
       "_view_module": "@jupyter-widgets/controls",
       "_view_module_version": "1.5.0",
       "_view_name": "HBoxView",
       "box_style": "",
       "children": [
        "IPY_MODEL_e08fae74d825475f9a48535a21c570a4",
        "IPY_MODEL_66a422e48bda41cfac233b60997e9ea4",
        "IPY_MODEL_4479bb5397fa4a7c95edd5638afb3ba7"
       ],
       "layout": "IPY_MODEL_3255b636dd0a413f8851c93d1919e6b6"
      }
     },
     "a723a5c659454676b3fbc04e8266a02d": {
      "model_module": "@jupyter-widgets/controls",
      "model_module_version": "1.5.0",
      "model_name": "ProgressStyleModel",
      "state": {
       "_model_module": "@jupyter-widgets/controls",
       "_model_module_version": "1.5.0",
       "_model_name": "ProgressStyleModel",
       "_view_count": null,
       "_view_module": "@jupyter-widgets/base",
       "_view_module_version": "1.2.0",
       "_view_name": "StyleView",
       "bar_color": null,
       "description_width": ""
      }
     },
     "a955426c1b954adf9b9745f41b2bff70": {
      "model_module": "@jupyter-widgets/controls",
      "model_module_version": "1.5.0",
      "model_name": "HTMLModel",
      "state": {
       "_dom_classes": [],
       "_model_module": "@jupyter-widgets/controls",
       "_model_module_version": "1.5.0",
       "_model_name": "HTMLModel",
       "_view_count": null,
       "_view_module": "@jupyter-widgets/controls",
       "_view_module_version": "1.5.0",
       "_view_name": "HTMLView",
       "description": "",
       "description_tooltip": null,
       "layout": "IPY_MODEL_13fc04f816d645c6820b95a8a2e80958",
       "placeholder": "​",
       "style": "IPY_MODEL_93ace0b86e314695bb9a1e1e5aca99b4",
       "value": " 28.0/28.0 [00:00&lt;00:00, 2.23kB/s]"
      }
     },
     "ac0e364e86744a78a0db125390a49693": {
      "model_module": "@jupyter-widgets/base",
      "model_module_version": "1.2.0",
      "model_name": "LayoutModel",
      "state": {
       "_model_module": "@jupyter-widgets/base",
       "_model_module_version": "1.2.0",
       "_model_name": "LayoutModel",
       "_view_count": null,
       "_view_module": "@jupyter-widgets/base",
       "_view_module_version": "1.2.0",
       "_view_name": "LayoutView",
       "align_content": null,
       "align_items": null,
       "align_self": null,
       "border": null,
       "bottom": null,
       "display": null,
       "flex": null,
       "flex_flow": null,
       "grid_area": null,
       "grid_auto_columns": null,
       "grid_auto_flow": null,
       "grid_auto_rows": null,
       "grid_column": null,
       "grid_gap": null,
       "grid_row": null,
       "grid_template_areas": null,
       "grid_template_columns": null,
       "grid_template_rows": null,
       "height": null,
       "justify_content": null,
       "justify_items": null,
       "left": null,
       "margin": null,
       "max_height": null,
       "max_width": null,
       "min_height": null,
       "min_width": null,
       "object_fit": null,
       "object_position": null,
       "order": null,
       "overflow": null,
       "overflow_x": null,
       "overflow_y": null,
       "padding": null,
       "right": null,
       "top": null,
       "visibility": null,
       "width": null
      }
     },
     "aecb84d690b14237a8efd09408b528c8": {
      "model_module": "@jupyter-widgets/base",
      "model_module_version": "1.2.0",
      "model_name": "LayoutModel",
      "state": {
       "_model_module": "@jupyter-widgets/base",
       "_model_module_version": "1.2.0",
       "_model_name": "LayoutModel",
       "_view_count": null,
       "_view_module": "@jupyter-widgets/base",
       "_view_module_version": "1.2.0",
       "_view_name": "LayoutView",
       "align_content": null,
       "align_items": null,
       "align_self": null,
       "border": null,
       "bottom": null,
       "display": null,
       "flex": null,
       "flex_flow": null,
       "grid_area": null,
       "grid_auto_columns": null,
       "grid_auto_flow": null,
       "grid_auto_rows": null,
       "grid_column": null,
       "grid_gap": null,
       "grid_row": null,
       "grid_template_areas": null,
       "grid_template_columns": null,
       "grid_template_rows": null,
       "height": null,
       "justify_content": null,
       "justify_items": null,
       "left": null,
       "margin": null,
       "max_height": null,
       "max_width": null,
       "min_height": null,
       "min_width": null,
       "object_fit": null,
       "object_position": null,
       "order": null,
       "overflow": null,
       "overflow_x": null,
       "overflow_y": null,
       "padding": null,
       "right": null,
       "top": null,
       "visibility": null,
       "width": null
      }
     },
     "b7ca512bc9574659b1012ef9f48f3772": {
      "model_module": "@jupyter-widgets/controls",
      "model_module_version": "1.5.0",
      "model_name": "FloatProgressModel",
      "state": {
       "_dom_classes": [],
       "_model_module": "@jupyter-widgets/controls",
       "_model_module_version": "1.5.0",
       "_model_name": "FloatProgressModel",
       "_view_count": null,
       "_view_module": "@jupyter-widgets/controls",
       "_view_module_version": "1.5.0",
       "_view_name": "ProgressView",
       "bar_style": "success",
       "description": "",
       "description_tooltip": null,
       "layout": "IPY_MODEL_fc97014174f246c9ae718bc6328f2026",
       "max": 231508.0,
       "min": 0.0,
       "orientation": "horizontal",
       "style": "IPY_MODEL_43383f62bd944456bdb2836f2834fd63",
       "value": 231508.0
      }
     },
     "bb140b82e4a747eeaa3f1a08b7ab38c1": {
      "model_module": "@jupyter-widgets/controls",
      "model_module_version": "1.5.0",
      "model_name": "ProgressStyleModel",
      "state": {
       "_model_module": "@jupyter-widgets/controls",
       "_model_module_version": "1.5.0",
       "_model_name": "ProgressStyleModel",
       "_view_count": null,
       "_view_module": "@jupyter-widgets/base",
       "_view_module_version": "1.2.0",
       "_view_name": "StyleView",
       "bar_color": null,
       "description_width": ""
      }
     },
     "bc0dd1997f4d4ec2a90398c5fcaed82a": {
      "model_module": "@jupyter-widgets/controls",
      "model_module_version": "1.5.0",
      "model_name": "ProgressStyleModel",
      "state": {
       "_model_module": "@jupyter-widgets/controls",
       "_model_module_version": "1.5.0",
       "_model_name": "ProgressStyleModel",
       "_view_count": null,
       "_view_module": "@jupyter-widgets/base",
       "_view_module_version": "1.2.0",
       "_view_name": "StyleView",
       "bar_color": null,
       "description_width": ""
      }
     },
     "c0366982d98a4c1a8a9dd3fc160d2d08": {
      "model_module": "@jupyter-widgets/base",
      "model_module_version": "1.2.0",
      "model_name": "LayoutModel",
      "state": {
       "_model_module": "@jupyter-widgets/base",
       "_model_module_version": "1.2.0",
       "_model_name": "LayoutModel",
       "_view_count": null,
       "_view_module": "@jupyter-widgets/base",
       "_view_module_version": "1.2.0",
       "_view_name": "LayoutView",
       "align_content": null,
       "align_items": null,
       "align_self": null,
       "border": null,
       "bottom": null,
       "display": null,
       "flex": null,
       "flex_flow": null,
       "grid_area": null,
       "grid_auto_columns": null,
       "grid_auto_flow": null,
       "grid_auto_rows": null,
       "grid_column": null,
       "grid_gap": null,
       "grid_row": null,
       "grid_template_areas": null,
       "grid_template_columns": null,
       "grid_template_rows": null,
       "height": null,
       "justify_content": null,
       "justify_items": null,
       "left": null,
       "margin": null,
       "max_height": null,
       "max_width": null,
       "min_height": null,
       "min_width": null,
       "object_fit": null,
       "object_position": null,
       "order": null,
       "overflow": null,
       "overflow_x": null,
       "overflow_y": null,
       "padding": null,
       "right": null,
       "top": null,
       "visibility": null,
       "width": null
      }
     },
     "c1e18bd57a9444cfb75fd1090502c617": {
      "model_module": "@jupyter-widgets/controls",
      "model_module_version": "1.5.0",
      "model_name": "HBoxModel",
      "state": {
       "_dom_classes": [],
       "_model_module": "@jupyter-widgets/controls",
       "_model_module_version": "1.5.0",
       "_model_name": "HBoxModel",
       "_view_count": null,
       "_view_module": "@jupyter-widgets/controls",
       "_view_module_version": "1.5.0",
       "_view_name": "HBoxView",
       "box_style": "",
       "children": [
        "IPY_MODEL_efb5e2389b5b48c88a25ae817a761f3d",
        "IPY_MODEL_b7ca512bc9574659b1012ef9f48f3772",
        "IPY_MODEL_c7104cebff104537bf1294be5f60f564"
       ],
       "layout": "IPY_MODEL_c0366982d98a4c1a8a9dd3fc160d2d08"
      }
     },
     "c7104cebff104537bf1294be5f60f564": {
      "model_module": "@jupyter-widgets/controls",
      "model_module_version": "1.5.0",
      "model_name": "HTMLModel",
      "state": {
       "_dom_classes": [],
       "_model_module": "@jupyter-widgets/controls",
       "_model_module_version": "1.5.0",
       "_model_name": "HTMLModel",
       "_view_count": null,
       "_view_module": "@jupyter-widgets/controls",
       "_view_module_version": "1.5.0",
       "_view_name": "HTMLView",
       "description": "",
       "description_tooltip": null,
       "layout": "IPY_MODEL_3be8528a7dcd4df0b4b2722354583204",
       "placeholder": "​",
       "style": "IPY_MODEL_9ebb045716e543d988f52264139319d2",
       "value": " 232k/232k [00:00&lt;00:00, 5.39MB/s]"
      }
     },
     "cd494f0c061449138116c637eb788173": {
      "model_module": "@jupyter-widgets/controls",
      "model_module_version": "1.5.0",
      "model_name": "HTMLModel",
      "state": {
       "_dom_classes": [],
       "_model_module": "@jupyter-widgets/controls",
       "_model_module_version": "1.5.0",
       "_model_name": "HTMLModel",
       "_view_count": null,
       "_view_module": "@jupyter-widgets/controls",
       "_view_module_version": "1.5.0",
       "_view_name": "HTMLView",
       "description": "",
       "description_tooltip": null,
       "layout": "IPY_MODEL_ac0e364e86744a78a0db125390a49693",
       "placeholder": "​",
       "style": "IPY_MODEL_91997e0b9a5f41578d876ad222c184aa",
       "value": "tokenizer_config.json: 100%"
      }
     },
     "d0637e9162914709822cd2e42fa2659a": {
      "model_module": "@jupyter-widgets/base",
      "model_module_version": "1.2.0",
      "model_name": "LayoutModel",
      "state": {
       "_model_module": "@jupyter-widgets/base",
       "_model_module_version": "1.2.0",
       "_model_name": "LayoutModel",
       "_view_count": null,
       "_view_module": "@jupyter-widgets/base",
       "_view_module_version": "1.2.0",
       "_view_name": "LayoutView",
       "align_content": null,
       "align_items": null,
       "align_self": null,
       "border": null,
       "bottom": null,
       "display": null,
       "flex": null,
       "flex_flow": null,
       "grid_area": null,
       "grid_auto_columns": null,
       "grid_auto_flow": null,
       "grid_auto_rows": null,
       "grid_column": null,
       "grid_gap": null,
       "grid_row": null,
       "grid_template_areas": null,
       "grid_template_columns": null,
       "grid_template_rows": null,
       "height": null,
       "justify_content": null,
       "justify_items": null,
       "left": null,
       "margin": null,
       "max_height": null,
       "max_width": null,
       "min_height": null,
       "min_width": null,
       "object_fit": null,
       "object_position": null,
       "order": null,
       "overflow": null,
       "overflow_x": null,
       "overflow_y": null,
       "padding": null,
       "right": null,
       "top": null,
       "visibility": null,
       "width": null
      }
     },
     "d95c397a039c4c708408fa1163bc9675": {
      "model_module": "@jupyter-widgets/controls",
      "model_module_version": "1.5.0",
      "model_name": "ProgressStyleModel",
      "state": {
       "_model_module": "@jupyter-widgets/controls",
       "_model_module_version": "1.5.0",
       "_model_name": "ProgressStyleModel",
       "_view_count": null,
       "_view_module": "@jupyter-widgets/base",
       "_view_module_version": "1.2.0",
       "_view_name": "StyleView",
       "bar_color": null,
       "description_width": ""
      }
     },
     "da65413a413a4f0ba97f31679e73f63a": {
      "model_module": "@jupyter-widgets/base",
      "model_module_version": "1.2.0",
      "model_name": "LayoutModel",
      "state": {
       "_model_module": "@jupyter-widgets/base",
       "_model_module_version": "1.2.0",
       "_model_name": "LayoutModel",
       "_view_count": null,
       "_view_module": "@jupyter-widgets/base",
       "_view_module_version": "1.2.0",
       "_view_name": "LayoutView",
       "align_content": null,
       "align_items": null,
       "align_self": null,
       "border": null,
       "bottom": null,
       "display": null,
       "flex": null,
       "flex_flow": null,
       "grid_area": null,
       "grid_auto_columns": null,
       "grid_auto_flow": null,
       "grid_auto_rows": null,
       "grid_column": null,
       "grid_gap": null,
       "grid_row": null,
       "grid_template_areas": null,
       "grid_template_columns": null,
       "grid_template_rows": null,
       "height": null,
       "justify_content": null,
       "justify_items": null,
       "left": null,
       "margin": null,
       "max_height": null,
       "max_width": null,
       "min_height": null,
       "min_width": null,
       "object_fit": null,
       "object_position": null,
       "order": null,
       "overflow": null,
       "overflow_x": null,
       "overflow_y": null,
       "padding": null,
       "right": null,
       "top": null,
       "visibility": null,
       "width": null
      }
     },
     "e08fae74d825475f9a48535a21c570a4": {
      "model_module": "@jupyter-widgets/controls",
      "model_module_version": "1.5.0",
      "model_name": "HTMLModel",
      "state": {
       "_dom_classes": [],
       "_model_module": "@jupyter-widgets/controls",
       "_model_module_version": "1.5.0",
       "_model_name": "HTMLModel",
       "_view_count": null,
       "_view_module": "@jupyter-widgets/controls",
       "_view_module_version": "1.5.0",
       "_view_name": "HTMLView",
       "description": "",
       "description_tooltip": null,
       "layout": "IPY_MODEL_99ff889dc74d4321bfa3d95c162986d8",
       "placeholder": "​",
       "style": "IPY_MODEL_877cfcc4def94308a72de2e86e9a8e9e",
       "value": "tokenizer.json: 100%"
      }
     },
     "e3734c16e118444ca7ee76004fe3ac88": {
      "model_module": "@jupyter-widgets/base",
      "model_module_version": "1.2.0",
      "model_name": "LayoutModel",
      "state": {
       "_model_module": "@jupyter-widgets/base",
       "_model_module_version": "1.2.0",
       "_model_name": "LayoutModel",
       "_view_count": null,
       "_view_module": "@jupyter-widgets/base",
       "_view_module_version": "1.2.0",
       "_view_name": "LayoutView",
       "align_content": null,
       "align_items": null,
       "align_self": null,
       "border": null,
       "bottom": null,
       "display": null,
       "flex": null,
       "flex_flow": null,
       "grid_area": null,
       "grid_auto_columns": null,
       "grid_auto_flow": null,
       "grid_auto_rows": null,
       "grid_column": null,
       "grid_gap": null,
       "grid_row": null,
       "grid_template_areas": null,
       "grid_template_columns": null,
       "grid_template_rows": null,
       "height": null,
       "justify_content": null,
       "justify_items": null,
       "left": null,
       "margin": null,
       "max_height": null,
       "max_width": null,
       "min_height": null,
       "min_width": null,
       "object_fit": null,
       "object_position": null,
       "order": null,
       "overflow": null,
       "overflow_x": null,
       "overflow_y": null,
       "padding": null,
       "right": null,
       "top": null,
       "visibility": null,
       "width": null
      }
     },
     "e3cc8b6804924deab0cc8e0f892cef24": {
      "model_module": "@jupyter-widgets/controls",
      "model_module_version": "1.5.0",
      "model_name": "HTMLModel",
      "state": {
       "_dom_classes": [],
       "_model_module": "@jupyter-widgets/controls",
       "_model_module_version": "1.5.0",
       "_model_name": "HTMLModel",
       "_view_count": null,
       "_view_module": "@jupyter-widgets/controls",
       "_view_module_version": "1.5.0",
       "_view_name": "HTMLView",
       "description": "",
       "description_tooltip": null,
       "layout": "IPY_MODEL_e3734c16e118444ca7ee76004fe3ac88",
       "placeholder": "​",
       "style": "IPY_MODEL_7d4d8786d91b468c9f598eed9c3673e7",
       "value": "model.safetensors: 100%"
      }
     },
     "e738a43f88384a68b43d5d2666aa1d5f": {
      "model_module": "@jupyter-widgets/controls",
      "model_module_version": "1.5.0",
      "model_name": "HBoxModel",
      "state": {
       "_dom_classes": [],
       "_model_module": "@jupyter-widgets/controls",
       "_model_module_version": "1.5.0",
       "_model_name": "HBoxModel",
       "_view_count": null,
       "_view_module": "@jupyter-widgets/controls",
       "_view_module_version": "1.5.0",
       "_view_name": "HBoxView",
       "box_style": "",
       "children": [
        "IPY_MODEL_e3cc8b6804924deab0cc8e0f892cef24",
        "IPY_MODEL_387661b9a5d2431889a1378b91dec953",
        "IPY_MODEL_31fe9362c44d4ea9b2eeea5a2c3b821f"
       ],
       "layout": "IPY_MODEL_d0637e9162914709822cd2e42fa2659a"
      }
     },
     "efb5e2389b5b48c88a25ae817a761f3d": {
      "model_module": "@jupyter-widgets/controls",
      "model_module_version": "1.5.0",
      "model_name": "HTMLModel",
      "state": {
       "_dom_classes": [],
       "_model_module": "@jupyter-widgets/controls",
       "_model_module_version": "1.5.0",
       "_model_name": "HTMLModel",
       "_view_count": null,
       "_view_module": "@jupyter-widgets/controls",
       "_view_module_version": "1.5.0",
       "_view_name": "HTMLView",
       "description": "",
       "description_tooltip": null,
       "layout": "IPY_MODEL_aecb84d690b14237a8efd09408b528c8",
       "placeholder": "​",
       "style": "IPY_MODEL_8b1f7d5b84954ab8b36dc7b51a9d3517",
       "value": "vocab.txt: 100%"
      }
     },
     "f8c1e5c229af43bfbc86f45e9e5eac36": {
      "model_module": "@jupyter-widgets/controls",
      "model_module_version": "1.5.0",
      "model_name": "FloatProgressModel",
      "state": {
       "_dom_classes": [],
       "_model_module": "@jupyter-widgets/controls",
       "_model_module_version": "1.5.0",
       "_model_name": "FloatProgressModel",
       "_view_count": null,
       "_view_module": "@jupyter-widgets/controls",
       "_view_module_version": "1.5.0",
       "_view_name": "ProgressView",
       "bar_style": "success",
       "description": "",
       "description_tooltip": null,
       "layout": "IPY_MODEL_00664fb9037545b7bd427e16c2075a01",
       "max": 570.0,
       "min": 0.0,
       "orientation": "horizontal",
       "style": "IPY_MODEL_bb140b82e4a747eeaa3f1a08b7ab38c1",
       "value": 570.0
      }
     },
     "fbd638acf1214f34842bc41e78c48ccc": {
      "model_module": "@jupyter-widgets/controls",
      "model_module_version": "1.5.0",
      "model_name": "DescriptionStyleModel",
      "state": {
       "_model_module": "@jupyter-widgets/controls",
       "_model_module_version": "1.5.0",
       "_model_name": "DescriptionStyleModel",
       "_view_count": null,
       "_view_module": "@jupyter-widgets/base",
       "_view_module_version": "1.2.0",
       "_view_name": "StyleView",
       "description_width": ""
      }
     },
     "fc97014174f246c9ae718bc6328f2026": {
      "model_module": "@jupyter-widgets/base",
      "model_module_version": "1.2.0",
      "model_name": "LayoutModel",
      "state": {
       "_model_module": "@jupyter-widgets/base",
       "_model_module_version": "1.2.0",
       "_model_name": "LayoutModel",
       "_view_count": null,
       "_view_module": "@jupyter-widgets/base",
       "_view_module_version": "1.2.0",
       "_view_name": "LayoutView",
       "align_content": null,
       "align_items": null,
       "align_self": null,
       "border": null,
       "bottom": null,
       "display": null,
       "flex": null,
       "flex_flow": null,
       "grid_area": null,
       "grid_auto_columns": null,
       "grid_auto_flow": null,
       "grid_auto_rows": null,
       "grid_column": null,
       "grid_gap": null,
       "grid_row": null,
       "grid_template_areas": null,
       "grid_template_columns": null,
       "grid_template_rows": null,
       "height": null,
       "justify_content": null,
       "justify_items": null,
       "left": null,
       "margin": null,
       "max_height": null,
       "max_width": null,
       "min_height": null,
       "min_width": null,
       "object_fit": null,
       "object_position": null,
       "order": null,
       "overflow": null,
       "overflow_x": null,
       "overflow_y": null,
       "padding": null,
       "right": null,
       "top": null,
       "visibility": null,
       "width": null
      }
     }
    },
    "version_major": 2,
    "version_minor": 0
   }
  }
 },
 "nbformat": 4,
 "nbformat_minor": 5
}
