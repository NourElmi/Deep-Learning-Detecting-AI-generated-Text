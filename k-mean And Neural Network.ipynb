{
 "cells": [
  {
   "cell_type": "code",
   "execution_count": 1,
   "id": "094c61dd",
   "metadata": {
    "_cell_guid": "b1076dfc-b9ad-4769-8c92-a6c4dae69d19",
    "_uuid": "8f2839f25d086af736a60e9eeb907d3b93b6e0e5",
    "execution": {
     "iopub.execute_input": "2024-01-19T17:28:31.903177Z",
     "iopub.status.busy": "2024-01-19T17:28:31.902831Z",
     "iopub.status.idle": "2024-01-19T17:32:19.735038Z",
     "shell.execute_reply": "2024-01-19T17:32:19.733948Z"
    },
    "papermill": {
     "duration": 227.84839,
     "end_time": "2024-01-19T17:32:19.737546",
     "exception": false,
     "start_time": "2024-01-19T17:28:31.889156",
     "status": "completed"
    },
    "tags": []
   },
   "outputs": [
    {
     "name": "stdout",
     "output_type": "stream",
     "text": [
      "Requirement already satisfied: keras-core in /opt/conda/lib/python3.10/site-packages (0.1.7)\r\n",
      "\u001b[33mWARNING: Retrying (Retry(total=4, connect=None, read=None, redirect=None, status=None)) after connection broken by 'NewConnectionError('<pip._vendor.urllib3.connection.HTTPSConnection object at 0x7f369f043610>: Failed to establish a new connection: [Errno -3] Temporary failure in name resolution')': /simple/keras-core/\u001b[0m\u001b[33m\r\n",
      "\u001b[0m\u001b[33mWARNING: Retrying (Retry(total=3, connect=None, read=None, redirect=None, status=None)) after connection broken by 'NewConnectionError('<pip._vendor.urllib3.connection.HTTPSConnection object at 0x7f369f043910>: Failed to establish a new connection: [Errno -3] Temporary failure in name resolution')': /simple/keras-core/\u001b[0m\u001b[33m\r\n",
      "\u001b[0m\u001b[33mWARNING: Retrying (Retry(total=2, connect=None, read=None, redirect=None, status=None)) after connection broken by 'NewConnectionError('<pip._vendor.urllib3.connection.HTTPSConnection object at 0x7f369f043ac0>: Failed to establish a new connection: [Errno -3] Temporary failure in name resolution')': /simple/keras-core/\u001b[0m\u001b[33m\r\n",
      "\u001b[0m\u001b[33mWARNING: Retrying (Retry(total=1, connect=None, read=None, redirect=None, status=None)) after connection broken by 'NewConnectionError('<pip._vendor.urllib3.connection.HTTPSConnection object at 0x7f369f043c70>: Failed to establish a new connection: [Errno -3] Temporary failure in name resolution')': /simple/keras-core/\u001b[0m\u001b[33m\r\n",
      "\u001b[0m\u001b[33mWARNING: Retrying (Retry(total=0, connect=None, read=None, redirect=None, status=None)) after connection broken by 'NewConnectionError('<pip._vendor.urllib3.connection.HTTPSConnection object at 0x7f369f043e20>: Failed to establish a new connection: [Errno -3] Temporary failure in name resolution')': /simple/keras-core/\u001b[0m\u001b[33m\r\n",
      "\u001b[0mRequirement already satisfied: absl-py in /opt/conda/lib/python3.10/site-packages (from keras-core) (1.4.0)\r\n",
      "Requirement already satisfied: numpy in /opt/conda/lib/python3.10/site-packages (from keras-core) (1.24.3)\r\n",
      "Requirement already satisfied: rich in /opt/conda/lib/python3.10/site-packages (from keras-core) (13.5.2)\r\n",
      "Requirement already satisfied: namex in /opt/conda/lib/python3.10/site-packages (from keras-core) (0.0.7)\r\n",
      "Requirement already satisfied: h5py in /opt/conda/lib/python3.10/site-packages (from keras-core) (3.9.0)\r\n",
      "Requirement already satisfied: dm-tree in /opt/conda/lib/python3.10/site-packages (from keras-core) (0.1.8)\r\n",
      "Requirement already satisfied: markdown-it-py>=2.2.0 in /opt/conda/lib/python3.10/site-packages (from rich->keras-core) (3.0.0)\r\n",
      "Requirement already satisfied: pygments<3.0.0,>=2.13.0 in /opt/conda/lib/python3.10/site-packages (from rich->keras-core) (2.16.1)\r\n",
      "Requirement already satisfied: mdurl~=0.1 in /opt/conda/lib/python3.10/site-packages (from markdown-it-py>=2.2.0->rich->keras-core) (0.1.2)\r\n",
      "Requirement already satisfied: seaborn in /opt/conda/lib/python3.10/site-packages (0.12.2)\r\n",
      "Requirement already satisfied: numpy!=1.24.0,>=1.17 in /opt/conda/lib/python3.10/site-packages (from seaborn) (1.24.3)\r\n",
      "Requirement already satisfied: pandas>=0.25 in /opt/conda/lib/python3.10/site-packages (from seaborn) (2.0.3)\r\n",
      "Requirement already satisfied: matplotlib!=3.6.1,>=3.1 in /opt/conda/lib/python3.10/site-packages (from seaborn) (3.7.4)\r\n",
      "Requirement already satisfied: contourpy>=1.0.1 in /opt/conda/lib/python3.10/site-packages (from matplotlib!=3.6.1,>=3.1->seaborn) (1.1.0)\r\n",
      "Requirement already satisfied: cycler>=0.10 in /opt/conda/lib/python3.10/site-packages (from matplotlib!=3.6.1,>=3.1->seaborn) (0.11.0)\r\n",
      "Requirement already satisfied: fonttools>=4.22.0 in /opt/conda/lib/python3.10/site-packages (from matplotlib!=3.6.1,>=3.1->seaborn) (4.42.1)\r\n",
      "Requirement already satisfied: kiwisolver>=1.0.1 in /opt/conda/lib/python3.10/site-packages (from matplotlib!=3.6.1,>=3.1->seaborn) (1.4.4)\r\n",
      "Requirement already satisfied: packaging>=20.0 in /opt/conda/lib/python3.10/site-packages (from matplotlib!=3.6.1,>=3.1->seaborn) (21.3)\r\n",
      "Requirement already satisfied: pillow>=6.2.0 in /opt/conda/lib/python3.10/site-packages (from matplotlib!=3.6.1,>=3.1->seaborn) (9.5.0)\r\n",
      "Requirement already satisfied: pyparsing>=2.3.1 in /opt/conda/lib/python3.10/site-packages (from matplotlib!=3.6.1,>=3.1->seaborn) (3.0.9)\r\n",
      "Requirement already satisfied: python-dateutil>=2.7 in /opt/conda/lib/python3.10/site-packages (from matplotlib!=3.6.1,>=3.1->seaborn) (2.8.2)\r\n",
      "Requirement already satisfied: pytz>=2020.1 in /opt/conda/lib/python3.10/site-packages (from pandas>=0.25->seaborn) (2023.3)\r\n",
      "Requirement already satisfied: tzdata>=2022.1 in /opt/conda/lib/python3.10/site-packages (from pandas>=0.25->seaborn) (2023.3)\r\n",
      "Requirement already satisfied: six>=1.5 in /opt/conda/lib/python3.10/site-packages (from python-dateutil>=2.7->matplotlib!=3.6.1,>=3.1->seaborn) (1.16.0)\r\n"
     ]
    }
   ],
   "source": [
    "!pip install keras-core --upgrade\n",
    "!pip install -q keras-nlp\n",
    "!pip install seaborn"
   ]
  },
  {
   "cell_type": "code",
   "execution_count": 2,
   "id": "b6d7c08f",
   "metadata": {
    "execution": {
     "iopub.execute_input": "2024-01-19T17:32:19.767301Z",
     "iopub.status.busy": "2024-01-19T17:32:19.766222Z",
     "iopub.status.idle": "2024-01-19T17:32:43.273321Z",
     "shell.execute_reply": "2024-01-19T17:32:43.272094Z"
    },
    "papermill": {
     "duration": 23.525103,
     "end_time": "2024-01-19T17:32:43.275874",
     "exception": false,
     "start_time": "2024-01-19T17:32:19.750771",
     "status": "completed"
    },
    "tags": []
   },
   "outputs": [
    {
     "name": "stderr",
     "output_type": "stream",
     "text": [
      "/opt/conda/lib/python3.10/site-packages/scipy/__init__.py:146: UserWarning: A NumPy version >=1.16.5 and <1.23.0 is required for this version of SciPy (detected version 1.24.3\n",
      "  warnings.warn(f\"A NumPy version >={np_minversion} and <{np_maxversion}\"\n"
     ]
    },
    {
     "name": "stdout",
     "output_type": "stream",
     "text": [
      "Using TensorFlow backend\n",
      "TensorFlow version: 2.13.0\n",
      "Keras version: 0.1.7\n",
      "KerasNLP version: 0.7.0\n"
     ]
    }
   ],
   "source": [
    "import os\n",
    "os.environ['KERAS_BACKEND'] = 'tensorflow'\n",
    "import numpy as np # linear algebra\n",
    "import pandas as pd # data processing, CSV file I/O (e.g. pd.read_csv)\n",
    "import tensorflow as tf\n",
    "import keras_core as keras\n",
    "import keras_nlp\n",
    "import seaborn as sns\n",
    "import matplotlib.pyplot as plt\n",
    "\n",
    "#this step not mandatory , just for avoiding problem caused by \n",
    "print(\"TensorFlow version:\", tf.__version__)\n",
    "print(\"Keras version:\", keras.__version__)\n",
    "print(\"KerasNLP version:\", keras_nlp.__version__)"
   ]
  },
  {
   "cell_type": "code",
   "execution_count": 3,
   "id": "037c13ae",
   "metadata": {
    "execution": {
     "iopub.execute_input": "2024-01-19T17:32:43.307267Z",
     "iopub.status.busy": "2024-01-19T17:32:43.306572Z",
     "iopub.status.idle": "2024-01-19T17:32:43.311575Z",
     "shell.execute_reply": "2024-01-19T17:32:43.310529Z"
    },
    "papermill": {
     "duration": 0.023451,
     "end_time": "2024-01-19T17:32:43.313991",
     "exception": false,
     "start_time": "2024-01-19T17:32:43.290540",
     "status": "completed"
    },
    "tags": []
   },
   "outputs": [],
   "source": [
    "# ***Read Train_Data and identify different classes***"
   ]
  },
  {
   "cell_type": "markdown",
   "id": "0feefcbf",
   "metadata": {
    "papermill": {
     "duration": 0.01555,
     "end_time": "2024-01-19T17:32:43.343861",
     "exception": false,
     "start_time": "2024-01-19T17:32:43.328311",
     "status": "completed"
    },
    "tags": []
   },
   "source": [
    "# **--------------------------------------**"
   ]
  },
  {
   "cell_type": "code",
   "execution_count": 4,
   "id": "56b02a80",
   "metadata": {
    "execution": {
     "iopub.execute_input": "2024-01-19T17:32:43.374048Z",
     "iopub.status.busy": "2024-01-19T17:32:43.373625Z",
     "iopub.status.idle": "2024-01-19T17:32:43.535194Z",
     "shell.execute_reply": "2024-01-19T17:32:43.534241Z"
    },
    "papermill": {
     "duration": 0.179164,
     "end_time": "2024-01-19T17:32:43.537343",
     "exception": false,
     "start_time": "2024-01-19T17:32:43.358179",
     "status": "completed"
    },
    "tags": []
   },
   "outputs": [
    {
     "name": "stdout",
     "output_type": "stream",
     "text": [
      "<class 'pandas.core.frame.DataFrame'>\n",
      "RangeIndex: 1378 entries, 0 to 1377\n",
      "Data columns (total 4 columns):\n",
      " #   Column     Non-Null Count  Dtype \n",
      "---  ------     --------------  ----- \n",
      " 0   id         1378 non-null   object\n",
      " 1   prompt_id  1378 non-null   int64 \n",
      " 2   text       1378 non-null   object\n",
      " 3   generated  1378 non-null   int64 \n",
      "dtypes: int64(2), object(2)\n",
      "memory usage: 43.2+ KB\n",
      "None\n",
      "\n",
      "\n",
      " ### THIS IS THE CLASSES THAT WE HAVE : # [0 1] ### The CLASS 1 REPRESENT TEXTS GENERATED BY IA AND THE CLASS 0 REPRESENT TEXTS GENERATED BY HUMAN\n",
      "\n",
      "\n"
     ]
    },
    {
     "data": {
      "text/html": [
       "<div>\n",
       "<style scoped>\n",
       "    .dataframe tbody tr th:only-of-type {\n",
       "        vertical-align: middle;\n",
       "    }\n",
       "\n",
       "    .dataframe tbody tr th {\n",
       "        vertical-align: top;\n",
       "    }\n",
       "\n",
       "    .dataframe thead th {\n",
       "        text-align: right;\n",
       "    }\n",
       "</style>\n",
       "<table border=\"1\" class=\"dataframe\">\n",
       "  <thead>\n",
       "    <tr style=\"text-align: right;\">\n",
       "      <th></th>\n",
       "      <th>id</th>\n",
       "      <th>prompt_id</th>\n",
       "      <th>text</th>\n",
       "      <th>generated</th>\n",
       "    </tr>\n",
       "  </thead>\n",
       "  <tbody>\n",
       "    <tr>\n",
       "      <th>0</th>\n",
       "      <td>0059830c</td>\n",
       "      <td>0</td>\n",
       "      <td>Cars. Cars have been around since they became ...</td>\n",
       "      <td>0</td>\n",
       "    </tr>\n",
       "    <tr>\n",
       "      <th>1</th>\n",
       "      <td>005db917</td>\n",
       "      <td>0</td>\n",
       "      <td>Transportation is a large necessity in most co...</td>\n",
       "      <td>0</td>\n",
       "    </tr>\n",
       "    <tr>\n",
       "      <th>2</th>\n",
       "      <td>008f63e3</td>\n",
       "      <td>0</td>\n",
       "      <td>\"America's love affair with it's vehicles seem...</td>\n",
       "      <td>0</td>\n",
       "    </tr>\n",
       "    <tr>\n",
       "      <th>3</th>\n",
       "      <td>00940276</td>\n",
       "      <td>0</td>\n",
       "      <td>How often do you ride in a car? Do you drive a...</td>\n",
       "      <td>0</td>\n",
       "    </tr>\n",
       "    <tr>\n",
       "      <th>4</th>\n",
       "      <td>00c39458</td>\n",
       "      <td>0</td>\n",
       "      <td>Cars are a wonderful thing. They are perhaps o...</td>\n",
       "      <td>0</td>\n",
       "    </tr>\n",
       "  </tbody>\n",
       "</table>\n",
       "</div>"
      ],
      "text/plain": [
       "         id  prompt_id                                               text  \\\n",
       "0  0059830c          0  Cars. Cars have been around since they became ...   \n",
       "1  005db917          0  Transportation is a large necessity in most co...   \n",
       "2  008f63e3          0  \"America's love affair with it's vehicles seem...   \n",
       "3  00940276          0  How often do you ride in a car? Do you drive a...   \n",
       "4  00c39458          0  Cars are a wonderful thing. They are perhaps o...   \n",
       "\n",
       "   generated  \n",
       "0          0  \n",
       "1          0  \n",
       "2          0  \n",
       "3          0  \n",
       "4          0  "
      ]
     },
     "execution_count": 4,
     "metadata": {},
     "output_type": "execute_result"
    }
   ],
   "source": [
    "#read train_data\n",
    "DATA_DIR = '/kaggle/input/llm-detect-ai-generated-text/'\n",
    "data_data_train_final = pd.read_csv(DATA_DIR + \"train_essays.csv\")\n",
    "# Display information about the DataFrame\n",
    "print(data_data_train_final.info())\n",
    "\n",
    "# Collect unique values in the 'generated' column\n",
    "classes = data_data_train_final['generated'].unique()\n",
    "maxsize = data_data_train_final['text'].apply(len).max()\n",
    "\n",
    "# Print the unique values \n",
    "\n",
    "print('\\n\\n ### THIS IS THE CLASSES THAT WE HAVE : #',classes,'### The CLASS 1 REPRESENT TEXTS GENERATED BY IA AND THE CLASS 0 REPRESENT TEXTS GENERATED BY HUMAN\\n\\n')\n",
    "data_data_train_final.head()\n"
   ]
  },
  {
   "cell_type": "markdown",
   "id": "825d1d1c",
   "metadata": {
    "papermill": {
     "duration": 0.014046,
     "end_time": "2024-01-19T17:32:43.565617",
     "exception": false,
     "start_time": "2024-01-19T17:32:43.551571",
     "status": "completed"
    },
    "tags": []
   },
   "source": [
    "*  We can see that we have 2 classes. And we need to work on the dimension of the texts because they are really huge."
   ]
  },
  {
   "cell_type": "markdown",
   "id": "2c6aab14",
   "metadata": {
    "papermill": {
     "duration": 0.014609,
     "end_time": "2024-01-19T17:32:43.594902",
     "exception": false,
     "start_time": "2024-01-19T17:32:43.580293",
     "status": "completed"
    },
    "tags": []
   },
   "source": [
    "# ***Visualisation of train data***"
   ]
  },
  {
   "cell_type": "markdown",
   "id": "cf36753b",
   "metadata": {
    "papermill": {
     "duration": 0.014211,
     "end_time": "2024-01-19T17:32:43.623418",
     "exception": false,
     "start_time": "2024-01-19T17:32:43.609207",
     "status": "completed"
    },
    "tags": []
   },
   "source": [
    "# **--------------------------------------**"
   ]
  },
  {
   "cell_type": "code",
   "execution_count": 5,
   "id": "a3fee98b",
   "metadata": {
    "execution": {
     "iopub.execute_input": "2024-01-19T17:32:43.709805Z",
     "iopub.status.busy": "2024-01-19T17:32:43.709397Z",
     "iopub.status.idle": "2024-01-19T17:32:44.044751Z",
     "shell.execute_reply": "2024-01-19T17:32:44.043855Z"
    },
    "papermill": {
     "duration": 0.352475,
     "end_time": "2024-01-19T17:32:44.046715",
     "exception": false,
     "start_time": "2024-01-19T17:32:43.694240",
     "status": "completed"
    },
    "tags": []
   },
   "outputs": [
    {
     "data": {
      "text/plain": [
       "Text(0.5, 1.0, 'Distibution of classes in in train essays')"
      ]
     },
     "execution_count": 5,
     "metadata": {},
     "output_type": "execute_result"
    },
    {
     "data": {
      "image/png": "[encoded data removed]",
      "text/plain": [
       "<Figure size 1200x400 with 1 Axes>"
      ]
     },
     "metadata": {},
     "output_type": "display_data"
    }
   ],
   "source": [
    "f, ax = plt.subplots(figsize=(12, 4))\n",
    "\n",
    "sns.despine()\n",
    "ax = sns.countplot(data=data_data_train_final,\n",
    "                   x=\"generated\", palette=['skyblue', 'purple'])\n",
    "\n",
    "abs_values = data_data_train_final['generated'].value_counts().values\n",
    "\n",
    "ax.bar_label(container=ax.containers[0], labels=abs_values)\n",
    "\n",
    "ax.set_title(\"Distibution of classes in in train essays\")\n"
   ]
  },
  {
   "cell_type": "code",
   "execution_count": 6,
   "id": "a139a9d8",
   "metadata": {
    "execution": {
     "iopub.execute_input": "2024-01-19T17:32:44.077260Z",
     "iopub.status.busy": "2024-01-19T17:32:44.076530Z",
     "iopub.status.idle": "2024-01-19T17:32:44.258752Z",
     "shell.execute_reply": "2024-01-19T17:32:44.257310Z"
    },
    "papermill": {
     "duration": 0.202659,
     "end_time": "2024-01-19T17:32:44.263659",
     "exception": false,
     "start_time": "2024-01-19T17:32:44.061000",
     "status": "completed"
    },
    "tags": []
   },
   "outputs": [
    {
     "name": "stdout",
     "output_type": "stream",
     "text": [
      "generated\n",
      "0    1375\n",
      "1       3\n",
      "Name: count, dtype: int64\n"
     ]
    },
    {
     "data": {
      "image/png": "[encoded data removed]",
      "text/plain": [
       "<Figure size 300x300 with 1 Axes>"
      ]
     },
     "metadata": {},
     "output_type": "display_data"
    }
   ],
   "source": [
    "generated_count =data_data_train_final['generated'].value_counts()\n",
    "print(generated_count)\n",
    "labels = generated_count.index\n",
    "explode = (0, 0.2)\n",
    "plt.figure(figsize=(3,3))\n",
    "plt.pie(generated_count, labels=labels, autopct='%1.1f%%', explode=explode, startangle=90,colors=['skyblue', 'purple'])\n",
    "plt.title('Distribution of Generated Values')\n",
    "legend_labels = ['Human_generated', 'ia_generated']\n",
    "plt.legend(legend_labels, loc='right',fontsize='small')\n",
    "plt.show()"
   ]
  },
  {
   "cell_type": "markdown",
   "id": "a7e5e1d1",
   "metadata": {
    "papermill": {
     "duration": 0.032334,
     "end_time": "2024-01-19T17:32:44.332661",
     "exception": false,
     "start_time": "2024-01-19T17:32:44.300327",
     "status": "completed"
    },
    "tags": []
   },
   "source": [
    "* We can see that our Data is not balanced . So we will move to adding data to our data set in order to balance it ."
   ]
  },
  {
   "cell_type": "markdown",
   "id": "c6b5323e",
   "metadata": {
    "papermill": {
     "duration": 0.015203,
     "end_time": "2024-01-19T17:32:44.364203",
     "exception": false,
     "start_time": "2024-01-19T17:32:44.349000",
     "status": "completed"
    },
    "tags": []
   },
   "source": [
    "# **Add New data**"
   ]
  },
  {
   "cell_type": "markdown",
   "id": "af278003",
   "metadata": {
    "papermill": {
     "duration": 0.015559,
     "end_time": "2024-01-19T17:32:44.395288",
     "exception": false,
     "start_time": "2024-01-19T17:32:44.379729",
     "status": "completed"
    },
    "tags": []
   },
   "source": [
    "# **--------------------------------------**"
   ]
  },
  {
   "cell_type": "code",
   "execution_count": 7,
   "id": "2729e2ce",
   "metadata": {
    "execution": {
     "iopub.execute_input": "2024-01-19T17:32:44.429283Z",
     "iopub.status.busy": "2024-01-19T17:32:44.428383Z",
     "iopub.status.idle": "2024-01-19T17:32:46.790913Z",
     "shell.execute_reply": "2024-01-19T17:32:46.789319Z"
    },
    "papermill": {
     "duration": 2.384362,
     "end_time": "2024-01-19T17:32:46.795422",
     "exception": false,
     "start_time": "2024-01-19T17:32:44.411060",
     "status": "completed"
    },
    "tags": []
   },
   "outputs": [
    {
     "name": "stdout",
     "output_type": "stream",
     "text": [
      "label\n",
      "0    27371\n",
      "1    17497\n",
      "Name: count, dtype: int64\n"
     ]
    },
    {
     "data": {
      "image/png": "[encoded data removed]",
      "text/plain": [
       "<Figure size 300x300 with 1 Axes>"
      ]
     },
     "metadata": {},
     "output_type": "display_data"
    }
   ],
   "source": [
    "#LETS SEE THE DISTRIBUTION OF THE DATA THAT WE WILL ADD\n",
    "new_data= pd.read_csv(\"/kaggle/input/daigt-v2-train-dataset/train_v2_drcat_02.csv\")\n",
    "new_data.head(10)\n",
    "generated_count =new_data['label'].value_counts()\n",
    "print(generated_count)\n",
    "labels = generated_count.index\n",
    "explode = (0, 0.2)\n",
    "plt.figure(figsize=(3,3))\n",
    "plt.pie(generated_count, labels=labels, autopct='%1.1f%%', explode=explode, startangle=90 ,colors=['skyblue', 'purple'])\n",
    "plt.title('Distribution of Generated Values')\n",
    "legend_labels = ['Human_generated', 'ia_generated']\n",
    "plt.legend(legend_labels, loc='lower right',fontsize='small')\n",
    "plt.show()"
   ]
  },
  {
   "cell_type": "code",
   "execution_count": 8,
   "id": "0dc7f3c7",
   "metadata": {
    "execution": {
     "iopub.execute_input": "2024-01-19T17:32:46.867382Z",
     "iopub.status.busy": "2024-01-19T17:32:46.865925Z",
     "iopub.status.idle": "2024-01-19T17:32:46.889817Z",
     "shell.execute_reply": "2024-01-19T17:32:46.888684Z"
    },
    "papermill": {
     "duration": 0.062116,
     "end_time": "2024-01-19T17:32:46.892057",
     "exception": false,
     "start_time": "2024-01-19T17:32:46.829941",
     "status": "completed"
    },
    "tags": []
   },
   "outputs": [],
   "source": [
    "#Here we will choose randomly data from the data that we will use to make our dataset balanced\n",
    "# we will choose randomly essays that was written by ia and others written with human. \n",
    "new_data.rename(columns={'label':'generated'}, inplace=True)     ## Rename data\n",
    "random_generated_data_ai = new_data[new_data['generated'] == 1].sample(n=2070, random_state=42)     ## Select 2000 random data point of ai genrated\n",
    "random_generated_data_human = new_data[new_data['generated'] == 0].sample(n=700, random_state=42)   ## Select 2000 random data point of Human genrated\n",
    "\n",
    "train_essay_selected = data_data_train_final[['text', 'generated']]\n",
    "data_train_final = pd.concat([train_essay_selected, random_generated_data_ai[['text', 'generated']],random_generated_data_human[['text', 'generated']]])    ## Create data set for training containg label and Text\n",
    "data_train_final = data_train_final.sample(frac=1, random_state=42).reset_index(drop=True)"
   ]
  },
  {
   "cell_type": "code",
   "execution_count": 9,
   "id": "49319e6d",
   "metadata": {
    "execution": {
     "iopub.execute_input": "2024-01-19T17:32:46.923808Z",
     "iopub.status.busy": "2024-01-19T17:32:46.922908Z",
     "iopub.status.idle": "2024-01-19T17:32:47.070054Z",
     "shell.execute_reply": "2024-01-19T17:32:47.068423Z"
    },
    "papermill": {
     "duration": 0.167759,
     "end_time": "2024-01-19T17:32:47.075184",
     "exception": false,
     "start_time": "2024-01-19T17:32:46.907425",
     "status": "completed"
    },
    "tags": []
   },
   "outputs": [
    {
     "name": "stdout",
     "output_type": "stream",
     "text": [
      "generated\n",
      "0    2075\n",
      "1    2073\n",
      "Name: count, dtype: int64\n"
     ]
    },
    {
     "data": {
      "image/png": "[encoded data removed]",
      "text/plain": [
       "<Figure size 300x300 with 1 Axes>"
      ]
     },
     "metadata": {},
     "output_type": "display_data"
    }
   ],
   "source": [
    "generated_count = data_train_final['generated'].value_counts()\n",
    "print(generated_count)\n",
    "labels = generated_count.index\n",
    "explode = (0, 0.2)\n",
    "plt.figure(figsize=(3,3))\n",
    "plt.pie(generated_count, labels=labels, autopct='%1.1f%%', explode=explode, startangle=90 ,colors=['skyblue', 'purple'])\n",
    "plt.title('Distribution of Generated Values')\n",
    "legend_labels = ['Human_generated', 'ia_generated']\n",
    "plt.legend(legend_labels, loc='lower right',fontsize='small')\n",
    "plt.show()"
   ]
  },
  {
   "cell_type": "markdown",
   "id": "0729351e",
   "metadata": {
    "papermill": {
     "duration": 0.031626,
     "end_time": "2024-01-19T17:32:47.147408",
     "exception": false,
     "start_time": "2024-01-19T17:32:47.115782",
     "status": "completed"
    },
    "tags": []
   },
   "source": [
    "Now our Data is balanced"
   ]
  },
  {
   "cell_type": "markdown",
   "id": "b5490637",
   "metadata": {
    "papermill": {
     "duration": 0.01593,
     "end_time": "2024-01-19T17:32:47.180104",
     "exception": false,
     "start_time": "2024-01-19T17:32:47.164174",
     "status": "completed"
    },
    "tags": []
   },
   "source": [
    "# **Add New Test Data**"
   ]
  },
  {
   "cell_type": "markdown",
   "id": "ee18196e",
   "metadata": {
    "papermill": {
     "duration": 0.016323,
     "end_time": "2024-01-19T17:32:47.212385",
     "exception": false,
     "start_time": "2024-01-19T17:32:47.196062",
     "status": "completed"
    },
    "tags": []
   },
   "source": [
    "# **--------------------------------------**"
   ]
  },
  {
   "cell_type": "code",
   "execution_count": 10,
   "id": "3308888a",
   "metadata": {
    "execution": {
     "iopub.execute_input": "2024-01-19T17:32:47.247336Z",
     "iopub.status.busy": "2024-01-19T17:32:47.246315Z",
     "iopub.status.idle": "2024-01-19T17:32:49.655025Z",
     "shell.execute_reply": "2024-01-19T17:32:49.653978Z"
    },
    "papermill": {
     "duration": 2.42869,
     "end_time": "2024-01-19T17:32:49.657418",
     "exception": false,
     "start_time": "2024-01-19T17:32:47.228728",
     "status": "completed"
    },
    "tags": []
   },
   "outputs": [
    {
     "name": "stdout",
     "output_type": "stream",
     "text": [
      "\n",
      "\n"
     ]
    },
    {
     "data": {
      "text/html": [
       "<div>\n",
       "<style scoped>\n",
       "    .dataframe tbody tr th:only-of-type {\n",
       "        vertical-align: middle;\n",
       "    }\n",
       "\n",
       "    .dataframe tbody tr th {\n",
       "        vertical-align: top;\n",
       "    }\n",
       "\n",
       "    .dataframe thead th {\n",
       "        text-align: right;\n",
       "    }\n",
       "</style>\n",
       "<table border=\"1\" class=\"dataframe\">\n",
       "  <thead>\n",
       "    <tr style=\"text-align: right;\">\n",
       "      <th></th>\n",
       "      <th>essay_id</th>\n",
       "      <th>text</th>\n",
       "      <th>label</th>\n",
       "      <th>source</th>\n",
       "      <th>prompt</th>\n",
       "      <th>fold</th>\n",
       "    </tr>\n",
       "  </thead>\n",
       "  <tbody>\n",
       "    <tr>\n",
       "      <th>0</th>\n",
       "      <td>E897534557AF</td>\n",
       "      <td>In recent years, technology has had a profoun...</td>\n",
       "      <td>1</td>\n",
       "      <td>mistral7binstruct_v2</td>\n",
       "      <td>\\nTask: Write an essay discussing the positive...</td>\n",
       "      <td>1</td>\n",
       "    </tr>\n",
       "    <tr>\n",
       "      <th>1</th>\n",
       "      <td>DFBA34FFE11D</td>\n",
       "      <td>Should students participate in an extracurricu...</td>\n",
       "      <td>0</td>\n",
       "      <td>persuade_corpus</td>\n",
       "      <td>NaN</td>\n",
       "      <td>2</td>\n",
       "    </tr>\n",
       "    <tr>\n",
       "      <th>2</th>\n",
       "      <td>af37ecf5</td>\n",
       "      <td>The electoral college is a symbol of mockery a...</td>\n",
       "      <td>0</td>\n",
       "      <td>train_essays</td>\n",
       "      <td>NaN</td>\n",
       "      <td>5</td>\n",
       "    </tr>\n",
       "    <tr>\n",
       "      <th>3</th>\n",
       "      <td>5EC2696BAD78</td>\n",
       "      <td>This is why I think the principle should allow...</td>\n",
       "      <td>0</td>\n",
       "      <td>persuade_corpus</td>\n",
       "      <td>NaN</td>\n",
       "      <td>8</td>\n",
       "    </tr>\n",
       "    <tr>\n",
       "      <th>4</th>\n",
       "      <td>llama_70b_v1843</td>\n",
       "      <td>I strongly believe that meditation and mindful...</td>\n",
       "      <td>1</td>\n",
       "      <td>llama_70b_v1</td>\n",
       "      <td>Some schools have implemented meditation and m...</td>\n",
       "      <td>0</td>\n",
       "    </tr>\n",
       "  </tbody>\n",
       "</table>\n",
       "</div>"
      ],
      "text/plain": [
       "          essay_id                                               text  label  \\\n",
       "0     E897534557AF   In recent years, technology has had a profoun...      1   \n",
       "1     DFBA34FFE11D  Should students participate in an extracurricu...      0   \n",
       "2         af37ecf5  The electoral college is a symbol of mockery a...      0   \n",
       "3     5EC2696BAD78  This is why I think the principle should allow...      0   \n",
       "4  llama_70b_v1843  I strongly believe that meditation and mindful...      1   \n",
       "\n",
       "                 source                                             prompt  \\\n",
       "0  mistral7binstruct_v2  \\nTask: Write an essay discussing the positive...   \n",
       "1       persuade_corpus                                                NaN   \n",
       "2          train_essays                                                NaN   \n",
       "3       persuade_corpus                                                NaN   \n",
       "4          llama_70b_v1  Some schools have implemented meditation and m...   \n",
       "\n",
       "   fold  \n",
       "0     1  \n",
       "1     2  \n",
       "2     5  \n",
       "3     8  \n",
       "4     0  "
      ]
     },
     "metadata": {},
     "output_type": "display_data"
    },
    {
     "name": "stdout",
     "output_type": "stream",
     "text": [
      "\n",
      "  • we removed the Labels from the data set and we kept the text and essays_id so that we can use this data to test our models. \n",
      " This is the final data set:\n",
      "\n",
      "\n",
      "\n"
     ]
    },
    {
     "data": {
      "text/html": [
       "<div>\n",
       "<style scoped>\n",
       "    .dataframe tbody tr th:only-of-type {\n",
       "        vertical-align: middle;\n",
       "    }\n",
       "\n",
       "    .dataframe tbody tr th {\n",
       "        vertical-align: top;\n",
       "    }\n",
       "\n",
       "    .dataframe thead th {\n",
       "        text-align: right;\n",
       "    }\n",
       "</style>\n",
       "<table border=\"1\" class=\"dataframe\">\n",
       "  <thead>\n",
       "    <tr style=\"text-align: right;\">\n",
       "      <th></th>\n",
       "      <th>essay_id</th>\n",
       "      <th>text</th>\n",
       "      <th>source</th>\n",
       "      <th>fold</th>\n",
       "    </tr>\n",
       "  </thead>\n",
       "  <tbody>\n",
       "    <tr>\n",
       "      <th>0</th>\n",
       "      <td>E897534557AF</td>\n",
       "      <td>In recent years, technology has had a profoun...</td>\n",
       "      <td>mistral7binstruct_v2</td>\n",
       "      <td>1</td>\n",
       "    </tr>\n",
       "    <tr>\n",
       "      <th>1</th>\n",
       "      <td>DFBA34FFE11D</td>\n",
       "      <td>Should students participate in an extracurricu...</td>\n",
       "      <td>persuade_corpus</td>\n",
       "      <td>2</td>\n",
       "    </tr>\n",
       "    <tr>\n",
       "      <th>2</th>\n",
       "      <td>af37ecf5</td>\n",
       "      <td>The electoral college is a symbol of mockery a...</td>\n",
       "      <td>train_essays</td>\n",
       "      <td>5</td>\n",
       "    </tr>\n",
       "    <tr>\n",
       "      <th>3</th>\n",
       "      <td>5EC2696BAD78</td>\n",
       "      <td>This is why I think the principle should allow...</td>\n",
       "      <td>persuade_corpus</td>\n",
       "      <td>8</td>\n",
       "    </tr>\n",
       "    <tr>\n",
       "      <th>4</th>\n",
       "      <td>llama_70b_v1843</td>\n",
       "      <td>I strongly believe that meditation and mindful...</td>\n",
       "      <td>llama_70b_v1</td>\n",
       "      <td>0</td>\n",
       "    </tr>\n",
       "  </tbody>\n",
       "</table>\n",
       "</div>"
      ],
      "text/plain": [
       "          essay_id                                               text  \\\n",
       "0     E897534557AF   In recent years, technology has had a profoun...   \n",
       "1     DFBA34FFE11D  Should students participate in an extracurricu...   \n",
       "2         af37ecf5  The electoral college is a symbol of mockery a...   \n",
       "3     5EC2696BAD78  This is why I think the principle should allow...   \n",
       "4  llama_70b_v1843  I strongly believe that meditation and mindful...   \n",
       "\n",
       "                 source  fold  \n",
       "0  mistral7binstruct_v2     1  \n",
       "1       persuade_corpus     2  \n",
       "2          train_essays     5  \n",
       "3       persuade_corpus     8  \n",
       "4          llama_70b_v1     0  "
      ]
     },
     "metadata": {},
     "output_type": "display_data"
    }
   ],
   "source": [
    "# Load the CSV file into a DataFrame\n",
    "df_test1 = pd.read_csv('/kaggle/input/daigt-proper-train-dataset/train_drcat_04.csv')\n",
    "df_test1.head()\n",
    "\n",
    "# Remove the column labels\n",
    "df_test = df_test1.iloc[2:]\n",
    "\n",
    "# Keep only the desired columns and the first 10 rows for example\n",
    "columns_to_keep = ['essay_id', 'text', 'source', 'fold']\n",
    "df_test = df_test1[columns_to_keep].head(10)\n",
    "\n",
    "# Display the resulting datasets\n",
    "print(\"\\n\")\n",
    "display(df_test1.head())\n",
    "print(\"\\n  • we removed the Labels from the data set and we kept the text and essays_id so that we can use this data to test our models. \\n This is the final data set:\\n\")\n",
    "print(\"\\n\")\n",
    "display(df_test.head())\n"
   ]
  },
  {
   "cell_type": "markdown",
   "id": "a1fe01bf",
   "metadata": {
    "papermill": {
     "duration": 0.01566,
     "end_time": "2024-01-19T17:32:49.689778",
     "exception": false,
     "start_time": "2024-01-19T17:32:49.674118",
     "status": "completed"
    },
    "tags": []
   },
   "source": [
    "# **--------------------------------------**"
   ]
  },
  {
   "cell_type": "markdown",
   "id": "74c98eef",
   "metadata": {
    "papermill": {
     "duration": 0.015572,
     "end_time": "2024-01-19T17:32:49.721615",
     "exception": false,
     "start_time": "2024-01-19T17:32:49.706043",
     "status": "completed"
    },
    "tags": []
   },
   "source": [
    "   # **Models**"
   ]
  },
  {
   "cell_type": "markdown",
   "id": "c2463ffc",
   "metadata": {
    "papermill": {
     "duration": 0.016763,
     "end_time": "2024-01-19T17:32:49.753897",
     "exception": false,
     "start_time": "2024-01-19T17:32:49.737134",
     "status": "completed"
    },
    "tags": []
   },
   "source": [
    "# **--------------------------------------**"
   ]
  },
  {
   "cell_type": "markdown",
   "id": "b68087e5",
   "metadata": {
    "papermill": {
     "duration": 0.0172,
     "end_time": "2024-01-19T17:32:49.788329",
     "exception": false,
     "start_time": "2024-01-19T17:32:49.771129",
     "status": "completed"
    },
    "tags": []
   },
   "source": [
    "> **Imports**"
   ]
  },
  {
   "cell_type": "code",
   "execution_count": 11,
   "id": "3a4300f6",
   "metadata": {
    "execution": {
     "iopub.execute_input": "2024-01-19T17:32:49.825175Z",
     "iopub.status.busy": "2024-01-19T17:32:49.824782Z",
     "iopub.status.idle": "2024-01-19T17:32:59.341184Z",
     "shell.execute_reply": "2024-01-19T17:32:59.340242Z"
    },
    "papermill": {
     "duration": 9.537662,
     "end_time": "2024-01-19T17:32:59.343707",
     "exception": false,
     "start_time": "2024-01-19T17:32:49.806045",
     "status": "completed"
    },
    "tags": []
   },
   "outputs": [],
   "source": [
    "# Importing necessary libraries\n",
    "from sklearn.cluster import KMeans\n",
    "from sklearn.model_selection import train_test_split\n",
    "from sklearn.linear_model import LogisticRegression\n",
    "from sklearn.metrics import accuracy_score, silhouette_score\n",
    "import matplotlib.pyplot as plt\n",
    "from sklearn.feature_extraction.text import TfidfVectorizer\n",
    "from sklearn.model_selection import train_test_split\n",
    "from sklearn.preprocessing import LabelEncoder\n",
    "from sklearn.decomposition import PCA\n",
    "# from sklearn.manifold import TSNE  \n",
    "from tensorflow.keras.models import Sequential\n",
    "from tensorflow.keras.layers import Dense, Dropout\n",
    "import matplotlib.pyplot as plt\n",
    "from sklearn.metrics import confusion_matrix, classification_report, accuracy_score, precision_score, recall_score, f1_score\n",
    "from tensorflow.keras.metrics import Accuracy, Precision, Recall\n",
    "from prettytable import PrettyTable\n",
    "import seaborn as sns\n",
    "from tabulate import tabulate\n",
    "\n",
    "# Importing necessary libraries FOR Transformers\n",
    "from nltk.tokenize import sent_tokenize\n",
    "import torch\n",
    "from torch.utils.data import DataLoader, TensorDataset, random_split\n",
    "from transformers import BertTokenizer\n",
    "from transformers import BertTokenizer, BertForSequenceClassification, AdamW\n",
    "import plotly.graph_objects as go"
   ]
  },
  {
   "cell_type": "markdown",
   "id": "85d75763",
   "metadata": {
    "papermill": {
     "duration": 0.016747,
     "end_time": "2024-01-19T17:32:59.377708",
     "exception": false,
     "start_time": "2024-01-19T17:32:59.360961",
     "status": "completed"
    },
    "tags": []
   },
   "source": [
    "> # **Unsepervised learning: K-mean++**"
   ]
  },
  {
   "cell_type": "markdown",
   "id": "fc848e33",
   "metadata": {
    "papermill": {
     "duration": 0.016623,
     "end_time": "2024-01-19T17:32:59.412254",
     "exception": false,
     "start_time": "2024-01-19T17:32:59.395631",
     "status": "completed"
    },
    "tags": []
   },
   "source": [
    "# **--------------------------------------------------------------**"
   ]
  },
  {
   "cell_type": "markdown",
   "id": "d141a5c5",
   "metadata": {
    "papermill": {
     "duration": 0.016701,
     "end_time": "2024-01-19T17:32:59.445661",
     "exception": false,
     "start_time": "2024-01-19T17:32:59.428960",
     "status": "completed"
    },
    "tags": []
   },
   "source": [
    "* **Step 1 : Data Split & Vectorisation**\n",
    "    * KMeans is an unsupervised learning algorithm,The labels are not used during the clustering process because KMeans doesn't rely on labeled data; it identifies patterns and groups based on the features"
   ]
  },
  {
   "cell_type": "code",
   "execution_count": 12,
   "id": "0beec2d8",
   "metadata": {
    "execution": {
     "iopub.execute_input": "2024-01-19T17:32:59.482788Z",
     "iopub.status.busy": "2024-01-19T17:32:59.481482Z",
     "iopub.status.idle": "2024-01-19T17:33:01.329406Z",
     "shell.execute_reply": "2024-01-19T17:33:01.328536Z"
    },
    "papermill": {
     "duration": 1.868901,
     "end_time": "2024-01-19T17:33:01.331908",
     "exception": false,
     "start_time": "2024-01-19T17:32:59.463007",
     "status": "completed"
    },
    "tags": []
   },
   "outputs": [],
   "source": [
    "X_train, X_test, y_train, y_test = train_test_split(data_train_final['text'], data_train_final['generated'], test_size=0.2, random_state=42)\n",
    "# Vectorisation\n",
    "vectorizer = TfidfVectorizer()\n",
    "X_train_tfidf = vectorizer.fit_transform(X_train)\n",
    "X_test_tfidf = vectorizer.transform(X_test)"
   ]
  },
  {
   "cell_type": "markdown",
   "id": "483fe9b9",
   "metadata": {
    "papermill": {
     "duration": 0.016683,
     "end_time": "2024-01-19T17:33:01.365372",
     "exception": false,
     "start_time": "2024-01-19T17:33:01.348689",
     "status": "completed"
    },
    "tags": []
   },
   "source": [
    "* **Step 2 : Clustering Model K-Means**\n",
    "\n",
    "    1. Let's Choose the value of k : **Elbow Method** \n",
    "        * The Elbow Method involves running k-means clustering on the dataset for a range of values of k and calculating the sum of squared distances (inertia) from each point to its assigned center. **The point where the rate of decrease in inertia sharply changes** (**forming an \"elbow\" in the plot**) is often considered as **the optimal k**.\n",
    "    "
   ]
  },
  {
   "cell_type": "code",
   "execution_count": 13,
   "id": "15bb70b6",
   "metadata": {
    "execution": {
     "iopub.execute_input": "2024-01-19T17:33:01.402698Z",
     "iopub.status.busy": "2024-01-19T17:33:01.401816Z",
     "iopub.status.idle": "2024-01-19T17:33:15.092474Z",
     "shell.execute_reply": "2024-01-19T17:33:15.091405Z"
    },
    "papermill": {
     "duration": 13.712556,
     "end_time": "2024-01-19T17:33:15.095105",
     "exception": false,
     "start_time": "2024-01-19T17:33:01.382549",
     "status": "completed"
    },
    "tags": []
   },
   "outputs": [
    {
     "name": "stderr",
     "output_type": "stream",
     "text": [
      "/opt/conda/lib/python3.10/site-packages/sklearn/cluster/_kmeans.py:870: FutureWarning: The default value of `n_init` will change from 10 to 'auto' in 1.4. Set the value of `n_init` explicitly to suppress the warning\n",
      "  warnings.warn(\n"
     ]
    },
    {
     "data": {
      "image/png": "[encoded data removed]",
      "text/plain": [
       "<Figure size 700x300 with 1 Axes>"
      ]
     },
     "metadata": {},
     "output_type": "display_data"
    }
   ],
   "source": [
    "# Elbow Method\n",
    "inertias = []\n",
    "k_values = range(1, 11)\n",
    "\n",
    "for k in k_values:\n",
    "    kmeans = KMeans(n_clusters=k, random_state=42)\n",
    "    kmeans.fit(X_train_tfidf)\n",
    "    inertias.append(kmeans.inertia_)\n",
    "plt.figure(figsize=(7, 3))\n",
    "plt.plot(k_values, inertias, marker='o', color='purple')\n",
    "plt.xlabel('Number of Clusters (k)')\n",
    "plt.ylabel('Inertia')\n",
    "plt.title('Elbow Method')\n",
    "plt.show()"
   ]
  },
  {
   "cell_type": "markdown",
   "id": "fb27d60f",
   "metadata": {
    "papermill": {
     "duration": 0.019039,
     "end_time": "2024-01-19T17:33:15.132700",
     "exception": false,
     "start_time": "2024-01-19T17:33:15.113661",
     "status": "completed"
    },
    "tags": []
   },
   "source": [
    "* We can start see that we have an Elbow in the graph when the Number of Clusters **K=2**"
   ]
  },
  {
   "cell_type": "markdown",
   "id": "cbabf7b7",
   "metadata": {
    "papermill": {
     "duration": 0.016897,
     "end_time": "2024-01-19T17:33:15.168420",
     "exception": false,
     "start_time": "2024-01-19T17:33:15.151523",
     "status": "completed"
    },
    "tags": []
   },
   "source": [
    "2. **Define Model Parameters & Train:** \n",
    "     * in k-means++, the first centroid is chosen randomly from the data points, and subsequent centroids are chosen with a probability proportional to their distance from the existing centroids.\n",
    "    * we will Run the K-mean++ algorithm 30 times => we will have 30 initial centriods one at a run\n",
    "    * For each initial centriod we will run the k means 300times we may stop before 300 if we found the converge solution\n",
    "    * in each 300: we will calculate the distance between each point and each centroids and also the mean(average) of all the points in a cluster(CENTROID) and we will update the location of the centriod"
   ]
  },
  {
   "cell_type": "code",
   "execution_count": 14,
   "id": "42f85a6d",
   "metadata": {
    "execution": {
     "iopub.execute_input": "2024-01-19T17:33:15.205567Z",
     "iopub.status.busy": "2024-01-19T17:33:15.204749Z",
     "iopub.status.idle": "2024-01-19T17:33:16.182663Z",
     "shell.execute_reply": "2024-01-19T17:33:16.181668Z"
    },
    "papermill": {
     "duration": 0.999109,
     "end_time": "2024-01-19T17:33:16.185333",
     "exception": false,
     "start_time": "2024-01-19T17:33:15.186224",
     "status": "completed"
    },
    "tags": []
   },
   "outputs": [],
   "source": [
    "kmeans = KMeans(n_clusters=2, init='k-means++', n_init=30, max_iter=300, random_state=42)\n",
    "train_clusters = kmeans.fit_predict(X_train_tfidf)\n",
    "test_clusters = kmeans.predict(X_test_tfidf)"
   ]
  },
  {
   "cell_type": "markdown",
   "id": "d6d7cbea",
   "metadata": {
    "papermill": {
     "duration": 0.017435,
     "end_time": "2024-01-19T17:33:16.223316",
     "exception": false,
     "start_time": "2024-01-19T17:33:16.205881",
     "status": "completed"
    },
    "tags": []
   },
   "source": [
    "* **Step 3: Plot the 2 K-Mean Clusters & Classes**\n",
    "    * We first apply the **PCA**: To reduce the high-dimensional TF-IDF feature space to 2 dimensions PC1 & PC2. * In the **Scatter plot**: each point is represented by its coordinates in the reduced 2D space (X_train_pca[:, 0] and X_train_pca[:, 1]). \n",
    "    * **Scatter Plot for Actual Classes:** The first subplot (left side) displays a scatter plot where each point represents a data sample in the reduced 2D space. The **color of each point is determined by the actual class labels** (y_train). This plot helps **visualize the distribution and separation of actual classes in the reduced space**.\n",
    "    * **Scatter Plot for K-Means Clusters:** The second subplot (right side) displays a scatter plot where each point represents a data sample, similar to the first subplot. However, the **color of each point is determined by the clusters assigned by the K-Means algorithm** (train_clusters). This plot helps visualize how well K-Means is able to group the data into clusters based on their similarity in the reduced space. \n",
    " \n",
    "    "
   ]
  },
  {
   "cell_type": "code",
   "execution_count": 15,
   "id": "d334f776",
   "metadata": {
    "execution": {
     "iopub.execute_input": "2024-01-19T17:33:16.258687Z",
     "iopub.status.busy": "2024-01-19T17:33:16.258312Z",
     "iopub.status.idle": "2024-01-19T17:33:21.714733Z",
     "shell.execute_reply": "2024-01-19T17:33:21.713560Z"
    },
    "papermill": {
     "duration": 5.477664,
     "end_time": "2024-01-19T17:33:21.717659",
     "exception": false,
     "start_time": "2024-01-19T17:33:16.239995",
     "status": "completed"
    },
    "tags": []
   },
   "outputs": [
    {
     "data": {
      "image/png": "[encoded data removed]",
      "text/plain": [
       "<Figure size 1200x500 with 2 Axes>"
      ]
     },
     "metadata": {},
     "output_type": "display_data"
    }
   ],
   "source": [
    "# Reduce dimensionality for visualization (assuming X_train_tfidf is sparse)\n",
    "pca = PCA(n_components=2)\n",
    "X_train_pca = pca.fit_transform(X_train_tfidf.toarray())\n",
    "\n",
    "# Scatter plot for actual classes\n",
    "plt.figure(figsize=(12, 5))\n",
    "\n",
    "plt.subplot(1, 2, 1)\n",
    "plt.scatter(X_train_pca[:, 0], X_train_pca[:, 1], c=y_train, cmap='viridis')\n",
    "plt.title('Actual Classes')\n",
    "plt.xlabel('Principal Component 1')\n",
    "plt.ylabel('Principal Component 2')\n",
    "\n",
    "# Scatter plot for k-means clusters\n",
    "plt.subplot(1, 2, 2)\n",
    "plt.scatter(X_train_pca[:, 0], X_train_pca[:, 1], c=train_clusters, cmap='viridis')\n",
    "plt.title('K-Means Clusters')\n",
    "plt.xlabel('Principal Component 1')\n",
    "plt.ylabel('Principal Component 2')\n",
    "\n",
    "plt.tight_layout()\n",
    "plt.show()"
   ]
  },
  {
   "cell_type": "markdown",
   "id": "b5901dce",
   "metadata": {
    "papermill": {
     "duration": 0.019307,
     "end_time": "2024-01-19T17:33:21.757249",
     "exception": false,
     "start_time": "2024-01-19T17:33:21.737942",
     "status": "completed"
    },
    "tags": []
   },
   "source": [
    "> **CONCLUSION: Relation between Actual Classes and K-Means Clusters:**\n",
    "* By comparing the two scatter plots side by side, we can visually assess how well K-Means clustering aligns with the actual classes. If the colors in the K-Means Clusters plot correspond well to the colors in the Actual Classes plot, it indicates that the K-Means algorithm has successfully grouped the data points into clusters that align with the true classes. In our case **there's a mismatch, whitch means that the clustering might not be consistent with the true classes**. This visualization helps in understanding the performance of the clustering algorithm in relation to the actual class labels."
   ]
  },
  {
   "cell_type": "markdown",
   "id": "3f132152",
   "metadata": {
    "papermill": {
     "duration": 0.019606,
     "end_time": "2024-01-19T17:33:21.795751",
     "exception": false,
     "start_time": "2024-01-19T17:33:21.776145",
     "status": "completed"
    },
    "tags": []
   },
   "source": [
    "*  **Evaluation: Silhouette Score**\n",
    "    * The silhouette score is a metric that measures how well-separated the clusters are. It ranges from -1 to 1, where a higher score indicates better-defined clusters and appropriately separated."
   ]
  },
  {
   "cell_type": "code",
   "execution_count": 16,
   "id": "b451f90d",
   "metadata": {
    "execution": {
     "iopub.execute_input": "2024-01-19T17:33:21.836902Z",
     "iopub.status.busy": "2024-01-19T17:33:21.836034Z",
     "iopub.status.idle": "2024-01-19T17:33:24.138911Z",
     "shell.execute_reply": "2024-01-19T17:33:24.137631Z"
    },
    "papermill": {
     "duration": 2.325857,
     "end_time": "2024-01-19T17:33:24.141138",
     "exception": false,
     "start_time": "2024-01-19T17:33:21.815281",
     "status": "completed"
    },
    "tags": []
   },
   "outputs": [
    {
     "name": "stdout",
     "output_type": "stream",
     "text": [
      "Silhouette Score for Clustering: 0.04507088488188888\n"
     ]
    }
   ],
   "source": [
    "silhouette_avg = silhouette_score(X_train_tfidf, train_clusters)\n",
    "print(f\"Silhouette Score for Clustering: {silhouette_avg}\")"
   ]
  },
  {
   "cell_type": "markdown",
   "id": "356b9531",
   "metadata": {
    "papermill": {
     "duration": 0.018528,
     "end_time": "2024-01-19T17:33:24.179105",
     "exception": false,
     "start_time": "2024-01-19T17:33:24.160577",
     "status": "completed"
    },
    "tags": []
   },
   "source": [
    "* **The result Around 0**: Indicates **overlapping clusters**, where the object could be assigned to either of the two neighboring clusters, or that the data points are very close to the decision boundary between clusters."
   ]
  },
  {
   "cell_type": "markdown",
   "id": "edc69911",
   "metadata": {
    "papermill": {
     "duration": 0.018489,
     "end_time": "2024-01-19T17:33:24.216206",
     "exception": false,
     "start_time": "2024-01-19T17:33:24.197717",
     "status": "completed"
    },
    "tags": []
   },
   "source": [
    "> # ***Simple Neural Network with 3 Dense Layers***"
   ]
  },
  {
   "cell_type": "markdown",
   "id": "58bad6df",
   "metadata": {
    "papermill": {
     "duration": 0.018033,
     "end_time": "2024-01-19T17:33:24.252889",
     "exception": false,
     "start_time": "2024-01-19T17:33:24.234856",
     "status": "completed"
    },
    "tags": []
   },
   "source": [
    "# **--------------------------------------------------------------**"
   ]
  },
  {
   "cell_type": "markdown",
   "id": "e0c05be5",
   "metadata": {
    "papermill": {
     "duration": 0.018478,
     "end_time": "2024-01-19T17:33:24.290020",
     "exception": false,
     "start_time": "2024-01-19T17:33:24.271542",
     "status": "completed"
    },
    "tags": []
   },
   "source": [
    "* **Step 1: Load and Preprocess the Data**"
   ]
  },
  {
   "cell_type": "code",
   "execution_count": 17,
   "id": "5e824d0c",
   "metadata": {
    "execution": {
     "iopub.execute_input": "2024-01-19T17:33:24.328612Z",
     "iopub.status.busy": "2024-01-19T17:33:24.328018Z",
     "iopub.status.idle": "2024-01-19T17:33:24.336190Z",
     "shell.execute_reply": "2024-01-19T17:33:24.335249Z"
    },
    "papermill": {
     "duration": 0.029421,
     "end_time": "2024-01-19T17:33:24.338119",
     "exception": false,
     "start_time": "2024-01-19T17:33:24.308698",
     "status": "completed"
    },
    "tags": []
   },
   "outputs": [],
   "source": [
    "X_train, X_test, y_train, y_test = train_test_split(data_train_final['text'], data_train_final['generated'], test_size=0.2, random_state=42)"
   ]
  },
  {
   "cell_type": "markdown",
   "id": "41b95d42",
   "metadata": {
    "papermill": {
     "duration": 0.018852,
     "end_time": "2024-01-19T17:33:24.375672",
     "exception": false,
     "start_time": "2024-01-19T17:33:24.356820",
     "status": "completed"
    },
    "tags": []
   },
   "source": [
    "* **Step 2: Vectorisation,Encoding & Feature Extraction**\n",
    "    * Vectorization: Refers to the process of converting data into a vector format that can be fed into a neural network\n",
    "    * TF-IDF (Term Frequency-Inverse Document Frequency): measures the importance of a word in a document by considering both its frequency (TF) and its rarity (IDF). \n",
    "    * IDF penalizes common words that appear in many documents, while TF highlights words that are more relevant to the specific document."
   ]
  },
  {
   "cell_type": "code",
   "execution_count": 18,
   "id": "1dc3c6b9",
   "metadata": {
    "execution": {
     "iopub.execute_input": "2024-01-19T17:33:24.413137Z",
     "iopub.status.busy": "2024-01-19T17:33:24.412817Z",
     "iopub.status.idle": "2024-01-19T17:33:26.208502Z",
     "shell.execute_reply": "2024-01-19T17:33:26.207630Z"
    },
    "papermill": {
     "duration": 1.817308,
     "end_time": "2024-01-19T17:33:26.211147",
     "exception": false,
     "start_time": "2024-01-19T17:33:24.393839",
     "status": "completed"
    },
    "tags": []
   },
   "outputs": [],
   "source": [
    "X_train, X_test, y_train, y_test = train_test_split(data_train_final['text'], data_train_final['generated'], test_size=0.2, random_state=42)\n",
    "vectorizer = TfidfVectorizer()\n",
    "X_train_tfidf = vectorizer.fit_transform(X_train)\n",
    "X_test_tfidf = vectorizer.transform(X_test)\n",
    "\n",
    "# Assigns a unique integer to each class in the label set\n",
    "label_encoder = LabelEncoder()\n",
    "y_train_encoded = label_encoder.fit_transform(y_train)\n",
    "y_test_encoded = label_encoder.transform(y_test)"
   ]
  },
  {
   "cell_type": "markdown",
   "id": "42d4f6be",
   "metadata": {
    "papermill": {
     "duration": 0.0186,
     "end_time": "2024-01-19T17:33:26.248668",
     "exception": false,
     "start_time": "2024-01-19T17:33:26.230068",
     "status": "completed"
    },
    "tags": []
   },
   "source": [
    "* **Step 4: Neural Network Model**\n",
    "    * The **First Layer** has 512 neurons, accepts an input with dimensions equal to the number of features obtained from the TF-IDF transformation\n",
    "        * NOTE: X_train_tfidf.shape[1] : accesses the second element of the tuple, which is the number of features.\n",
    "    * **Dropout** is a regularization technique used to ***prevent overfitting***\n",
    "        * NOTE: The dropout rate is a Hyperparameter that determines the fraction of input units to drop during trainingduring training, 50% of the input units will be randomly set to zero at each update.\n",
    "    * **Sigmoid** : the output represents the probability of the input belonging to class 1.\n",
    "    * **Compile** : configure the learning process of the model before training.\n"
   ]
  },
  {
   "cell_type": "code",
   "execution_count": 19,
   "id": "8373916f",
   "metadata": {
    "execution": {
     "iopub.execute_input": "2024-01-19T17:33:26.287593Z",
     "iopub.status.busy": "2024-01-19T17:33:26.287276Z",
     "iopub.status.idle": "2024-01-19T17:33:27.283702Z",
     "shell.execute_reply": "2024-01-19T17:33:27.282517Z"
    },
    "papermill": {
     "duration": 1.019577,
     "end_time": "2024-01-19T17:33:27.286999",
     "exception": false,
     "start_time": "2024-01-19T17:33:26.267422",
     "status": "completed"
    },
    "tags": []
   },
   "outputs": [],
   "source": [
    "model = Sequential()\n",
    "\n",
    "model.add(Dense(512, input_dim=X_train_tfidf.shape[1], activation='relu'))\n",
    "model.add(Dropout(0.5))\n",
    "\n",
    "model.add(Dense(256, activation='relu'))\n",
    "model.add(Dropout(0.5))\n",
    "\n",
    "model.add(Dense(1, activation='sigmoid'))\n",
    "\n",
    "model.compile(loss='binary_crossentropy', optimizer='adam', metrics=[Precision(), Recall()])"
   ]
  },
  {
   "cell_type": "markdown",
   "id": "6d4b5a25",
   "metadata": {
    "papermill": {
     "duration": 0.024126,
     "end_time": "2024-01-19T17:33:27.337410",
     "exception": false,
     "start_time": "2024-01-19T17:33:27.313284",
     "status": "completed"
    },
    "tags": []
   },
   "source": [
    "* **Step 5: Training the Model**\n",
    "    * The model is trained on the training set, and the validation set is used during training to tune hyperparameters and monitor the model's performance"
   ]
  },
  {
   "cell_type": "code",
   "execution_count": 20,
   "id": "fd099b6d",
   "metadata": {
    "execution": {
     "iopub.execute_input": "2024-01-19T17:33:27.382731Z",
     "iopub.status.busy": "2024-01-19T17:33:27.381434Z",
     "iopub.status.idle": "2024-01-19T17:33:40.499771Z",
     "shell.execute_reply": "2024-01-19T17:33:40.498619Z"
    },
    "papermill": {
     "duration": 13.143931,
     "end_time": "2024-01-19T17:33:40.502618",
     "exception": false,
     "start_time": "2024-01-19T17:33:27.358687",
     "status": "completed"
    },
    "tags": []
   },
   "outputs": [
    {
     "name": "stdout",
     "output_type": "stream",
     "text": [
      "Epoch 1/10\n",
      "94/94 [==============================] - 5s 11ms/step - loss: 0.2109 - precision: 0.9577 - recall: 0.8452 - val_loss: 0.0470 - val_precision: 0.9806 - val_recall: 0.9870\n",
      "Epoch 2/10\n",
      "94/94 [==============================] - 1s 7ms/step - loss: 0.0118 - precision: 0.9980 - recall: 0.9947 - val_loss: 0.0392 - val_precision: 0.9869 - val_recall: 0.9805\n",
      "Epoch 3/10\n",
      "94/94 [==============================] - 1s 6ms/step - loss: 0.0019 - precision: 1.0000 - recall: 0.9993 - val_loss: 0.0433 - val_precision: 0.9806 - val_recall: 0.9870\n",
      "Epoch 4/10\n",
      "94/94 [==============================] - 1s 7ms/step - loss: 4.1686e-04 - precision: 1.0000 - recall: 1.0000 - val_loss: 0.0478 - val_precision: 0.9806 - val_recall: 0.9870\n",
      "Epoch 5/10\n",
      "94/94 [==============================] - 1s 6ms/step - loss: 4.7776e-04 - precision: 1.0000 - recall: 1.0000 - val_loss: 0.0515 - val_precision: 0.9745 - val_recall: 0.9935\n",
      "Epoch 6/10\n",
      "94/94 [==============================] - 1s 6ms/step - loss: 1.9651e-04 - precision: 1.0000 - recall: 1.0000 - val_loss: 0.0433 - val_precision: 0.9806 - val_recall: 0.9870\n",
      "Epoch 7/10\n",
      "94/94 [==============================] - 1s 6ms/step - loss: 8.5789e-05 - precision: 1.0000 - recall: 1.0000 - val_loss: 0.0439 - val_precision: 0.9806 - val_recall: 0.9870\n",
      "Epoch 8/10\n",
      "94/94 [==============================] - 1s 6ms/step - loss: 8.2849e-05 - precision: 1.0000 - recall: 1.0000 - val_loss: 0.0456 - val_precision: 0.9806 - val_recall: 0.9870\n",
      "Epoch 9/10\n",
      "94/94 [==============================] - 1s 7ms/step - loss: 6.0482e-05 - precision: 1.0000 - recall: 1.0000 - val_loss: 0.0445 - val_precision: 0.9806 - val_recall: 0.9870\n",
      "Epoch 10/10\n",
      "94/94 [==============================] - 1s 6ms/step - loss: 5.1038e-05 - precision: 1.0000 - recall: 1.0000 - val_loss: 0.0465 - val_precision: 0.9806 - val_recall: 0.9870\n"
     ]
    },
    {
     "data": {
      "image/png": "[encoded data removed]",
      "text/plain": [
       "<Figure size 800x400 with 1 Axes>"
      ]
     },
     "metadata": {},
     "output_type": "display_data"
    }
   ],
   "source": [
    "history = model.fit(X_train_tfidf.toarray(), y_train_encoded, epochs=10, batch_size=32, validation_split=0.1)\n",
    "\n",
    "# Extract training and validation loss from the history\n",
    "train_loss = history.history['loss']\n",
    "val_loss = history.history['val_loss']\n",
    "# Plotting the training and validation loss with custom colors\n",
    "epochs = range(1, len(train_loss) + 1)\n",
    "plt.figure(figsize=(8, 4))\n",
    "plt.plot(epochs, train_loss, label='Training Loss', color='lightskyblue')  \n",
    "plt.plot(epochs, val_loss, label='Validation Loss', color='purple')\n",
    "\n",
    "# Customizing the plot appearance\n",
    "plt.title('Training and Validation Loss')\n",
    "plt.xlabel('Epochs')\n",
    "plt.ylabel('Loss')\n",
    "plt.legend()\n",
    "\n",
    "# Show the plot\n",
    "plt.show()"
   ]
  },
  {
   "cell_type": "markdown",
   "id": "ed93d344",
   "metadata": {
    "papermill": {
     "duration": 0.034679,
     "end_time": "2024-01-19T17:33:40.573858",
     "exception": false,
     "start_time": "2024-01-19T17:33:40.539179",
     "status": "completed"
    },
    "tags": []
   },
   "source": [
    "* **Step 6: Evaluation Of the Neural Network**"
   ]
  },
  {
   "cell_type": "code",
   "execution_count": 21,
   "id": "31cbfbcd",
   "metadata": {
    "execution": {
     "iopub.execute_input": "2024-01-19T17:33:40.640799Z",
     "iopub.status.busy": "2024-01-19T17:33:40.639979Z",
     "iopub.status.idle": "2024-01-19T17:33:41.530772Z",
     "shell.execute_reply": "2024-01-19T17:33:41.529691Z"
    },
    "papermill": {
     "duration": 0.927339,
     "end_time": "2024-01-19T17:33:41.533163",
     "exception": false,
     "start_time": "2024-01-19T17:33:40.605824",
     "status": "completed"
    },
    "tags": []
   },
   "outputs": [
    {
     "name": "stdout",
     "output_type": "stream",
     "text": [
      "26/26 [==============================] - 0s 2ms/step\n",
      "\n",
      " • Classification Report for Neural Network Model:\n",
      "              precision    recall  f1-score   support\n",
      "\n",
      "           0       1.00      0.99      0.99       410\n",
      "           1       0.99      1.00      0.99       420\n",
      "\n",
      "    accuracy                           0.99       830\n",
      "   macro avg       0.99      0.99      0.99       830\n",
      "weighted avg       0.99      0.99      0.99       830\n",
      "\n"
     ]
    },
    {
     "data": {
      "image/png": "[encoded data removed]",
      "text/plain": [
       "<Figure size 800x400 with 2 Axes>"
      ]
     },
     "metadata": {},
     "output_type": "display_data"
    }
   ],
   "source": [
    "# Make Predictions on the Test Set\n",
    "y_pred_proba = model.predict(X_test_tfidf.toarray())\n",
    "y_pred = (y_pred_proba > 0.5).astype(int)  # Convert probabilities to binary predictions\n",
    "\n",
    "# Generate Confusion Matrix and Plot it\n",
    "conf_matrix = confusion_matrix(y_test_encoded, y_pred)\n",
    "class_names = label_encoder.classes_\n",
    "\n",
    "plt.figure(figsize=(8, 4))\n",
    "plt.imshow(conf_matrix, interpolation='nearest', cmap=\"Purples\")\n",
    "plt.title('Confusion Matrix')\n",
    "plt.colorbar()\n",
    "\n",
    "tick_marks = np.arange(len(class_names))\n",
    "plt.xticks(tick_marks, class_names, rotation=45)\n",
    "plt.yticks(tick_marks, class_names)\n",
    "\n",
    "plt.xlabel('Predicted Values')\n",
    "plt.ylabel('Real Values')\n",
    "\n",
    "for i in range(len(class_names)):\n",
    "    for j in range(len(class_names)):\n",
    "        plt.text(j, i, f'{conf_matrix[i, j]}', ha='center', va='center', color='white' if conf_matrix[i, j] > (conf_matrix.max() / 2) else 'black')\n",
    "\n",
    "# Print the classification report\n",
    "print(\"\\n • Classification Report for Neural Network Model:\")\n",
    "print(classification_report(y_test_encoded, y_pred))\n",
    "\n",
    "plt.show()"
   ]
  },
  {
   "cell_type": "code",
   "execution_count": 22,
   "id": "32e78716",
   "metadata": {
    "execution": {
     "iopub.execute_input": "2024-01-19T17:33:41.601724Z",
     "iopub.status.busy": "2024-01-19T17:33:41.601003Z",
     "iopub.status.idle": "2024-01-19T17:33:41.693966Z",
     "shell.execute_reply": "2024-01-19T17:33:41.692722Z"
    },
    "papermill": {
     "duration": 0.129363,
     "end_time": "2024-01-19T17:33:41.696210",
     "exception": false,
     "start_time": "2024-01-19T17:33:41.566847",
     "status": "completed"
    },
    "tags": []
   },
   "outputs": [
    {
     "name": "stdout",
     "output_type": "stream",
     "text": [
      "1/1 [==============================] - 0s 23ms/step\n",
      "Results have been saved to: /kaggle/working/submission.csv\n"
     ]
    }
   ],
   "source": [
    "#Prediction for New Text\n",
    "new_text_tfidf = vectorizer.transform(df_test['text'])\n",
    "new_text_encoded = model.predict(new_text_tfidf.toarray())\n",
    "\n",
    "# #Create a PrettyTable instance\n",
    "# result_table = PrettyTable()\n",
    "# result_table.field_names = [\"Text_id\", \"Predictions\", \"Explanation_of_Prediction\"]\n",
    "\n",
    "# # Fill the table with results for each new text\n",
    "# for i in range(len(df_test)):\n",
    "#     text_id = df_test['essay_id'].iloc[i]\n",
    "#     Explanation_of_Prediction = new_text_encoded[i]\n",
    "#     prediction = 'AI Generated' if new_text_encoded[i] >= 0.5 else 'Human'\n",
    "#     result_table.add_row([text_id,Explanation_of_Prediction ,prediction])\n",
    "\n",
    "# # Print the result table\n",
    "# print(result_table)\n",
    "\n",
    "# Create a DataFrame directly from the original data\n",
    "result_df = pd.DataFrame({\n",
    "    \"Text_id\": df_test['essay_id'].tolist(),  # Ensure essay_id is a 1-dimensional list\n",
    "    \"Predictions\": new_text_encoded.flatten(),  # Ensure new_text_encoded is flattened to 1D\n",
    "    \"Explanation_of_Prediction\": ['AI Generated' if x >= 0.5 else 'Human' for x in new_text_encoded.flatten()]  # Flatten and process\n",
    "})\n",
    "\n",
    "# Specify the output file path\n",
    "output_file_path = '/kaggle/working/submission.csv'\n",
    "\n",
    "# Save the DataFrame to a CSV file\n",
    "result_df.to_csv(output_file_path, index=False)\n",
    "\n",
    "# Print a message indicating the file has been saved\n",
    "print(f\"Results have been saved to: {output_file_path}\")"
   ]
  },
  {
   "cell_type": "code",
   "execution_count": null,
   "id": "7faeccae",
   "metadata": {
    "papermill": {
     "duration": 0.032111,
     "end_time": "2024-01-19T17:33:41.762439",
     "exception": false,
     "start_time": "2024-01-19T17:33:41.730328",
     "status": "completed"
    },
    "tags": []
   },
   "outputs": [],
   "source": []
  }
 ],
 "metadata": {
  "kaggle": {
   "accelerator": "nvidiaTeslaT4",
   "dataSources": [
    {
     "databundleVersionId": 7516023,
     "sourceId": 61542,
     "sourceType": "competition"
    },
    {
     "datasetId": 3936750,
     "sourceId": 6847931,
     "sourceType": "datasetVersion"
    },
    {
     "datasetId": 3942644,
     "sourceId": 6890527,
     "sourceType": "datasetVersion"
    },
    {
     "datasetId": 4005256,
     "sourceId": 6977472,
     "sourceType": "datasetVersion"
    }
   ],
   "dockerImageVersionId": 30636,
   "isGpuEnabled": true,
   "isInternetEnabled": false,
   "language": "python",
   "sourceType": "notebook"
  },
  "kernelspec": {
   "display_name": "Python 3",
   "language": "python",
   "name": "python3"
  },
  "language_info": {
   "codemirror_mode": {
    "name": "ipython",
    "version": 3
   },
   "file_extension": ".py",
   "mimetype": "text/x-python",
   "name": "python",
   "nbconvert_exporter": "python",
   "pygments_lexer": "ipython3",
   "version": "3.10.12"
  },
  "papermill": {
   "default_parameters": {},
   "duration": 317.764908,
   "end_time": "2024-01-19T17:33:44.749391",
   "environment_variables": {},
   "exception": null,
   "input_path": "__notebook__.ipynb",
   "output_path": "__notebook__.ipynb",
   "parameters": {},
   "start_time": "2024-01-19T17:28:26.984483",
   "version": "2.4.0"
  }
 },
 "nbformat": 4,
 "nbformat_minor": 5
}
